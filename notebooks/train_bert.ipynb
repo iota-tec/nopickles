{
 "cells": [
  {
   "cell_type": "code",
   "execution_count": 2,
   "outputs": [],
   "source": [
    "import os\n",
    "# os.chdir('/content/drive/Othercomputers/AKATSUKI-PC/PycharmProjects/chatopotamus')"
   ],
   "metadata": {
    "collapsed": false,
    "ExecuteTime": {
     "end_time": "2023-11-22T08:02:27.960368300Z",
     "start_time": "2023-11-22T08:02:27.914342600Z"
    }
   },
   "id": "f160a803ee989f3b"
  },
  {
   "cell_type": "code",
   "execution_count": 3,
   "outputs": [],
   "source": [
    "import joblib\n",
    "from tensorflow import keras\n",
    "import json\n",
    "from typing import List, Tuple\n",
    "from transformers import AutoTokenizer, BertTokenizer, TFBertForTokenClassification, BertConfig\n",
    "import tensorflow as tf\n",
    "from src.training import bert_trainer\n",
    "import numpy as np"
   ],
   "metadata": {
    "collapsed": false,
    "ExecuteTime": {
     "end_time": "2023-11-22T08:02:41.456114300Z",
     "start_time": "2023-11-22T08:02:28.460555400Z"
    }
   },
   "id": "94a0413a7a2ffe33"
  },
  {
   "cell_type": "code",
   "execution_count": 4,
   "outputs": [],
   "source": [
    "os.chdir('C:\\\\Users\\\\thory\\\\PycharmProjects\\\\chatopotamus')"
   ],
   "metadata": {
    "collapsed": false,
    "ExecuteTime": {
     "end_time": "2023-11-22T08:02:41.484541200Z",
     "start_time": "2023-11-22T08:02:41.461624600Z"
    }
   },
   "id": "5778cde7d840d85c"
  },
  {
   "cell_type": "markdown",
   "source": [
    "**Load the Tokenizer and Dataset**"
   ],
   "metadata": {
    "collapsed": false
   },
   "id": "cb0eeb22c75a5a5b"
  },
  {
   "cell_type": "code",
   "execution_count": 5,
   "outputs": [],
   "source": [
    "# Load pre-trained model tokenizer\n",
    "tokenizer = AutoTokenizer.from_pretrained('bert-base-uncased', use_fast=True)\n",
    "\n",
    "# Load files\n",
    "with open('resources/bert/data/ner_dataset.json', 'r') as file:\n",
    "\tner_dataset_json = json.load(file)\n",
    "\n",
    "with open('resources/bert/data/ner_lookup.json', 'r') as file:\n",
    "\tner_lookup = json.load(file)"
   ],
   "metadata": {
    "collapsed": false,
    "ExecuteTime": {
     "end_time": "2023-11-22T08:02:43.074232700Z",
     "start_time": "2023-11-22T08:02:41.478542800Z"
    }
   },
   "id": "638a160f14d658b1"
  },
  {
   "cell_type": "markdown",
   "source": [
    "**Convert dataset into IOB tagged data**"
   ],
   "metadata": {
    "collapsed": false
   },
   "id": "9e459d9ac37544e"
  },
  {
   "cell_type": "code",
   "execution_count": 6,
   "outputs": [],
   "source": [
    "iob_data = bert_trainer.convert_to_IOB(ner_dataset_json, ner_lookup)"
   ],
   "metadata": {
    "collapsed": false,
    "ExecuteTime": {
     "end_time": "2023-11-22T08:02:43.262236800Z",
     "start_time": "2023-11-22T08:02:43.076740500Z"
    }
   },
   "id": "650af7ed0f1767d1"
  },
  {
   "cell_type": "code",
   "execution_count": 7,
   "outputs": [
    {
     "data": {
      "text/plain": "('give me a hot chocolate no whipped topping and a grilled cheese sandwich',\n ['O',\n  'O',\n  'O',\n  'B-beverage',\n  'I-beverage',\n  'O',\n  'B-beverage_modifier',\n  'I-beverage_modifier',\n  'O',\n  'O',\n  'B-food',\n  'I-food',\n  'O'])"
     },
     "execution_count": 7,
     "metadata": {},
     "output_type": "execute_result"
    }
   ],
   "source": [
    "iob_data[2]"
   ],
   "metadata": {
    "collapsed": false,
    "ExecuteTime": {
     "end_time": "2023-11-22T08:02:43.278265200Z",
     "start_time": "2023-11-22T08:02:43.265232100Z"
    }
   },
   "id": "d15fab5b77944c40"
  },
  {
   "cell_type": "markdown",
   "source": [
    "**Tokenization and Handling Subword Tokens**"
   ],
   "metadata": {
    "collapsed": false
   },
   "id": "c9f7ccab7b593a9e"
  },
  {
   "cell_type": "code",
   "execution_count": 8,
   "outputs": [],
   "source": [
    "final_data = []\n",
    "for sentence, tags in iob_data:\n",
    "\tfinal_data.append(bert_trainer.align_tokens_and_tags(sentence,tags, tokenizer))"
   ],
   "metadata": {
    "collapsed": false,
    "ExecuteTime": {
     "end_time": "2023-11-22T08:02:44.743651700Z",
     "start_time": "2023-11-22T08:02:43.281273900Z"
    }
   },
   "id": "7829fe8d35baff11"
  },
  {
   "cell_type": "code",
   "execution_count": 9,
   "outputs": [
    {
     "data": {
      "text/plain": "[('i', 'O', 1045),\n ('ordered', 'O', 3641),\n ('a', 'O', 1037),\n ('medium', 'B-beverage_size', 5396),\n ('double', 'B-beverage_modifier', 3313),\n ('double', 'I-beverage_modifier', 3313),\n ('and', 'O', 1998),\n ('a', 'O', 1037),\n ('boston', 'O', 3731),\n ('cream', 'O', 6949),\n ('don', 'B-food', 2123),\n ('##ut', 'I-food', 4904),\n ('from', 'O', 2013),\n ('tim', 'O', 5199),\n ('horton', 'O', 18469),\n ('##s', 'O', 2015)]"
     },
     "execution_count": 9,
     "metadata": {},
     "output_type": "execute_result"
    }
   ],
   "source": [
    "final_data[0]"
   ],
   "metadata": {
    "collapsed": false,
    "ExecuteTime": {
     "end_time": "2023-11-22T08:02:44.757675700Z",
     "start_time": "2023-11-22T08:02:44.750168Z"
    }
   },
   "id": "e849e3cf419a201c"
  },
  {
   "cell_type": "markdown",
   "source": [
    "**Preprocessing**"
   ],
   "metadata": {
    "collapsed": false
   },
   "id": "d404f61017ba394f"
  },
  {
   "cell_type": "code",
   "execution_count": 10,
   "outputs": [
    {
     "data": {
      "text/plain": "26"
     },
     "execution_count": 10,
     "metadata": {},
     "output_type": "execute_result"
    }
   ],
   "source": [
    "max_len=0\n",
    "for sent in final_data:\n",
    "    max_len = len(sent) if len(sent)>max_len else max_len\n",
    "\n",
    "max_len"
   ],
   "metadata": {
    "collapsed": false,
    "ExecuteTime": {
     "end_time": "2023-11-22T08:02:44.864899800Z",
     "start_time": "2023-11-22T08:02:44.761686Z"
    }
   },
   "id": "c6ff703e8298169d"
  },
  {
   "cell_type": "code",
   "execution_count": 11,
   "outputs": [],
   "source": [
    "prepped_data = bert_trainer.preprocess_for_training(final_data, max_seq_length=max_len)"
   ],
   "metadata": {
    "collapsed": false,
    "ExecuteTime": {
     "end_time": "2023-11-22T08:02:46.459213400Z",
     "start_time": "2023-11-22T08:02:46.122918200Z"
    }
   },
   "id": "77315fafa48281b4"
  },
  {
   "cell_type": "code",
   "execution_count": 12,
   "outputs": [
    {
     "name": "stdout",
     "output_type": "stream",
     "text": [
      "tf.Tensor(\n",
      "[[[0. 0. 0. ... 0. 0. 1.]\n",
      "  [0. 0. 0. ... 0. 1. 0.]\n",
      "  [0. 0. 0. ... 0. 0. 0.]\n",
      "  ...\n",
      "  [0. 0. 0. ... 0. 0. 0.]\n",
      "  [0. 0. 0. ... 0. 0. 0.]\n",
      "  [0. 0. 0. ... 0. 0. 0.]]\n",
      "\n",
      " [[0. 0. 0. ... 0. 0. 1.]\n",
      "  [0. 0. 0. ... 0. 1. 0.]\n",
      "  [0. 0. 0. ... 1. 0. 0.]\n",
      "  ...\n",
      "  [0. 0. 0. ... 0. 0. 0.]\n",
      "  [0. 0. 0. ... 0. 0. 0.]\n",
      "  [0. 0. 0. ... 0. 0. 0.]]\n",
      "\n",
      " [[0. 0. 0. ... 0. 0. 1.]\n",
      "  [0. 0. 0. ... 0. 0. 1.]\n",
      "  [0. 0. 0. ... 0. 0. 1.]\n",
      "  ...\n",
      "  [0. 0. 0. ... 0. 0. 0.]\n",
      "  [0. 0. 0. ... 0. 0. 0.]\n",
      "  [0. 0. 0. ... 0. 0. 0.]]\n",
      "\n",
      " ...\n",
      "\n",
      " [[0. 0. 0. ... 0. 0. 1.]\n",
      "  [0. 0. 0. ... 0. 0. 1.]\n",
      "  [0. 0. 0. ... 0. 0. 1.]\n",
      "  ...\n",
      "  [0. 0. 0. ... 0. 0. 0.]\n",
      "  [0. 0. 0. ... 0. 0. 0.]\n",
      "  [0. 0. 0. ... 0. 0. 0.]]\n",
      "\n",
      " [[0. 0. 0. ... 0. 0. 1.]\n",
      "  [0. 0. 0. ... 0. 0. 1.]\n",
      "  [0. 0. 0. ... 0. 0. 1.]\n",
      "  ...\n",
      "  [0. 0. 0. ... 0. 0. 0.]\n",
      "  [0. 0. 0. ... 0. 0. 0.]\n",
      "  [0. 0. 0. ... 0. 0. 0.]]\n",
      "\n",
      " [[0. 0. 0. ... 0. 0. 1.]\n",
      "  [0. 0. 0. ... 0. 0. 1.]\n",
      "  [0. 0. 0. ... 0. 0. 1.]\n",
      "  ...\n",
      "  [0. 0. 0. ... 0. 0. 0.]\n",
      "  [0. 0. 0. ... 0. 0. 0.]\n",
      "  [0. 0. 0. ... 0. 0. 0.]]], shape=(32, 26, 15), dtype=float32)\n"
     ]
    }
   ],
   "source": [
    "for i in prepped_data.take(1):\n",
    "    print(i[1])"
   ],
   "metadata": {
    "collapsed": false,
    "ExecuteTime": {
     "end_time": "2023-11-22T08:02:46.544562300Z",
     "start_time": "2023-11-22T08:02:46.479365200Z"
    }
   },
   "id": "d8eb9896b6217b09"
  },
  {
   "cell_type": "code",
   "execution_count": 13,
   "outputs": [
    {
     "data": {
      "text/plain": "17"
     },
     "execution_count": 13,
     "metadata": {},
     "output_type": "execute_result"
    }
   ],
   "source": [
    "len(final_data[3])"
   ],
   "metadata": {
    "collapsed": false,
    "ExecuteTime": {
     "end_time": "2023-11-22T08:02:46.560753500Z",
     "start_time": "2023-11-22T08:02:46.549154700Z"
    }
   },
   "id": "da984fedf157894a"
  },
  {
   "cell_type": "code",
   "execution_count": 14,
   "outputs": [
    {
     "name": "stdout",
     "output_type": "stream",
     "text": [
      "({'input_ids': <tf.Tensor: shape=(32, 26), dtype=int32, numpy=\n",
      "array([[ 2064,  1045,  2031,  1037,  2235,  2137,  2080,  5699, 23301,\n",
      "         1998,  1037,  1038,  7096,  2007,  4469, 11611,     0,     0,\n",
      "            0,     0,     0,     0,     0,     0,     0,     0],\n",
      "       [ 2507,  2033,  1037,  2235,  9587,  7507,  2007, 12428, 22286,\n",
      "         1998,  5199, 16313,  2015,     0,     0,     0,     0,     0,\n",
      "            0,     0,     0,     0,     0,     0,     0,     0],\n",
      "       [ 1996,  2235,  2413, 21161,  2001,  2205,  4086,  1998,  1996,\n",
      "         6090,  5498,  2001,  4394, 12760,     0,     0,     0,     0,\n",
      "            0,     0,     0,     0,     0,     0,     0,     0],\n",
      "       [ 1996,  4469,  2312,  9587,  7507,  1045,  3641,  2001,  2025,\n",
      "         2980,  2438,  1998,  1996,  4524,  2884,  2001,  4394, 20856,\n",
      "            0,     0,     0,     0,     0,     0,     0,     0],\n",
      "       [ 2026,  2312,  2474,  4674,  2001,  2205,  2980,  1998,  1996,\n",
      "        14163, 15379,  2347,  2102, 15174,  2098,  2438,     0,     0,\n",
      "            0,     0,     0,     0,     0,     0,     0,     0],\n",
      "       [ 8909,  2066,  1037,  5396,  2413, 21161,  2007,  2053,  5699,\n",
      "         1998,  1037,  6090,  5498,  2007,  4469,  8808,     0,     0,\n",
      "            0,     0,     0,     0,     0,     0,     0,     0],\n",
      "       [ 1996,  5396,  5572,  1045,  3641,  2001,  1996,  3308,  2344,\n",
      "         1998,  1996, 13675, 10054, 22341,  2001,  1996,  3308,  8875,\n",
      "            0,     0,     0,     0,     0,     0,     0,     0],\n",
      "       [ 1045,  2215,  1037,  2312,  2317,  7967,  2053,  5699,  1998,\n",
      "         1037,  4977, 11611,  2252,  2007,  4469, 12901,     0,     0,\n",
      "            0,     0,     0,     0,     0,     0,     0,     0],\n",
      "       [ 1045,  2363,  1037,  2235,  5572,  2612,  1997,  1996,  5396,\n",
      "         2028,  1045,  3641,  1998,  1996,  2123,  4904,  2001,  1996,\n",
      "         3308,  8875,     0,     0,     0,     0,     0,     0],\n",
      "       [ 1996,  2312, 28248,  6178,  2361,  1045,  3641,  2001,  2205,\n",
      "         4086,  1998,  1996, 11350,  2001,  2205, 23592,     0,     0,\n",
      "            0,     0,     0,     0,     0,     0,     0,     0],\n",
      "       [ 1996,  5396,  2601, 25043,  4157,  1045,  3641,  2001,  2205,\n",
      "         4086,  1998,  1996, 13675, 10054, 22341,  2001,  2025, 15174,\n",
      "         2098,  2438,     0,     0,     0,     0,     0,     0],\n",
      "       [ 2064,  1045,  2031,  2019,  4469,  2312,  2474,  4674,  2007,\n",
      "         2019,  4469,  2915,  1998,  1037,  4977, 11611,  2252,  2053,\n",
      "        11611,     0,     0,     0,     0,     0,     0,     0],\n",
      "       [ 2064,  1045,  2131,  1037,  2235,  2137,  2080,  2007,  2019,\n",
      "         4469,  2915,  1998,  1037,  7975, 10236,  4469,  8110,     0,\n",
      "            0,     0,     0,     0,     0,     0,     0,     0],\n",
      "       [ 2064,  1045,  2131,  1037,  2235,  6178, 14289, 14693,  3630,\n",
      "         2007,  2019,  4469,  2915,  1998,  1037,  7975, 10236,  2053,\n",
      "         8110,     0,     0,     0,     0,     0,     0,     0],\n",
      "       [ 2026,  5396,  2980,  7967,  2001,  2025,  2980,  2438,  1998,\n",
      "         1996, 14163, 15379,  2001,  2205,  4318,     0,     0,     0,\n",
      "            0,     0,     0,     0,     0,     0,     0,     0],\n",
      "       [ 5665,  2031,  1037,  5396,  2413, 21161,  2007,  8301,  2213,\n",
      "         6501,  1998,  1037, 11350,  3531,     0,     0,     0,     0,\n",
      "            0,     0,     0,     0,     0,     0,     0,     0],\n",
      "       [ 1045,  2215,  2019,  4469,  2312, 28248,  4157,  2007,  2053,\n",
      "         5699,  1998,  1037,  7975, 10236, 26192,  2094,     0,     0,\n",
      "            0,     0,     0,     0,     0,     0,     0,     0],\n",
      "       [ 2064,  1045,  2131,  1037,  2235,  2980,  7967,  3313,  3313,\n",
      "         1998,  1037,  1038,  7096,  2053, 20856,     0,     0,     0,\n",
      "            0,     0,     0,     0,     0,     0,     0,     0],\n",
      "       [ 5665,  2031,  1037,  5396, 28248,  6178,  2361,  2007, 25176,\n",
      "         6501,  1998,  1037,  2123,  4904,  2053, 22286,     0,     0,\n",
      "            0,     0,     0,     0,     0,     0,     0,     0],\n",
      "       [ 1996,  5396,  2980,  7967,  1045,  3641,  2001,  2025,  2980,\n",
      "         2438,  1998,  1996,  1038,  7096, 11642,  2001,  4394, 12760,\n",
      "            0,     0,     0,     0,     0,     0,     0,     0],\n",
      "       [ 2064,  1045,  2131,  1037,  2235,  9686, 20110,  2080,  2007,\n",
      "        25176,  6501,  1998,  1037,  6090,  5498, 26192,  2094,  2007,\n",
      "         4469, 12901,     0,     0,     0,     0,     0,     0],\n",
      "       [ 2064,  1045,  2031,  2019,  4469,  2312,  2137,  2080,  2007,\n",
      "         8301,  2213,  6501,  1998,  1037,  4524,  2884,  2053, 22286,\n",
      "            0,     0,     0,     0,     0,     0,     0,     0],\n",
      "       [ 1996,  5396,  9686, 20110,  2080,  1045,  3641,  2001,  2025,\n",
      "         2980,  2438,  1998,  1996,  1038,  7096, 11642,  2001,  4394,\n",
      "        20856,     0,     0,     0,     0,     0,     0,     0],\n",
      "       [ 2064,  1045,  2131,  1037,  2235,  9686, 20110,  2080,  2007,\n",
      "         2019,  4469,  2915,  1998,  1037,  1038,  7096,  4469, 11611,\n",
      "            0,     0,     0,     0,     0,     0,     0,     0],\n",
      "       [ 8909,  2066,  1037,  2312,  2137,  2080,  2007, 25176,  6501,\n",
      "         1998,  1037,  4977, 11611,  2252, 11642,  2053,  8808,     0,\n",
      "            0,     0,     0,     0,     0,     0,     0,     0],\n",
      "       [ 2026,  4469,  2312,  5572,  2001,  2205,  8618,  1998,  1996,\n",
      "        14163, 15379,  2001,  2205,  4318,     0,     0,     0,     0,\n",
      "            0,     0,     0,     0,     0,     0,     0,     0],\n",
      "       [ 8909,  2066,  1037,  2235,  9587,  7507,  2007,  2019,  4469,\n",
      "         2915,  1998,  1037,  4524,  2884,  2007,  6949,  8808,     0,\n",
      "            0,     0,     0,     0,     0,     0,     0,     0],\n",
      "       [ 2026,  5396,  9686, 20110,  2080,  2001,  2205,  3147,  1998,\n",
      "         1996, 26192,  2094,  8808,  2001,  2205,  4318,     0,     0,\n",
      "            0,     0,     0,     0,     0,     0,     0,     0],\n",
      "       [ 2064,  1045,  2031,  2019,  4469,  2312,  2413, 21161,  2007,\n",
      "         8301,  2213,  6501,  1998,  1037,  4524,  2884,  4469, 11611,\n",
      "            0,     0,     0,     0,     0,     0,     0,     0],\n",
      "       [ 2026,  2312,  9686, 20110,  2080,  2001,  2205,  3147,  1998,\n",
      "         1996, 13675, 10054, 22341,  2001,  2205,  4318,     0,     0,\n",
      "            0,     0,     0,     0,     0,     0,     0,     0],\n",
      "       [ 2026,  2312,  2474,  4674,  2001,  2205,  4086,  1998,  1996,\n",
      "         1038,  7096,  2001,  4394, 11611,     0,     0,     0,     0,\n",
      "            0,     0,     0,     0,     0,     0,     0,     0],\n",
      "       [ 2026,  2312,  2317,  7967,  2001,  2205,  3147,  1998,  1996,\n",
      "         4977, 11611,  2252, 11642,  2001,  1996,  3308,  8875,     0,\n",
      "            0,     0,     0,     0,     0,     0,     0,     0]])>, 'attention_mask': <tf.Tensor: shape=(32, 26), dtype=int32, numpy=\n",
      "array([[1, 1, 1, 1, 1, 1, 1, 1, 1, 1, 1, 1, 1, 1, 1, 1, 0, 0, 0, 0, 0, 0,\n",
      "        0, 0, 0, 0],\n",
      "       [1, 1, 1, 1, 1, 1, 1, 1, 1, 1, 1, 1, 1, 0, 0, 0, 0, 0, 0, 0, 0, 0,\n",
      "        0, 0, 0, 0],\n",
      "       [1, 1, 1, 1, 1, 1, 1, 1, 1, 1, 1, 1, 1, 1, 0, 0, 0, 0, 0, 0, 0, 0,\n",
      "        0, 0, 0, 0],\n",
      "       [1, 1, 1, 1, 1, 1, 1, 1, 1, 1, 1, 1, 1, 1, 1, 1, 1, 1, 0, 0, 0, 0,\n",
      "        0, 0, 0, 0],\n",
      "       [1, 1, 1, 1, 1, 1, 1, 1, 1, 1, 1, 1, 1, 1, 1, 1, 0, 0, 0, 0, 0, 0,\n",
      "        0, 0, 0, 0],\n",
      "       [1, 1, 1, 1, 1, 1, 1, 1, 1, 1, 1, 1, 1, 1, 1, 1, 0, 0, 0, 0, 0, 0,\n",
      "        0, 0, 0, 0],\n",
      "       [1, 1, 1, 1, 1, 1, 1, 1, 1, 1, 1, 1, 1, 1, 1, 1, 1, 1, 0, 0, 0, 0,\n",
      "        0, 0, 0, 0],\n",
      "       [1, 1, 1, 1, 1, 1, 1, 1, 1, 1, 1, 1, 1, 1, 1, 1, 0, 0, 0, 0, 0, 0,\n",
      "        0, 0, 0, 0],\n",
      "       [1, 1, 1, 1, 1, 1, 1, 1, 1, 1, 1, 1, 1, 1, 1, 1, 1, 1, 1, 1, 0, 0,\n",
      "        0, 0, 0, 0],\n",
      "       [1, 1, 1, 1, 1, 1, 1, 1, 1, 1, 1, 1, 1, 1, 1, 1, 0, 0, 0, 0, 0, 0,\n",
      "        0, 0, 0, 0],\n",
      "       [1, 1, 1, 1, 1, 1, 1, 1, 1, 1, 1, 1, 1, 1, 1, 1, 1, 1, 1, 1, 0, 0,\n",
      "        0, 0, 0, 0],\n",
      "       [1, 1, 1, 1, 1, 1, 1, 1, 1, 1, 1, 1, 1, 1, 1, 1, 1, 1, 1, 0, 0, 0,\n",
      "        0, 0, 0, 0],\n",
      "       [1, 1, 1, 1, 1, 1, 1, 1, 1, 1, 1, 1, 1, 1, 1, 1, 1, 0, 0, 0, 0, 0,\n",
      "        0, 0, 0, 0],\n",
      "       [1, 1, 1, 1, 1, 1, 1, 1, 1, 1, 1, 1, 1, 1, 1, 1, 1, 1, 1, 0, 0, 0,\n",
      "        0, 0, 0, 0],\n",
      "       [1, 1, 1, 1, 1, 1, 1, 1, 1, 1, 1, 1, 1, 1, 1, 0, 0, 0, 0, 0, 0, 0,\n",
      "        0, 0, 0, 0],\n",
      "       [1, 1, 1, 1, 1, 1, 1, 1, 1, 1, 1, 1, 1, 1, 0, 0, 0, 0, 0, 0, 0, 0,\n",
      "        0, 0, 0, 0],\n",
      "       [1, 1, 1, 1, 1, 1, 1, 1, 1, 1, 1, 1, 1, 1, 1, 1, 0, 0, 0, 0, 0, 0,\n",
      "        0, 0, 0, 0],\n",
      "       [1, 1, 1, 1, 1, 1, 1, 1, 1, 1, 1, 1, 1, 1, 1, 0, 0, 0, 0, 0, 0, 0,\n",
      "        0, 0, 0, 0],\n",
      "       [1, 1, 1, 1, 1, 1, 1, 1, 1, 1, 1, 1, 1, 1, 1, 1, 0, 0, 0, 0, 0, 0,\n",
      "        0, 0, 0, 0],\n",
      "       [1, 1, 1, 1, 1, 1, 1, 1, 1, 1, 1, 1, 1, 1, 1, 1, 1, 1, 0, 0, 0, 0,\n",
      "        0, 0, 0, 0],\n",
      "       [1, 1, 1, 1, 1, 1, 1, 1, 1, 1, 1, 1, 1, 1, 1, 1, 1, 1, 1, 1, 0, 0,\n",
      "        0, 0, 0, 0],\n",
      "       [1, 1, 1, 1, 1, 1, 1, 1, 1, 1, 1, 1, 1, 1, 1, 1, 1, 1, 0, 0, 0, 0,\n",
      "        0, 0, 0, 0],\n",
      "       [1, 1, 1, 1, 1, 1, 1, 1, 1, 1, 1, 1, 1, 1, 1, 1, 1, 1, 1, 0, 0, 0,\n",
      "        0, 0, 0, 0],\n",
      "       [1, 1, 1, 1, 1, 1, 1, 1, 1, 1, 1, 1, 1, 1, 1, 1, 1, 1, 0, 0, 0, 0,\n",
      "        0, 0, 0, 0],\n",
      "       [1, 1, 1, 1, 1, 1, 1, 1, 1, 1, 1, 1, 1, 1, 1, 1, 1, 0, 0, 0, 0, 0,\n",
      "        0, 0, 0, 0],\n",
      "       [1, 1, 1, 1, 1, 1, 1, 1, 1, 1, 1, 1, 1, 1, 0, 0, 0, 0, 0, 0, 0, 0,\n",
      "        0, 0, 0, 0],\n",
      "       [1, 1, 1, 1, 1, 1, 1, 1, 1, 1, 1, 1, 1, 1, 1, 1, 1, 0, 0, 0, 0, 0,\n",
      "        0, 0, 0, 0],\n",
      "       [1, 1, 1, 1, 1, 1, 1, 1, 1, 1, 1, 1, 1, 1, 1, 1, 0, 0, 0, 0, 0, 0,\n",
      "        0, 0, 0, 0],\n",
      "       [1, 1, 1, 1, 1, 1, 1, 1, 1, 1, 1, 1, 1, 1, 1, 1, 1, 1, 0, 0, 0, 0,\n",
      "        0, 0, 0, 0],\n",
      "       [1, 1, 1, 1, 1, 1, 1, 1, 1, 1, 1, 1, 1, 1, 1, 1, 0, 0, 0, 0, 0, 0,\n",
      "        0, 0, 0, 0],\n",
      "       [1, 1, 1, 1, 1, 1, 1, 1, 1, 1, 1, 1, 1, 1, 0, 0, 0, 0, 0, 0, 0, 0,\n",
      "        0, 0, 0, 0],\n",
      "       [1, 1, 1, 1, 1, 1, 1, 1, 1, 1, 1, 1, 1, 1, 1, 1, 1, 0, 0, 0, 0, 0,\n",
      "        0, 0, 0, 0]])>}, <tf.Tensor: shape=(32, 26, 15), dtype=float32, numpy=\n",
      "array([[[0., 0., 0., ..., 0., 0., 1.],\n",
      "        [0., 0., 0., ..., 0., 0., 1.],\n",
      "        [0., 0., 0., ..., 0., 0., 1.],\n",
      "        ...,\n",
      "        [0., 0., 0., ..., 0., 0., 0.],\n",
      "        [0., 0., 0., ..., 0., 0., 0.],\n",
      "        [0., 0., 0., ..., 0., 0., 0.]],\n",
      "\n",
      "       [[0., 0., 0., ..., 0., 0., 1.],\n",
      "        [0., 0., 0., ..., 0., 0., 1.],\n",
      "        [0., 0., 0., ..., 0., 0., 1.],\n",
      "        ...,\n",
      "        [0., 0., 0., ..., 0., 0., 0.],\n",
      "        [0., 0., 0., ..., 0., 0., 0.],\n",
      "        [0., 0., 0., ..., 0., 0., 0.]],\n",
      "\n",
      "       [[0., 0., 0., ..., 0., 0., 1.],\n",
      "        [0., 0., 0., ..., 0., 1., 0.],\n",
      "        [0., 0., 0., ..., 1., 0., 0.],\n",
      "        ...,\n",
      "        [0., 0., 0., ..., 0., 0., 0.],\n",
      "        [0., 0., 0., ..., 0., 0., 0.],\n",
      "        [0., 0., 0., ..., 0., 0., 0.]],\n",
      "\n",
      "       ...,\n",
      "\n",
      "       [[0., 0., 0., ..., 0., 0., 1.],\n",
      "        [0., 0., 0., ..., 0., 1., 0.],\n",
      "        [0., 0., 0., ..., 1., 0., 0.],\n",
      "        ...,\n",
      "        [0., 0., 0., ..., 0., 0., 0.],\n",
      "        [0., 0., 0., ..., 0., 0., 0.],\n",
      "        [0., 0., 0., ..., 0., 0., 0.]],\n",
      "\n",
      "       [[0., 0., 0., ..., 0., 0., 1.],\n",
      "        [0., 0., 0., ..., 0., 1., 0.],\n",
      "        [0., 0., 0., ..., 1., 0., 0.],\n",
      "        ...,\n",
      "        [0., 0., 0., ..., 0., 0., 0.],\n",
      "        [0., 0., 0., ..., 0., 0., 0.],\n",
      "        [0., 0., 0., ..., 0., 0., 0.]],\n",
      "\n",
      "       [[0., 0., 0., ..., 0., 0., 1.],\n",
      "        [0., 0., 0., ..., 0., 1., 0.],\n",
      "        [0., 0., 0., ..., 1., 0., 0.],\n",
      "        ...,\n",
      "        [0., 0., 0., ..., 0., 0., 0.],\n",
      "        [0., 0., 0., ..., 0., 0., 0.],\n",
      "        [0., 0., 0., ..., 0., 0., 0.]]], dtype=float32)>)\n"
     ]
    }
   ],
   "source": [
    "for i in prepped_data.take(1):\n",
    "\tprint(i)"
   ],
   "metadata": {
    "collapsed": false,
    "ExecuteTime": {
     "end_time": "2023-11-22T08:02:46.681516400Z",
     "start_time": "2023-11-22T08:02:46.562739500Z"
    }
   },
   "id": "eb5e55cee3988673"
  },
  {
   "cell_type": "code",
   "execution_count": 15,
   "outputs": [
    {
     "data": {
      "text/plain": "<PrefetchDataset element_spec=({'input_ids': TensorSpec(shape=(None, 26), dtype=tf.int32, name=None), 'attention_mask': TensorSpec(shape=(None, 26), dtype=tf.int32, name=None)}, TensorSpec(shape=(None, 26, 15), dtype=tf.float32, name=None))>"
     },
     "execution_count": 15,
     "metadata": {},
     "output_type": "execute_result"
    }
   ],
   "source": [
    "prepped_data"
   ],
   "metadata": {
    "collapsed": false,
    "ExecuteTime": {
     "end_time": "2023-11-22T08:02:46.683516Z",
     "start_time": "2023-11-22T08:02:46.610927800Z"
    }
   },
   "id": "8b727c395d8b7c55"
  },
  {
   "cell_type": "markdown",
   "source": [
    "**Train-Test Split**"
   ],
   "metadata": {
    "collapsed": false
   },
   "id": "8b71c4df04a6de5e"
  },
  {
   "cell_type": "code",
   "execution_count": 16,
   "outputs": [],
   "source": [
    "total_size = 0\n",
    "for _ in prepped_data:\n",
    "    total_size += 1\n",
    "\n",
    "train_size = int(0.6 * total_size)\n",
    "val_size = int(0.2 * total_size)\n",
    "test_size = total_size - train_size - val_size\n",
    "\n",
    "train_dataset = prepped_data.take(train_size+val_size)\n",
    "val_dataset = train_dataset.skip(train_size)\n",
    "test_dataset = prepped_data.skip(train_size)"
   ],
   "metadata": {
    "collapsed": false,
    "ExecuteTime": {
     "end_time": "2023-11-22T08:02:46.684535800Z",
     "start_time": "2023-11-22T08:02:46.630032500Z"
    }
   },
   "id": "5088b5a27d3699e5"
  },
  {
   "cell_type": "code",
   "execution_count": 17,
   "outputs": [
    {
     "data": {
      "text/plain": "(21, 7, 7)"
     },
     "execution_count": 17,
     "metadata": {},
     "output_type": "execute_result"
    }
   ],
   "source": [
    "train_size, val_size, test_size"
   ],
   "metadata": {
    "collapsed": false,
    "ExecuteTime": {
     "end_time": "2023-11-22T08:02:46.791844700Z",
     "start_time": "2023-11-22T08:02:46.689066300Z"
    }
   },
   "id": "9bd69c0b9e010f7c"
  },
  {
   "cell_type": "markdown",
   "source": [
    "**Training**"
   ],
   "metadata": {
    "collapsed": false
   },
   "id": "4654de7f71cd72e9"
  },
  {
   "cell_type": "code",
   "execution_count": null,
   "outputs": [],
   "source": [
    "num_labels = len(set([tag for sentence in final_data for _, tag, _ in sentence]))\n",
    "config = BertConfig.from_pretrained('bert-base-uncased', num_labels=num_labels)\n",
    "model = TFBertForTokenClassification.from_pretrained('bert-base-uncased', config=config)"
   ],
   "metadata": {
    "collapsed": false
   },
   "id": "7b48929d90c74d11"
  },
  {
   "cell_type": "code",
   "execution_count": 19,
   "outputs": [],
   "source": [
    "optimizer = keras.optimizers.Adam(learning_rate=5e-5)\n",
    "loss = keras.losses.CategoricalCrossentropy(from_logits=True)\n",
    "metrics = [keras.metrics.Precision(), keras.metrics.Recall(), bert_trainer.F1Score()]"
   ],
   "metadata": {
    "collapsed": false,
    "ExecuteTime": {
     "end_time": "2023-11-22T08:02:50.681527700Z",
     "start_time": "2023-11-22T08:02:50.622384Z"
    }
   },
   "id": "29933dba77a5bac4"
  },
  {
   "cell_type": "code",
   "execution_count": 20,
   "outputs": [],
   "source": [
    "callbacks = [\n",
    "    #keras.callbacks.ModelCheckpoint(filepath='resources/bert/checkpoints/model.{epoch:02d}-{val_loss:.2f}.h5', save_weights_only=True),\n",
    "    keras.callbacks.EarlyStopping(monitor='val_loss', patience=10)\n",
    "]"
   ],
   "metadata": {
    "collapsed": false,
    "ExecuteTime": {
     "end_time": "2023-11-22T08:02:50.683534300Z",
     "start_time": "2023-11-22T08:02:50.659489800Z"
    }
   },
   "id": "80b7f2e60ce036fc"
  },
  {
   "cell_type": "code",
   "execution_count": 21,
   "outputs": [],
   "source": [
    "model.compile(optimizer=optimizer, loss=loss, metrics=metrics)"
   ],
   "metadata": {
    "collapsed": false,
    "ExecuteTime": {
     "end_time": "2023-11-22T08:03:01.854283100Z",
     "start_time": "2023-11-22T08:03:01.664371Z"
    }
   },
   "id": "f4154941089f14b9"
  },
  {
   "cell_type": "code",
   "execution_count": 22,
   "outputs": [
    {
     "data": {
      "text/plain": "<keras.layers.core.dense.Dense at 0x1fd0ed426a0>"
     },
     "execution_count": 22,
     "metadata": {},
     "output_type": "execute_result"
    }
   ],
   "source": [
    "model.layers[-1]"
   ],
   "metadata": {
    "collapsed": false,
    "ExecuteTime": {
     "end_time": "2023-11-22T08:03:02.576147500Z",
     "start_time": "2023-11-22T08:03:02.557021100Z"
    }
   },
   "id": "94a9c739b5eebe8"
  },
  {
   "cell_type": "code",
   "execution_count": null,
   "outputs": [],
   "source": [
    "history_round_1 = model.fit(train_dataset, epochs=1, validation_data=val_dataset, callbacks=callbacks, verbose=2)"
   ],
   "metadata": {
    "collapsed": false
   },
   "id": "4161fc38d9f9596a"
  },
  {
   "cell_type": "code",
   "execution_count": null,
   "outputs": [],
   "source": [],
   "metadata": {
    "collapsed": false
   }
  },
  {
   "cell_type": "code",
   "execution_count": null,
   "outputs": [],
   "source": [],
   "metadata": {
    "collapsed": false
   }
  },
  {
   "cell_type": "markdown",
   "source": [
    "**For Reloading/Saving**"
   ],
   "metadata": {
    "collapsed": false
   },
   "id": "b5c00294ec543ee"
  },
  {
   "cell_type": "code",
   "execution_count": 32,
   "outputs": [],
   "source": [
    "prepped_data.save('resources/bert/data/prepped_data')"
   ],
   "metadata": {
    "collapsed": false,
    "ExecuteTime": {
     "end_time": "2023-11-22T07:13:31.121680300Z",
     "start_time": "2023-11-22T07:13:31.041864500Z"
    }
   },
   "id": "813d78363173809"
  },
  {
   "cell_type": "code",
   "execution_count": 3,
   "outputs": [],
   "source": [
    "prepped_data = tf.data.Dataset.load('resources/bert/data/prepped_data')"
   ],
   "metadata": {
    "collapsed": false,
    "ExecuteTime": {
     "end_time": "2023-11-22T06:24:00.819652300Z",
     "start_time": "2023-11-22T06:23:57.151179900Z"
    }
   },
   "id": "95ac604625db64f2"
  }
 ],
 "metadata": {
  "kernelspec": {
   "display_name": "Python 3",
   "language": "python",
   "name": "python3"
  },
  "language_info": {
   "codemirror_mode": {
    "name": "ipython",
    "version": 2
   },
   "file_extension": ".py",
   "mimetype": "text/x-python",
   "name": "python",
   "nbconvert_exporter": "python",
   "pygments_lexer": "ipython2",
   "version": "2.7.6"
  }
 },
 "nbformat": 4,
 "nbformat_minor": 5
}
