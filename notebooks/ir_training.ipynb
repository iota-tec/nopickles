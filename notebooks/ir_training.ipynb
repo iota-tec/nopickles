{
 "cells": [
  {
   "cell_type": "markdown",
   "source": [
    "### Training GPT-2 for Text Generation and Intent Recognition using Multi-Model Learning"
   ],
   "metadata": {
    "collapsed": false
   },
   "id": "232a0207d8c12cf2"
  },
  {
   "cell_type": "markdown",
   "source": [
    "**Imports and Initial Setup**"
   ],
   "metadata": {
    "collapsed": false
   },
   "id": "a8cb6c9628024965"
  },
  {
   "cell_type": "code",
   "execution_count": 1,
   "outputs": [],
   "source": [
    "# If Colab\n",
    "import os\n",
    "os.chdir('/content/drive/Othercomputers/AKATSUKI-PC/PycharmProjects/chatopotamus')"
   ],
   "metadata": {
    "collapsed": false,
    "ExecuteTime": {
     "end_time": "2023-11-25T06:35:31.060420600Z",
     "start_time": "2023-11-25T06:35:31.051431200Z"
    }
   },
   "id": "886de793b95694fc"
  },
  {
   "cell_type": "code",
   "execution_count": 1,
   "id": "initial_id",
   "metadata": {
    "collapsed": true,
    "ExecuteTime": {
     "end_time": "2023-11-25T07:27:06.788948100Z",
     "start_time": "2023-11-25T07:26:51.735355Z"
    }
   },
   "outputs": [],
   "source": [
    "from transformers import DistilBertTokenizer, TFDistilBertModel, DistilBertConfig\n",
    "import tensorflow as tf\n",
    "from tensorflow import keras\n",
    "import os\n",
    "import joblib\n",
    "import re\n",
    "import pickle\n",
    "import numpy as np\n",
    "from src.training import text_prep, ner_prep"
   ]
  },
  {
   "cell_type": "code",
   "execution_count": 3,
   "outputs": [],
   "source": [
    "# If Local Interpreter\n",
    "os.chdir('C:\\\\Users\\\\thory\\\\PycharmProjects\\\\chatopotamus')"
   ],
   "metadata": {
    "collapsed": false,
    "ExecuteTime": {
     "end_time": "2023-11-25T07:27:06.839432100Z",
     "start_time": "2023-11-25T07:27:06.815368500Z"
    }
   },
   "id": "17661f2166b661c1"
  },
  {
   "cell_type": "markdown",
   "source": [
    "**Path Constants**"
   ],
   "metadata": {
    "collapsed": false
   },
   "id": "8f5f01a5e0d687f2"
  },
  {
   "cell_type": "code",
   "execution_count": 3,
   "outputs": [],
   "source": [
    "DATA_PATH = 'resources/gpt/data'\n",
    "ORDERS_PATH = os.path.join(DATA_PATH, 'orders.txt')\n",
    "ENQUIRY_PATH = os.path.join(DATA_PATH, 'enquiry.txt')\n",
    "COMPLAINS_PATH = os.path.join(DATA_PATH, 'complains.txt')"
   ],
   "metadata": {
    "collapsed": false,
    "ExecuteTime": {
     "end_time": "2023-11-25T06:36:02.093789500Z",
     "start_time": "2023-11-25T06:36:02.093789500Z"
    }
   },
   "id": "5c997b8629569d33"
  },
  {
   "cell_type": "markdown",
   "source": [
    "**Convert into Sequences**"
   ],
   "metadata": {
    "collapsed": false
   },
   "id": "97232d0e81e9ecaa"
  },
  {
   "cell_type": "code",
   "execution_count": 4,
   "outputs": [],
   "source": [
    "final_sequence_order, intent_order  = text_prep.file_to_sequences(ORDERS_PATH, intent='order')\n",
    "final_sequence_enquiry, intent_enquiry = text_prep.file_to_sequences(ENQUIRY_PATH, intent='enquiry')\n",
    "final_sequence_complain, intent_complain = text_prep.file_to_sequences(COMPLAINS_PATH, intent='complain')"
   ],
   "metadata": {
    "collapsed": false,
    "ExecuteTime": {
     "end_time": "2023-11-25T06:36:02.442771100Z",
     "start_time": "2023-11-25T06:36:02.374980900Z"
    }
   },
   "id": "39dcbcbc894ed03"
  },
  {
   "cell_type": "code",
   "execution_count": 5,
   "outputs": [],
   "source": [
    "final_sequences = final_sequence_complain + final_sequence_enquiry + final_sequence_order\n",
    "final_intents = intent_complain+intent_enquiry+intent_order"
   ],
   "metadata": {
    "collapsed": false,
    "ExecuteTime": {
     "end_time": "2023-11-25T06:36:02.623861300Z",
     "start_time": "2023-11-25T06:36:02.611895400Z"
    }
   },
   "id": "523b76b4f189caae"
  },
  {
   "cell_type": "code",
   "execution_count": 6,
   "outputs": [
    {
     "data": {
      "text/plain": "(\"customer: throw in a small french vanilla but it's the first love system: small french vanilla sweet and a little bit dreamy the kind of sip you never forget that’ll be <price> how do you want to reminisce cash or card?\",\n 'order')"
     },
     "execution_count": 6,
     "metadata": {},
     "output_type": "execute_result"
    }
   ],
   "source": [
    "final_sequences[3800], final_intents[3800]"
   ],
   "metadata": {
    "collapsed": false,
    "ExecuteTime": {
     "end_time": "2023-11-25T06:36:03.208691400Z",
     "start_time": "2023-11-25T06:36:03.190688500Z"
    }
   },
   "id": "d190b4c090d677ba"
  },
  {
   "cell_type": "markdown",
   "source": [
    "**Tokenize**"
   ],
   "metadata": {
    "collapsed": false
   },
   "id": "8b7f1c7aca3f1bc8"
  },
  {
   "cell_type": "code",
   "execution_count": 7,
   "outputs": [],
   "source": [
    "tokenizer = DistilBertTokenizer.from_pretrained('distilbert-base-uncased')"
   ],
   "metadata": {
    "collapsed": false,
    "ExecuteTime": {
     "end_time": "2023-11-25T06:36:05.852259Z",
     "start_time": "2023-11-25T06:36:05.595795600Z"
    }
   },
   "id": "14340e40312cd02d"
  },
  {
   "cell_type": "code",
   "execution_count": 8,
   "outputs": [],
   "source": [
    "tokenized_inputs = tokenizer(final_sequences, max_length=40, truncation=True, padding=True, return_tensors=\"tf\")"
   ],
   "metadata": {
    "collapsed": false,
    "ExecuteTime": {
     "end_time": "2023-11-25T06:36:10.913025900Z",
     "start_time": "2023-11-25T06:36:07.133279700Z"
    }
   },
   "id": "b288b2c3602e1cf"
  },
  {
   "cell_type": "code",
   "execution_count": 9,
   "outputs": [
    {
     "data": {
      "text/plain": "{'input_ids': <tf.Tensor: shape=(4320, 40), dtype=int32, numpy=\narray([[  101,  8013,  1024, ...,     0,     0,     0],\n       [  101,  8013,  1024, ...,  2005,  2017,   102],\n       [  101,  8013,  1024, ...,     0,     0,     0],\n       ...,\n       [  101,  8013,  1024, ..., 14744,  1000,   102],\n       [  101,  8013,  1024, ...,  1037, 25751,   102],\n       [  101,  8013,  1024, ...,  3424,  6895,   102]], dtype=int32)>, 'attention_mask': <tf.Tensor: shape=(4320, 40), dtype=int32, numpy=\narray([[1, 1, 1, ..., 0, 0, 0],\n       [1, 1, 1, ..., 1, 1, 1],\n       [1, 1, 1, ..., 0, 0, 0],\n       ...,\n       [1, 1, 1, ..., 1, 1, 1],\n       [1, 1, 1, ..., 1, 1, 1],\n       [1, 1, 1, ..., 1, 1, 1]], dtype=int32)>}"
     },
     "execution_count": 9,
     "metadata": {},
     "output_type": "execute_result"
    }
   ],
   "source": [
    "tokenized_inputs"
   ],
   "metadata": {
    "collapsed": false,
    "ExecuteTime": {
     "end_time": "2023-11-25T06:36:10.967814Z",
     "start_time": "2023-11-25T06:36:10.913025900Z"
    }
   },
   "id": "17d15342f87cbbd7"
  },
  {
   "cell_type": "markdown",
   "source": [
    "**Preprocessing**"
   ],
   "metadata": {
    "collapsed": false
   },
   "id": "beb1ff3dd472b147"
  },
  {
   "cell_type": "code",
   "execution_count": 10,
   "outputs": [
    {
     "data": {
      "text/plain": "<_PrefetchDataset element_spec=({'input_ids': TensorSpec(shape=(None, 40), dtype=tf.int32, name=None), 'attention_mask': TensorSpec(shape=(None, 40), dtype=tf.int32, name=None)}, TensorSpec(shape=(None, 3), dtype=tf.float32, name=None))>"
     },
     "execution_count": 10,
     "metadata": {},
     "output_type": "execute_result"
    }
   ],
   "source": [
    "prepped_data = text_prep.preprocess_for_intent(tokenized_inputs, final_intents)\n",
    "prepped_data"
   ],
   "metadata": {
    "collapsed": false,
    "ExecuteTime": {
     "end_time": "2023-11-25T06:36:16.277645Z",
     "start_time": "2023-11-25T06:36:14.938750300Z"
    }
   },
   "id": "d0d50d16b16318f6"
  },
  {
   "cell_type": "code",
   "execution_count": 11,
   "outputs": [
    {
     "name": "stdout",
     "output_type": "stream",
     "text": [
      "({'input_ids': <tf.Tensor: shape=(16, 40), dtype=int32, numpy=\n",
      "array([[  101,  8013,  1024,  1045,  1005,  1049,  2036, 26369,  1037,\n",
      "         4977, 11611,  2252,  6090,  5498, 15174,  2098,  1998,  3531,\n",
      "         5587,  4469, 11611,  2291,  1024,  2469,  1037,  4977, 11611,\n",
      "         2252,  6090,  5498, 15174,  2098,  2007,  4469, 11611,  2505,\n",
      "         2842,  2000,  3143,   102],\n",
      "       [  101,  8013,  1024,  2026,  2980,  7967,  2001,  2205,  2980,\n",
      "         1045,  2481,  1005,  1056,  4392,  2009,  2291,  1024,  2008,\n",
      "         1005,  1055,  2205,  2980,  2000,  5047,  2292,  1005,  1055,\n",
      "         4658,  2009,  2091,  2000,  1996,  3819, 24747,  4860,  2005,\n",
      "         2017,   102,     0,     0],\n",
      "       [  101,  8013,  1024,  2008,  1005,  2222,  2022,  2009,  4067,\n",
      "         2017,   999,  2291,  1024,  2017,  1005,  2128,  6160,   999,\n",
      "         2115,  2344,  2005,  1037,  5396,  9587,  7507,  2630,  9766,\n",
      "        14163, 15379,  5396, 28248,  5572,  1998,  4524,  2884,  2007,\n",
      "         6949,  8808,  2003,   102],\n",
      "       [  101,  8013,  1024,  1045,  3641,  1037,  2413, 21161,  2023,\n",
      "         2003,  2074,  5810,  4157,   999,  2291,  1024,  2008,  1005,\n",
      "         1055,  2025,  1996, 21161,  3959,  2017,  2020,  5763,  2292,\n",
      "         1521,  1055,  6149,  2008,  2000,  1037,  2413, 21161,  2008,\n",
      "         1521,  1055,  4895,   102],\n",
      "       [  101,  8013,  1024,  1037,  1038,  7096,  2021,  2009,  1005,\n",
      "         1055,  1037,  3061,  1051, 21596,  2291,  1024,  2023,  1038,\n",
      "         7096,  1005,  1055,  2893,  1996,  2732,  3949, 15594,  1998,\n",
      "         6334,  2066,  1037,  3065, 14399,  4842,  2151, 19493,  2015,\n",
      "         1029,   102,     0,     0],\n",
      "       [  101,  8013,  1024,  2054,  6501, 15955,  2079,  2017,  3749,\n",
      "         2005,  5572,  1029,  2291,  1024,  2005,  5572,  2057,  3749,\n",
      "         8301,  2213,  6501,  1998, 25176,  6501,  2004, 15955,  2151,\n",
      "         2060, 18394,  2030,  3980,  1029,   102,     0,     0,     0,\n",
      "            0,     0,     0,     0],\n",
      "       [  101,  8013,  1024,  2748,  1045,  1005,  1040,  2066,  1037,\n",
      "         4524,  2884,  2007,  6949,  8808,  3531,  2291,  1024,  7078,\n",
      "         1037,  4524,  2884,  2007,  6949,  8808,  2003,  2045,  2505,\n",
      "         2842,  2017,  1005,  1040,  2066,  2000,  5587,  1029,   102,\n",
      "            0,     0,     0,     0],\n",
      "       [  101,  8013,  1024,  2748,  1037,  4524,  2884,  2007,  6949,\n",
      "         8808,  3531,  2291,  1024,  2307,  9804,   999,  1037,  4524,\n",
      "         2884,  2007,  6949,  8808,  2003,  2008,  2673,  1029,   102,\n",
      "            0,     0,     0,     0,     0,     0,     0,     0,     0,\n",
      "            0,     0,     0,     0],\n",
      "       [  101,  8013,  1024,  2008,  1005,  2222,  2022,  2009,  2005,\n",
      "         2085,  4067,  2017,   999,  2291,  1024,  2017,  1005,  2128,\n",
      "         6160,   999,  2115,  2344,  2005,  1037,  2312,  2980,  7967,\n",
      "        26192,  2094,  8808,  6090,  5498,  5810,  4524,  2884,  2007,\n",
      "         6949,  8808,  1998,   102],\n",
      "       [  101,  8013,  1024,  2025,  2157,  2085,  4283,  2024,  2115,\n",
      "        11350,  2015,  2081,  4840,  3679,  1029,  2291,  1024,  7078,\n",
      "         2035,  2256, 11350,  2015,  2024,  2081,  4840,  2296,  2154,\n",
      "         2651,  2057,  2031,  7975,  2053, 26156,  1998, 15415,  4699,\n",
      "         1029,   102,     0,     0],\n",
      "       [  101,  8013,  1024,  1045,  1005,  2222,  3477,  2007,  2026,\n",
      "         4003,  2291,  1024,  3819,  2115,  2344,  2097,  2022,  3201,\n",
      "         2005, 15373,  3859,  4067,  2017,  2005, 10549,  2149,   999,\n",
      "          102,     0,     0,     0,     0,     0,     0,     0,     0,\n",
      "            0,     0,     0,     0],\n",
      "       [  101,  8013,  1024,  2054,  6501, 15955,  2024,  2800,  2005,\n",
      "         2474, 14581,  1029,  2291,  1024,  2057,  3749,  8301,  2213,\n",
      "         6501,  1998, 25176,  6501,  2004, 15955,  2005,  2256,  2474,\n",
      "        14581,  2151,  2060, 19645, 10861,  5134,  1029,   102,     0,\n",
      "            0,     0,     0,     0],\n",
      "       [  101,  8013,  1024,  2026,  2304,  4157,  2003,  2205,  8618,\n",
      "         1998,  2009,  2987,  1005,  1056,  2674,  2026,  2053,  5699,\n",
      "         5227,  2291,  1024,  1045,  1005,  1049,  3374,  2005,  1996,\n",
      "        10520,  2057,  1005,  2222,  2147,  2006,  2893,  1996, 14894,\n",
      "         2157,  2005,  2017,   102],\n",
      "       [  101,  8013,  1024,  1996, 28248,  6178,  2361,  1045,  3641,\n",
      "         2001,  2205,  3147,  2009,  2435,  2033,  1037,  4167, 13184,\n",
      "         2291,  1024, 12316,  9681,  2008,  1005,  1055,  2205,  4658,\n",
      "         2005,  7216,   999,  2292,  1005,  1055, 12661,  2008,  2005,\n",
      "         2017,  1037,  2978,   102],\n",
      "       [  101,  8013,  1024,  1045,  1005,  1049,  2036,  1999,  1996,\n",
      "         6888,  2005,  1037,  5396, 28248,  6178, 14289, 14693,  3630,\n",
      "         2053,  5699,  1998,  2019,  4469,  2915,  2291,  1024,  5121,\n",
      "         1037,  5396, 28248,  6178, 14289, 14693,  3630,  2007,  2053,\n",
      "         5699,  1998,  2019,   102],\n",
      "       [  101,  8013,  1024,  3105,  2182,  1029,  2033,  2064,  1029,\n",
      "         2291,  1024,  7078,  2057,  1521,  2128,  2006,  1996, 19052,\n",
      "         2005,  2047,  2136,  2372,   999,  2064,  2017,  2191,  4157,\n",
      "         1029,   102,     0,     0,     0,     0,     0,     0,     0,\n",
      "            0,     0,     0,     0]], dtype=int32)>, 'attention_mask': <tf.Tensor: shape=(16, 40), dtype=int32, numpy=\n",
      "array([[1, 1, 1, 1, 1, 1, 1, 1, 1, 1, 1, 1, 1, 1, 1, 1, 1, 1, 1, 1, 1, 1,\n",
      "        1, 1, 1, 1, 1, 1, 1, 1, 1, 1, 1, 1, 1, 1, 1, 1, 1, 1],\n",
      "       [1, 1, 1, 1, 1, 1, 1, 1, 1, 1, 1, 1, 1, 1, 1, 1, 1, 1, 1, 1, 1, 1,\n",
      "        1, 1, 1, 1, 1, 1, 1, 1, 1, 1, 1, 1, 1, 1, 1, 1, 0, 0],\n",
      "       [1, 1, 1, 1, 1, 1, 1, 1, 1, 1, 1, 1, 1, 1, 1, 1, 1, 1, 1, 1, 1, 1,\n",
      "        1, 1, 1, 1, 1, 1, 1, 1, 1, 1, 1, 1, 1, 1, 1, 1, 1, 1],\n",
      "       [1, 1, 1, 1, 1, 1, 1, 1, 1, 1, 1, 1, 1, 1, 1, 1, 1, 1, 1, 1, 1, 1,\n",
      "        1, 1, 1, 1, 1, 1, 1, 1, 1, 1, 1, 1, 1, 1, 1, 1, 1, 1],\n",
      "       [1, 1, 1, 1, 1, 1, 1, 1, 1, 1, 1, 1, 1, 1, 1, 1, 1, 1, 1, 1, 1, 1,\n",
      "        1, 1, 1, 1, 1, 1, 1, 1, 1, 1, 1, 1, 1, 1, 1, 1, 0, 0],\n",
      "       [1, 1, 1, 1, 1, 1, 1, 1, 1, 1, 1, 1, 1, 1, 1, 1, 1, 1, 1, 1, 1, 1,\n",
      "        1, 1, 1, 1, 1, 1, 1, 1, 1, 1, 1, 0, 0, 0, 0, 0, 0, 0],\n",
      "       [1, 1, 1, 1, 1, 1, 1, 1, 1, 1, 1, 1, 1, 1, 1, 1, 1, 1, 1, 1, 1, 1,\n",
      "        1, 1, 1, 1, 1, 1, 1, 1, 1, 1, 1, 1, 1, 1, 0, 0, 0, 0],\n",
      "       [1, 1, 1, 1, 1, 1, 1, 1, 1, 1, 1, 1, 1, 1, 1, 1, 1, 1, 1, 1, 1, 1,\n",
      "        1, 1, 1, 1, 1, 0, 0, 0, 0, 0, 0, 0, 0, 0, 0, 0, 0, 0],\n",
      "       [1, 1, 1, 1, 1, 1, 1, 1, 1, 1, 1, 1, 1, 1, 1, 1, 1, 1, 1, 1, 1, 1,\n",
      "        1, 1, 1, 1, 1, 1, 1, 1, 1, 1, 1, 1, 1, 1, 1, 1, 1, 1],\n",
      "       [1, 1, 1, 1, 1, 1, 1, 1, 1, 1, 1, 1, 1, 1, 1, 1, 1, 1, 1, 1, 1, 1,\n",
      "        1, 1, 1, 1, 1, 1, 1, 1, 1, 1, 1, 1, 1, 1, 1, 1, 0, 0],\n",
      "       [1, 1, 1, 1, 1, 1, 1, 1, 1, 1, 1, 1, 1, 1, 1, 1, 1, 1, 1, 1, 1, 1,\n",
      "        1, 1, 1, 1, 1, 1, 0, 0, 0, 0, 0, 0, 0, 0, 0, 0, 0, 0],\n",
      "       [1, 1, 1, 1, 1, 1, 1, 1, 1, 1, 1, 1, 1, 1, 1, 1, 1, 1, 1, 1, 1, 1,\n",
      "        1, 1, 1, 1, 1, 1, 1, 1, 1, 1, 1, 1, 1, 0, 0, 0, 0, 0],\n",
      "       [1, 1, 1, 1, 1, 1, 1, 1, 1, 1, 1, 1, 1, 1, 1, 1, 1, 1, 1, 1, 1, 1,\n",
      "        1, 1, 1, 1, 1, 1, 1, 1, 1, 1, 1, 1, 1, 1, 1, 1, 1, 1],\n",
      "       [1, 1, 1, 1, 1, 1, 1, 1, 1, 1, 1, 1, 1, 1, 1, 1, 1, 1, 1, 1, 1, 1,\n",
      "        1, 1, 1, 1, 1, 1, 1, 1, 1, 1, 1, 1, 1, 1, 1, 1, 1, 1],\n",
      "       [1, 1, 1, 1, 1, 1, 1, 1, 1, 1, 1, 1, 1, 1, 1, 1, 1, 1, 1, 1, 1, 1,\n",
      "        1, 1, 1, 1, 1, 1, 1, 1, 1, 1, 1, 1, 1, 1, 1, 1, 1, 1],\n",
      "       [1, 1, 1, 1, 1, 1, 1, 1, 1, 1, 1, 1, 1, 1, 1, 1, 1, 1, 1, 1, 1, 1,\n",
      "        1, 1, 1, 1, 1, 1, 1, 0, 0, 0, 0, 0, 0, 0, 0, 0, 0, 0]],\n",
      "      dtype=int32)>}, <tf.Tensor: shape=(16, 3), dtype=float32, numpy=\n",
      "array([[1., 0., 0.],\n",
      "       [0., 1., 0.],\n",
      "       [1., 0., 0.],\n",
      "       [0., 1., 0.],\n",
      "       [1., 0., 0.],\n",
      "       [0., 0., 1.],\n",
      "       [1., 0., 0.],\n",
      "       [1., 0., 0.],\n",
      "       [1., 0., 0.],\n",
      "       [0., 0., 1.],\n",
      "       [1., 0., 0.],\n",
      "       [0., 0., 1.],\n",
      "       [0., 1., 0.],\n",
      "       [0., 1., 0.],\n",
      "       [1., 0., 0.],\n",
      "       [0., 0., 1.]], dtype=float32)>)\n"
     ]
    }
   ],
   "source": [
    "for i in prepped_data.take(1):\n",
    "    print(i)"
   ],
   "metadata": {
    "collapsed": false,
    "ExecuteTime": {
     "end_time": "2023-11-25T06:36:18.717138500Z",
     "start_time": "2023-11-25T06:36:18.484800800Z"
    }
   },
   "id": "8ee1c2cfbf7c51ab"
  },
  {
   "cell_type": "markdown",
   "source": [
    "**Train-Test Split**"
   ],
   "metadata": {
    "collapsed": false
   },
   "id": "b8f55236b9e79102"
  },
  {
   "cell_type": "code",
   "execution_count": 12,
   "outputs": [],
   "source": [
    "total_size = 0\n",
    "for _ in prepped_data:\n",
    "    total_size += 1"
   ],
   "metadata": {
    "collapsed": false,
    "ExecuteTime": {
     "end_time": "2023-11-25T06:36:26.295853Z",
     "start_time": "2023-11-25T06:36:26.063872200Z"
    }
   },
   "id": "5ae04c583a07d668"
  },
  {
   "cell_type": "code",
   "execution_count": 13,
   "outputs": [
    {
     "data": {
      "text/plain": "270"
     },
     "execution_count": 13,
     "metadata": {},
     "output_type": "execute_result"
    }
   ],
   "source": [
    "total_size"
   ],
   "metadata": {
    "collapsed": false,
    "ExecuteTime": {
     "end_time": "2023-11-25T06:36:26.328044Z",
     "start_time": "2023-11-25T06:36:26.297855700Z"
    }
   },
   "id": "2e967c74d3675166"
  },
  {
   "cell_type": "code",
   "execution_count": 15,
   "outputs": [],
   "source": [
    "train_set = prepped_data.take(200)\n",
    "\n",
    "val_set = prepped_data.skip(200).take(30)\n",
    "\n",
    "test_set = prepped_data.skip(230)"
   ],
   "metadata": {
    "collapsed": false,
    "ExecuteTime": {
     "end_time": "2023-11-25T06:38:14.702964600Z",
     "start_time": "2023-11-25T06:38:14.699740800Z"
    }
   },
   "id": "53d363a4545fa600"
  },
  {
   "cell_type": "markdown",
   "source": [
    "**Modeling and Training**\n",
    "\n",
    "**1. Intent Classification**"
   ],
   "metadata": {
    "collapsed": false
   },
   "id": "3170b223494c3ce4"
  },
  {
   "cell_type": "code",
   "execution_count": null,
   "outputs": [],
   "source": [
    "config = DistilBertConfig.from_pretrained('distilbert-base-uncased')\n",
    "model = TFDistilBertModel.from_pretrained('distilbert-base-uncased', config=config)"
   ],
   "metadata": {
    "collapsed": false
   },
   "id": "3d95216ffb90325c"
  },
  {
   "cell_type": "code",
   "execution_count": 28,
   "outputs": [],
   "source": [
    "input_ids = tf.keras.layers.Input(shape=(40,), dtype=tf.int32, name='input_ids')\n",
    "attention_mask = tf.keras.layers.Input(shape=(40,), dtype=tf.int32, name='attention_mask')\n",
    "\n",
    "# Use the DistilBERT model\n",
    "distilbert_output = model(input_ids, attention_mask=attention_mask)[0]\n",
    "\n",
    "# Get the output for the [CLS] token (first token)\n",
    "pooled_output = distilbert_output[:, 0]\n",
    "\n",
    "# Additional dropout layer for regularization\n",
    "dropout = tf.keras.layers.Dropout(0.3)(pooled_output)\n",
    "\n",
    "# Classifier layer for your 3 classes\n",
    "classifier = tf.keras.layers.Dense(3, activation='softmax')(dropout)\n",
    "\n",
    "# Final model\n",
    "final_model = tf.keras.models.Model(inputs=[input_ids, attention_mask], outputs=classifier)"
   ],
   "metadata": {
    "collapsed": false,
    "ExecuteTime": {
     "end_time": "2023-11-25T06:48:56.219617700Z",
     "start_time": "2023-11-25T06:48:55.313789100Z"
    }
   },
   "id": "4ead001a78f407d3"
  },
  {
   "cell_type": "code",
   "execution_count": 29,
   "outputs": [
    {
     "name": "stdout",
     "output_type": "stream",
     "text": [
      "Model: \"model_1\"\n",
      "__________________________________________________________________________________________________\n",
      " Layer (type)                Output Shape                 Param #   Connected to                  \n",
      "==================================================================================================\n",
      " input_ids (InputLayer)      [(None, 40)]                 0         []                            \n",
      "                                                                                                  \n",
      " attention_mask (InputLayer  [(None, 40)]                 0         []                            \n",
      " )                                                                                                \n",
      "                                                                                                  \n",
      " tf_distil_bert_model (TFDi  TFBaseModelOutput(last_hid   6636288   ['input_ids[0][0]',           \n",
      " stilBertModel)              den_state=(None, 40, 768),   0          'attention_mask[0][0]']      \n",
      "                              hidden_states=None, atten                                           \n",
      "                             tions=None)                                                          \n",
      "                                                                                                  \n",
      " tf.__operators__.getitem_1  (None, 768)                  0         ['tf_distil_bert_model[1][0]']\n",
      "  (SlicingOpLambda)                                                                               \n",
      "                                                                                                  \n",
      " dropout_20 (Dropout)        (None, 768)                  0         ['tf.__operators__.getitem_1[0\n",
      "                                                                    ][0]']                        \n",
      "                                                                                                  \n",
      " dense_1 (Dense)             (None, 3)                    2307      ['dropout_20[0][0]']          \n",
      "                                                                                                  \n",
      "==================================================================================================\n",
      "Total params: 66365187 (253.16 MB)\n",
      "Trainable params: 66365187 (253.16 MB)\n",
      "Non-trainable params: 0 (0.00 Byte)\n",
      "__________________________________________________________________________________________________\n"
     ]
    }
   ],
   "source": [
    "final_model.summary()"
   ],
   "metadata": {
    "collapsed": false,
    "ExecuteTime": {
     "end_time": "2023-11-25T06:48:56.397442400Z",
     "start_time": "2023-11-25T06:48:56.277588900Z"
    }
   },
   "id": "2d01da0dbd738767"
  },
  {
   "cell_type": "code",
   "execution_count": 30,
   "outputs": [],
   "source": [
    "root_log_dir = os.path.join(os.curdir, 'tb_logs', 'ir_training')\n",
    "def get_run_logdir():\n",
    "    import time\n",
    "    run_id = time.strftime('run_%H-%M')\n",
    "    run_logdir = os.path.join(root_log_dir, run_id)\n",
    "    return run_logdir"
   ],
   "metadata": {
    "collapsed": false,
    "ExecuteTime": {
     "end_time": "2023-11-25T06:48:56.977052700Z",
     "start_time": "2023-11-25T06:48:56.974048800Z"
    }
   },
   "id": "42a097d0c7c85f20"
  },
  {
   "cell_type": "code",
   "execution_count": 31,
   "outputs": [],
   "source": [
    "max_lr = 0.0001  # Peak learning rate\n",
    "num_epochs = 50\n",
    "batch_size = 16\n",
    "num_samples = 270\n",
    "\n",
    "# Initialize the scheduler\n",
    "onecycle_lr_scheduler = text_prep.OneCycleLRSchedule(max_lr, total_steps=num_epochs * (num_samples // batch_size))"
   ],
   "metadata": {
    "collapsed": false,
    "ExecuteTime": {
     "end_time": "2023-11-25T06:48:57.929944900Z",
     "start_time": "2023-11-25T06:48:57.922897300Z"
    }
   },
   "id": "63385d7a775ca5bc"
  },
  {
   "cell_type": "code",
   "execution_count": 32,
   "outputs": [],
   "source": [
    "optimizer = keras.optimizers.Adam(learning_rate=0.00001)\n",
    "final_model.compile(optimizer='adam', loss='categorical_crossentropy', metrics=['accuracy', keras.metrics.Precision(), keras.metrics.Recall(), ner_prep.F1Score()])"
   ],
   "metadata": {
    "collapsed": false,
    "ExecuteTime": {
     "end_time": "2023-11-25T06:48:58.827984200Z",
     "start_time": "2023-11-25T06:48:58.797356500Z"
    }
   },
   "id": "edc9991438f1f4fa"
  },
  {
   "cell_type": "code",
   "execution_count": 33,
   "outputs": [],
   "source": [
    "run_logdir = get_run_logdir()\n",
    "tb_callback = keras.callbacks.TensorBoard(log_dir=run_logdir)\n",
    "es_callback = keras.callbacks.EarlyStopping(patience=10, restore_best_weights=True)"
   ],
   "metadata": {
    "collapsed": false,
    "ExecuteTime": {
     "end_time": "2023-11-25T06:48:59.151708700Z",
     "start_time": "2023-11-25T06:48:59.144501700Z"
    }
   },
   "id": "36ac646a6b7ab2fd"
  },
  {
   "cell_type": "code",
   "execution_count": 34,
   "outputs": [
    {
     "name": "stdout",
     "output_type": "stream",
     "text": [
      "Epoch 1/7\n",
      "200/200 [==============================] - ETA: 0s - loss: 0.4290 - accuracy: 0.8028 - precision_4: 0.8880 - recall_4: 0.7456 - f1_score: 0.8106<tf.Variable 'learning_rate:0' shape=() dtype=float32, numpy=8.4625e-05>\n",
      "200/200 [==============================] - 47s 131ms/step - loss: 0.4290 - accuracy: 0.8028 - precision_4: 0.8880 - recall_4: 0.7456 - f1_score: 0.8106 - val_loss: 0.1176 - val_accuracy: 0.9771 - val_precision_4: 0.9771 - val_recall_4: 0.9771 - val_f1_score: 0.9771\n",
      "Epoch 2/7\n",
      "200/200 [==============================] - ETA: 0s - loss: 0.1371 - accuracy: 0.9694 - precision_4: 0.9700 - recall_4: 0.9688 - f1_score: 0.9694<tf.Variable 'learning_rate:0' shape=() dtype=float32, numpy=8.4625e-05>\n",
      "200/200 [==============================] - 19s 95ms/step - loss: 0.1371 - accuracy: 0.9694 - precision_4: 0.9700 - recall_4: 0.9688 - f1_score: 0.9694 - val_loss: 0.1168 - val_accuracy: 0.9729 - val_precision_4: 0.9749 - val_recall_4: 0.9729 - val_f1_score: 0.9739\n",
      "Epoch 3/7\n",
      "200/200 [==============================] - ETA: 0s - loss: 0.1081 - accuracy: 0.9737 - precision_4: 0.9741 - recall_4: 0.9737 - f1_score: 0.9739<tf.Variable 'learning_rate:0' shape=() dtype=float32, numpy=8.4625e-05>\n",
      "200/200 [==============================] - 19s 93ms/step - loss: 0.1081 - accuracy: 0.9737 - precision_4: 0.9741 - recall_4: 0.9737 - f1_score: 0.9739 - val_loss: 0.1164 - val_accuracy: 0.9750 - val_precision_4: 0.9770 - val_recall_4: 0.9750 - val_f1_score: 0.9760\n",
      "Epoch 4/7\n",
      "200/200 [==============================] - ETA: 0s - loss: 0.0955 - accuracy: 0.9784 - precision_4: 0.9799 - recall_4: 0.9769 - f1_score: 0.9784<tf.Variable 'learning_rate:0' shape=() dtype=float32, numpy=8.4625e-05>\n",
      "200/200 [==============================] - 18s 91ms/step - loss: 0.0955 - accuracy: 0.9784 - precision_4: 0.9799 - recall_4: 0.9769 - f1_score: 0.9784 - val_loss: 0.0713 - val_accuracy: 0.9854 - val_precision_4: 0.9854 - val_recall_4: 0.9854 - val_f1_score: 0.9854\n",
      "Epoch 5/7\n",
      "200/200 [==============================] - ETA: 0s - loss: 0.0814 - accuracy: 0.9794 - precision_4: 0.9803 - recall_4: 0.9784 - f1_score: 0.9794<tf.Variable 'learning_rate:0' shape=() dtype=float32, numpy=8.4625e-05>\n",
      "200/200 [==============================] - 19s 93ms/step - loss: 0.0814 - accuracy: 0.9794 - precision_4: 0.9803 - recall_4: 0.9784 - f1_score: 0.9794 - val_loss: 0.0280 - val_accuracy: 0.9937 - val_precision_4: 0.9958 - val_recall_4: 0.9937 - val_f1_score: 0.9948\n",
      "Epoch 6/7\n",
      "200/200 [==============================] - ETA: 0s - loss: 0.0577 - accuracy: 0.9856 - precision_4: 0.9878 - recall_4: 0.9841 - f1_score: 0.9859<tf.Variable 'learning_rate:0' shape=() dtype=float32, numpy=8.4625e-05>\n",
      "200/200 [==============================] - 19s 93ms/step - loss: 0.0577 - accuracy: 0.9856 - precision_4: 0.9878 - recall_4: 0.9841 - f1_score: 0.9859 - val_loss: 0.1200 - val_accuracy: 0.9750 - val_precision_4: 0.9810 - val_recall_4: 0.9688 - val_f1_score: 0.9748\n",
      "Epoch 7/7\n",
      "200/200 [==============================] - ETA: 0s - loss: 0.0862 - accuracy: 0.9819 - precision_4: 0.9846 - recall_4: 0.9806 - f1_score: 0.9826<tf.Variable 'learning_rate:0' shape=() dtype=float32, numpy=8.4625e-05>\n",
      "200/200 [==============================] - 18s 91ms/step - loss: 0.0862 - accuracy: 0.9819 - precision_4: 0.9846 - recall_4: 0.9806 - f1_score: 0.9826 - val_loss: 0.0623 - val_accuracy: 0.9792 - val_precision_4: 0.9792 - val_recall_4: 0.9792 - val_f1_score: 0.9792\n"
     ]
    }
   ],
   "source": [
    "history = final_model.fit(train_set, epochs=7, validation_data=val_set, callbacks=[tb_callback, es_callback, onecycle_lr_scheduler], use_multiprocessing=True)"
   ],
   "metadata": {
    "collapsed": false,
    "ExecuteTime": {
     "end_time": "2023-11-25T06:51:43.854898300Z",
     "start_time": "2023-11-25T06:49:00.951334300Z"
    }
   },
   "id": "9f7c19326d3eaf5a"
  },
  {
   "cell_type": "markdown",
   "source": [
    "![Epoch Loss](C:\\Users\\thory\\PycharmProjects\\chatopotamus\\tb_logs\\images\\epoch_loss.png)"
   ],
   "metadata": {
    "collapsed": false
   },
   "id": "9afb3e1cfa3532d7"
  },
  {
   "cell_type": "markdown",
   "source": [
    "**Evaluation**"
   ],
   "metadata": {
    "collapsed": false
   },
   "id": "e2ab6437f2fae271"
  },
  {
   "cell_type": "code",
   "execution_count": 36,
   "outputs": [
    {
     "name": "stdout",
     "output_type": "stream",
     "text": [
      "40/40 [==============================] - 1s 31ms/step - loss: 0.0706 - accuracy: 0.9828 - precision_4: 0.9844 - recall_4: 0.9828 - f1_score: 0.9836\n",
      "Loss : 0.07061126083135605\n",
      "Accuracy : 0.9828125238418579\n",
      "Precision : 0.9843505620956421\n",
      "Recall : 0.9828125238418579\n",
      "F1 Score : 0.983580470085144\n"
     ]
    }
   ],
   "source": [
    "loss, accuracy, precision, recall, f1_score = final_model.evaluate(test_set)\n",
    "print(f'Loss : {loss}\\nAccuracy : {accuracy}\\nPrecision : {precision}\\nRecall : {recall}\\nF1 Score : {f1_score}')"
   ],
   "metadata": {
    "collapsed": false,
    "ExecuteTime": {
     "end_time": "2023-11-25T06:55:46.463476Z",
     "start_time": "2023-11-25T06:55:43.906140800Z"
    }
   },
   "id": "a72cf35430c1470"
  },
  {
   "cell_type": "markdown",
   "source": [
    "**Saving/Loading**"
   ],
   "metadata": {
    "collapsed": false
   },
   "id": "1e76a4fa8f46f2c8"
  },
  {
   "cell_type": "code",
   "execution_count": 39,
   "outputs": [],
   "source": [
    "model.save_weights('resources/bert/ir_init_model.h5')\n",
    "final_model.save_weights('resources/bert/ir_final_weights.h5')"
   ],
   "metadata": {
    "collapsed": false,
    "ExecuteTime": {
     "end_time": "2023-11-25T07:00:32.971281400Z",
     "start_time": "2023-11-25T07:00:24.069494100Z"
    }
   },
   "id": "e179b794510940a0"
  },
  {
   "cell_type": "code",
   "execution_count": 23,
   "outputs": [],
   "source": [
    "text_prep.save_file('resources/gpt/data/tokenized_inputs.pkl', tokenized_inputs)\n",
    "prepped_data.save('resources/gpt/prepped_data_gen')"
   ],
   "metadata": {
    "collapsed": false,
    "ExecuteTime": {
     "end_time": "2023-11-25T03:27:33.783914600Z",
     "start_time": "2023-11-25T03:27:33.701116800Z"
    }
   },
   "id": "17feae0c52c6766f"
  },
  {
   "cell_type": "code",
   "execution_count": 8,
   "outputs": [],
   "source": [
    "with open('resources/gpt/data/tokenized_inputs.pkl', 'rb') as f:\n",
    "    tokenized_inputs = joblib.load(f)"
   ],
   "metadata": {
    "collapsed": false,
    "ExecuteTime": {
     "end_time": "2023-11-24T19:37:45.725648100Z",
     "start_time": "2023-11-24T19:37:44.153557300Z"
    }
   },
   "id": "f5282737de0ef373"
  },
  {
   "cell_type": "code",
   "execution_count": 4,
   "outputs": [
    {
     "ename": "TypeError",
     "evalue": "load_weights() missing 1 required positional argument: 'filepath'",
     "output_type": "error",
     "traceback": [
      "\u001B[1;31m---------------------------------------------------------------------------\u001B[0m",
      "\u001B[1;31mTypeError\u001B[0m                                 Traceback (most recent call last)",
      "Cell \u001B[1;32mIn[4], line 1\u001B[0m\n\u001B[1;32m----> 1\u001B[0m final_model \u001B[38;5;241m=\u001B[39m \u001B[43mkeras\u001B[49m\u001B[38;5;241;43m.\u001B[39;49m\u001B[43mmodels\u001B[49m\u001B[38;5;241;43m.\u001B[39;49m\u001B[43mModel\u001B[49m\u001B[38;5;241;43m.\u001B[39;49m\u001B[43mload_weights\u001B[49m\u001B[43m(\u001B[49m\u001B[38;5;124;43m'\u001B[39;49m\u001B[38;5;124;43mresources/bert/ir_final_weights.h5\u001B[39;49m\u001B[38;5;124;43m'\u001B[39;49m\u001B[43m)\u001B[49m\n",
      "File \u001B[1;32m~\\miniconda3\\envs\\Iota\\lib\\site-packages\\keras\\utils\\traceback_utils.py:70\u001B[0m, in \u001B[0;36mfilter_traceback.<locals>.error_handler\u001B[1;34m(*args, **kwargs)\u001B[0m\n\u001B[0;32m     67\u001B[0m     filtered_tb \u001B[38;5;241m=\u001B[39m _process_traceback_frames(e\u001B[38;5;241m.\u001B[39m__traceback__)\n\u001B[0;32m     68\u001B[0m     \u001B[38;5;66;03m# To get the full stack trace, call:\u001B[39;00m\n\u001B[0;32m     69\u001B[0m     \u001B[38;5;66;03m# `tf.debugging.disable_traceback_filtering()`\u001B[39;00m\n\u001B[1;32m---> 70\u001B[0m     \u001B[38;5;28;01mraise\u001B[39;00m e\u001B[38;5;241m.\u001B[39mwith_traceback(filtered_tb) \u001B[38;5;28;01mfrom\u001B[39;00m \u001B[38;5;28;01mNone\u001B[39;00m\n\u001B[0;32m     71\u001B[0m \u001B[38;5;28;01mfinally\u001B[39;00m:\n\u001B[0;32m     72\u001B[0m     \u001B[38;5;28;01mdel\u001B[39;00m filtered_tb\n",
      "File \u001B[1;32m~\\miniconda3\\envs\\Iota\\lib\\site-packages\\keras\\utils\\traceback_utils.py:65\u001B[0m, in \u001B[0;36mfilter_traceback.<locals>.error_handler\u001B[1;34m(*args, **kwargs)\u001B[0m\n\u001B[0;32m     63\u001B[0m filtered_tb \u001B[38;5;241m=\u001B[39m \u001B[38;5;28;01mNone\u001B[39;00m\n\u001B[0;32m     64\u001B[0m \u001B[38;5;28;01mtry\u001B[39;00m:\n\u001B[1;32m---> 65\u001B[0m     \u001B[38;5;28;01mreturn\u001B[39;00m fn(\u001B[38;5;241m*\u001B[39margs, \u001B[38;5;241m*\u001B[39m\u001B[38;5;241m*\u001B[39mkwargs)\n\u001B[0;32m     66\u001B[0m \u001B[38;5;28;01mexcept\u001B[39;00m \u001B[38;5;167;01mException\u001B[39;00m \u001B[38;5;28;01mas\u001B[39;00m e:\n\u001B[0;32m     67\u001B[0m     filtered_tb \u001B[38;5;241m=\u001B[39m _process_traceback_frames(e\u001B[38;5;241m.\u001B[39m__traceback__)\n",
      "\u001B[1;31mTypeError\u001B[0m: load_weights() missing 1 required positional argument: 'filepath'"
     ]
    }
   ],
   "source": [
    "final_model = keras.models.load_weights('resources/bert/ir_final_weights.h5')"
   ],
   "metadata": {
    "collapsed": false,
    "ExecuteTime": {
     "end_time": "2023-11-25T07:30:59.460847500Z",
     "start_time": "2023-11-25T07:30:56.147712800Z"
    }
   },
   "id": "3310318ab0a1384f"
  }
 ],
 "metadata": {
  "kernelspec": {
   "display_name": "Python 3",
   "language": "python",
   "name": "python3"
  },
  "language_info": {
   "codemirror_mode": {
    "name": "ipython",
    "version": 2
   },
   "file_extension": ".py",
   "mimetype": "text/x-python",
   "name": "python",
   "nbconvert_exporter": "python",
   "pygments_lexer": "ipython2",
   "version": "2.7.6"
  }
 },
 "nbformat": 4,
 "nbformat_minor": 5
}
