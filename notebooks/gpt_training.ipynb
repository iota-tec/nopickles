{
 "cells": [
  {
   "cell_type": "code",
   "execution_count": null,
   "id": "initial_id",
   "metadata": {
    "collapsed": true
   },
   "outputs": [],
   "source": [
    "from transformers import GPT2Tokenizer, TFGPT2LMHeadModel\n",
    "import tensorflow as tf\n",
    "import os\n",
    "import joblib\n",
    "import re\n",
    "import os\n",
    "import numpy as np\n",
    "from src.training import gpt_trainer"
   ]
  },
  {
   "cell_type": "code",
   "execution_count": null,
   "outputs": [],
   "source": [
    "model = TFGPT2LMHeadModel.from_pretrained('gpt2')\n",
    "tokenizer = GPT2Tokenizer.from_pretrained('gpt2')"
   ],
   "metadata": {
    "collapsed": false
   },
   "id": "c19477c69ff5c57b"
  },
  {
   "cell_type": "code",
   "execution_count": 2,
   "outputs": [],
   "source": [
    "os.chdir('C:\\\\Users\\\\thory\\\\PycharmProjects\\\\chatopotamus')"
   ],
   "metadata": {
    "collapsed": false,
    "ExecuteTime": {
     "end_time": "2023-11-21T21:46:26.147975800Z",
     "start_time": "2023-11-21T21:46:26.133975400Z"
    }
   },
   "id": "17661f2166b661c1"
  },
  {
   "cell_type": "markdown",
   "source": [
    "**Path Constants**"
   ],
   "metadata": {
    "collapsed": false
   },
   "id": "8f5f01a5e0d687f2"
  },
  {
   "cell_type": "code",
   "execution_count": 3,
   "outputs": [],
   "source": [
    "DATA_PATH = 'resources/gpt/data'\n",
    "ORDERS_PATH = os.path.join(DATA_PATH, 'orders.txt')\n",
    "ENQUIRY_PATH = os.path.join(DATA_PATH, 'enquiry.txt')\n",
    "COMPLAINS_PATH = os.path.join(DATA_PATH, 'complains.txt')"
   ],
   "metadata": {
    "collapsed": false,
    "ExecuteTime": {
     "end_time": "2023-11-21T21:46:26.171971300Z",
     "start_time": "2023-11-21T21:46:26.153972900Z"
    }
   },
   "id": "5c997b8629569d33"
  },
  {
   "cell_type": "markdown",
   "source": [
    "**Convert into Sequences**"
   ],
   "metadata": {
    "collapsed": false
   },
   "id": "97232d0e81e9ecaa"
  },
  {
   "cell_type": "code",
   "execution_count": 4,
   "outputs": [],
   "source": [
    "final_sequence_order = gpt_trainer.file_to_sequences(ORDERS_PATH, intent='order')\n",
    "final_sequence_enquiry = gpt_trainer.file_to_sequences(ENQUIRY_PATH, intent='enquiry')\n",
    "final_sequence_complain = gpt_trainer.file_to_sequences(COMPLAINS_PATH, intent='complain')"
   ],
   "metadata": {
    "collapsed": false,
    "ExecuteTime": {
     "end_time": "2023-11-21T21:46:26.233027800Z",
     "start_time": "2023-11-21T21:46:26.167971200Z"
    }
   },
   "id": "39dcbcbc894ed03"
  },
  {
   "cell_type": "code",
   "execution_count": 5,
   "outputs": [],
   "source": [
    "final_sequences = final_sequence_complain + final_sequence_enquiry + final_sequence_order"
   ],
   "metadata": {
    "collapsed": false,
    "ExecuteTime": {
     "end_time": "2023-11-21T21:46:26.243023900Z",
     "start_time": "2023-11-21T21:46:26.229027800Z"
    }
   },
   "id": "523b76b4f189caae"
  },
  {
   "cell_type": "code",
   "execution_count": 7,
   "outputs": [
    {
     "data": {
      "text/plain": "\"customer: hi my coffee was too bitter System: Sorry to hear that! We aim for perfection, not bitterness. What can we do to make it right? customer: can you remake it with a little less espresso? System: Absolutely, we'll tone down the espresso for a smoother taste. Anything else we can adjust for you? customer: no that's it thank you System: No problem! We're on it. Your coffee redo will be ready shortly. Thanks for letting us fix that! customer: hey my chicken wrap was too dry System: Oh no, we definitely don't want Sahara vibes in your wrap. How about we make you a new one with extra sauce? <complain> <|endoftext|>\""
     },
     "execution_count": 7,
     "metadata": {},
     "output_type": "execute_result"
    }
   ],
   "source": [
    "final_sequences[0]"
   ],
   "metadata": {
    "collapsed": false,
    "ExecuteTime": {
     "end_time": "2023-11-21T21:47:16.060574800Z",
     "start_time": "2023-11-21T21:47:16.041573300Z"
    }
   },
   "id": "d190b4c090d677ba"
  },
  {
   "cell_type": "markdown",
   "source": [
    "**Tokenize**"
   ],
   "metadata": {
    "collapsed": false
   },
   "id": "8b7f1c7aca3f1bc8"
  },
  {
   "cell_type": "code",
   "execution_count": 10,
   "outputs": [],
   "source": [
    "tokenizer.pad_token = tokenizer.eos_token\n",
    "tokenized_inputs = tokenizer(final_sequences, truncation=True, padding=True, return_tensors=\"tf\")"
   ],
   "metadata": {
    "collapsed": false,
    "ExecuteTime": {
     "end_time": "2023-11-21T21:50:26.809863300Z",
     "start_time": "2023-11-21T21:50:25.463075900Z"
    }
   },
   "id": "b288b2c3602e1cf"
  },
  {
   "cell_type": "code",
   "execution_count": 11,
   "outputs": [],
   "source": [
    "gpt_trainer.save_file('resources/gpt/data/tokenized_inputs.pkl', tokenized_inputs)"
   ],
   "metadata": {
    "collapsed": false,
    "ExecuteTime": {
     "end_time": "2023-11-21T21:50:35.209961400Z",
     "start_time": "2023-11-21T21:50:35.195962800Z"
    }
   },
   "id": "17feae0c52c6766f"
  }
 ],
 "metadata": {
  "kernelspec": {
   "display_name": "Python 3",
   "language": "python",
   "name": "python3"
  },
  "language_info": {
   "codemirror_mode": {
    "name": "ipython",
    "version": 2
   },
   "file_extension": ".py",
   "mimetype": "text/x-python",
   "name": "python",
   "nbconvert_exporter": "python",
   "pygments_lexer": "ipython2",
   "version": "2.7.6"
  }
 },
 "nbformat": 4,
 "nbformat_minor": 5
}
