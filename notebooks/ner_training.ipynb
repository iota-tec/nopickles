{
 "cells": [
  {
   "cell_type": "code",
   "execution_count": 1,
   "outputs": [],
   "source": [
    "import os\n",
    "import pickle\n",
    "os.chdir('/content/drive/Othercomputers/AKATSUKI-PC/PycharmProjects/chatopotamus')"
   ],
   "metadata": {
    "collapsed": false,
    "ExecuteTime": {
     "end_time": "2023-11-22T21:10:35.605476Z",
     "start_time": "2023-11-22T21:10:34.652685200Z"
    }
   },
   "id": "f160a803ee989f3b"
  },
  {
   "cell_type": "code",
   "execution_count": 2,
   "outputs": [],
   "source": [
    "import joblib\n",
    "from tensorflow import keras\n",
    "import json\n",
    "from typing import List, Tuple\n",
    "from transformers import AutoTokenizer, BertTokenizer, TFBertForTokenClassification, BertConfig\n",
    "import tensorflow as tf\n",
    "from src.training import ner_prep\n",
    "import numpy as np"
   ],
   "metadata": {
    "collapsed": false,
    "ExecuteTime": {
     "end_time": "2023-11-22T21:10:50.574140100Z",
     "start_time": "2023-11-22T21:10:35.608469200Z"
    }
   },
   "id": "94a0413a7a2ffe33"
  },
  {
   "cell_type": "code",
   "execution_count": 4,
   "outputs": [],
   "source": [
    "os.chdir('C:\\\\Users\\\\thory\\\\PycharmProjects\\\\chatopotamus')"
   ],
   "metadata": {
    "collapsed": false,
    "ExecuteTime": {
     "end_time": "2023-11-22T20:48:41.633435Z",
     "start_time": "2023-11-22T20:48:41.620607900Z"
    }
   },
   "id": "5778cde7d840d85c"
  },
  {
   "cell_type": "markdown",
   "source": [
    "**Load the Tokenizer and Dataset**"
   ],
   "metadata": {
    "collapsed": false
   },
   "id": "cb0eeb22c75a5a5b"
  },
  {
   "cell_type": "code",
   "execution_count": 8,
   "outputs": [],
   "source": [
    "# Load pre-trained model tokenizer\n",
    "tokenizer = AutoTokenizer.from_pretrained('bert-base-uncased', use_fast=True)\n",
    "\n",
    "# Load files\n",
    "with open('resources/bert/data/ner_dataset.json', 'r') as file:\n",
    "\tner_dataset_json = json.load(file)\n",
    "\n",
    "with open('resources/bert/data/ner_lookup.json', 'r') as file:\n",
    "\tner_lookup = json.load(file)"
   ],
   "metadata": {
    "collapsed": false,
    "ExecuteTime": {
     "end_time": "2023-11-22T21:12:45.846862800Z",
     "start_time": "2023-11-22T21:12:45.545791900Z"
    }
   },
   "id": "638a160f14d658b1"
  },
  {
   "cell_type": "markdown",
   "source": [
    "**Convert dataset into IOB tagged data**"
   ],
   "metadata": {
    "collapsed": false
   },
   "id": "9e459d9ac37544e"
  },
  {
   "cell_type": "code",
   "execution_count": 9,
   "outputs": [],
   "source": [
    "iob_data = ner_prep.convert_to_IOB(ner_dataset_json, ner_lookup)"
   ],
   "metadata": {
    "collapsed": false,
    "ExecuteTime": {
     "end_time": "2023-11-22T21:12:48.166922300Z",
     "start_time": "2023-11-22T21:12:48.048034900Z"
    }
   },
   "id": "650af7ed0f1767d1"
  },
  {
   "cell_type": "code",
   "execution_count": 10,
   "outputs": [
    {
     "data": {
      "text/plain": "('give me a hot chocolate no whipped topping and a grilled cheese sandwich',\n ['O',\n  'O',\n  'O',\n  'B-beverage',\n  'I-beverage',\n  'O',\n  'B-beverage_modifier',\n  'I-beverage_modifier',\n  'O',\n  'O',\n  'B-food',\n  'I-food',\n  'O'])"
     },
     "execution_count": 10,
     "metadata": {},
     "output_type": "execute_result"
    }
   ],
   "source": [
    "iob_data[2]"
   ],
   "metadata": {
    "collapsed": false,
    "ExecuteTime": {
     "end_time": "2023-11-22T21:12:48.273486600Z",
     "start_time": "2023-11-22T21:12:48.272491800Z"
    }
   },
   "id": "d15fab5b77944c40"
  },
  {
   "cell_type": "markdown",
   "source": [
    "**Tokenization and Handling Subword Tokens**"
   ],
   "metadata": {
    "collapsed": false
   },
   "id": "c9f7ccab7b593a9e"
  },
  {
   "cell_type": "code",
   "execution_count": 11,
   "outputs": [],
   "source": [
    "final_data = []\n",
    "for sentence, tags in iob_data:\n",
    "\tfinal_data.append(ner_prep.align_tokens_and_tags(sentence,tags, tokenizer))"
   ],
   "metadata": {
    "collapsed": false,
    "ExecuteTime": {
     "end_time": "2023-11-22T21:12:49.327317800Z",
     "start_time": "2023-11-22T21:12:48.798114200Z"
    }
   },
   "id": "7829fe8d35baff11"
  },
  {
   "cell_type": "code",
   "execution_count": 12,
   "outputs": [
    {
     "data": {
      "text/plain": "[('i', 'O', 1045),\n ('ordered', 'O', 3641),\n ('a', 'O', 1037),\n ('medium', 'B-beverage_size', 5396),\n ('double', 'B-beverage_modifier', 3313),\n ('double', 'I-beverage_modifier', 3313),\n ('and', 'O', 1998),\n ('a', 'O', 1037),\n ('boston', 'O', 3731),\n ('cream', 'O', 6949),\n ('don', 'B-food', 2123),\n ('##ut', 'I-food', 4904),\n ('from', 'O', 2013),\n ('tim', 'O', 5199),\n ('horton', 'O', 18469),\n ('##s', 'O', 2015)]"
     },
     "execution_count": 12,
     "metadata": {},
     "output_type": "execute_result"
    }
   ],
   "source": [
    "final_data[0]"
   ],
   "metadata": {
    "collapsed": false,
    "ExecuteTime": {
     "end_time": "2023-11-22T21:12:49.339315400Z",
     "start_time": "2023-11-22T21:12:49.330317Z"
    }
   },
   "id": "e849e3cf419a201c"
  },
  {
   "cell_type": "markdown",
   "source": [
    "**Preprocessing**"
   ],
   "metadata": {
    "collapsed": false
   },
   "id": "d404f61017ba394f"
  },
  {
   "cell_type": "code",
   "execution_count": 13,
   "outputs": [
    {
     "data": {
      "text/plain": "26"
     },
     "execution_count": 13,
     "metadata": {},
     "output_type": "execute_result"
    }
   ],
   "source": [
    "max_len=0\n",
    "for sent in final_data:\n",
    "    max_len = len(sent) if len(sent)>max_len else max_len\n",
    "\n",
    "max_len"
   ],
   "metadata": {
    "collapsed": false,
    "ExecuteTime": {
     "end_time": "2023-11-22T21:12:50.968942200Z",
     "start_time": "2023-11-22T21:12:50.743780Z"
    }
   },
   "id": "c6ff703e8298169d"
  },
  {
   "cell_type": "code",
   "execution_count": 14,
   "outputs": [],
   "source": [
    "prepped_data, label_map = ner_prep.preprocess_for_training(final_data, max_seq_length=max_len)"
   ],
   "metadata": {
    "collapsed": false,
    "ExecuteTime": {
     "end_time": "2023-11-22T21:12:51.668626400Z",
     "start_time": "2023-11-22T21:12:51.552957300Z"
    }
   },
   "id": "77315fafa48281b4"
  },
  {
   "cell_type": "code",
   "execution_count": 14,
   "outputs": [
    {
     "data": {
      "text/plain": "{'B-food': 0,\n 'B-beverage_complain': 1,\n 'B-beverage_size': 2,\n 'B-beverage': 3,\n 'I-beverage_size': 4,\n 'I-beverage_complain': 5,\n 'I-food_modifier': 6,\n 'B-food_complain': 7,\n 'B-beverage_modifier': 8,\n 'I-food': 9,\n 'O': 10,\n 'B-food_modifier': 11,\n 'I-food_complain': 12,\n 'I-beverage_modifier': 13,\n 'I-beverage': 14,\n -100: -100}"
     },
     "execution_count": 14,
     "metadata": {},
     "output_type": "execute_result"
    }
   ],
   "source": [
    "label_map"
   ],
   "metadata": {
    "collapsed": false,
    "ExecuteTime": {
     "end_time": "2023-11-22T19:14:47.904821800Z",
     "start_time": "2023-11-22T19:14:47.841955600Z"
    }
   },
   "id": "a3104ef22aaa9dbe"
  },
  {
   "cell_type": "code",
   "execution_count": 13,
   "outputs": [
    {
     "name": "stdout",
     "output_type": "stream",
     "text": [
      "[[10 10 10  2  8 13 10 10 10 10  0  9 10 10 10 10  0  0  0  0  0  0  0  0\n",
      "   0  0]\n",
      " [10 10 10  2  3 14 10  8 13 10 10 11  6  0  9 10 11  0  0  0  0  0  0  0\n",
      "   0  0]\n",
      " [10 10 10  3 14 10  8 13 10 10  0  9  9 10  0  0  0  0  0  0  0  0  0  0\n",
      "   0  0]\n",
      " [10 10 10  2  8 13  3 10  8 13 10 10  0  9 10 11  6  0  0  0  0  0  0  0\n",
      "   0  0]\n",
      " [10 10 10 10 10  3 14 10 10 10 10 10 10  0  9  9 10 11  6  0  0  0  0  0\n",
      "   0  0]\n",
      " [10 10 10  2  3 14 10 10 10 10  0  9 10 11  6  0  0  0  0  0  0  0  0  0\n",
      "   0  0]\n",
      " [10 10 10  2  3 14 10  8 13 10  0  9  9  0  0  0  0  0  0  0  0  0  0  0\n",
      "   0  0]\n",
      " [10 10 10  2  3 14 14 10 10  0  9 10 10 11  6  0  0  0  0  0  0  0  0  0\n",
      "   0  0]\n",
      " [10 10 10  2 10  3 14 14 14 10 10  0  9 10 11  6  0  0  0  0  0  0  0  0\n",
      "   0  0]\n",
      " [10 10 10  2  3 14 10  8 13 10 10 11  6  0  9 10 11  0  0  0  0  0  0  0\n",
      "   0  0]\n",
      " [10 10 10  3 14 10  8 13 10 10  0  9  9 10  0  0  0  0  0  0  0  0  0  0\n",
      "   0  0]\n",
      " [10 10 10  2  8 13  3 10  8 13 10 10  0  9 10 11  6  0  0  0  0  0  0  0\n",
      "   0  0]\n",
      " [10 10 10 10 10  3 14 10 10 10 10 10 10  0  9  9 10 11  6  0  0  0  0  0\n",
      "   0  0]\n",
      " [10 10 10  2  3 14 10 10 10 10  0  9 10 11  6  0  0  0  0  0  0  0  0  0\n",
      "   0  0]\n",
      " [10 10 10  2  3 14 10  8 13 10  0  9  9  0  0  0  0  0  0  0  0  0  0  0\n",
      "   0  0]\n",
      " [10 10 10  2  3 14 14 10 10  0  9 10 10 11  6  0  0  0  0  0  0  0  0  0\n",
      "   0  0]\n",
      " [10 10 10  2 10  3 14 14 14 10 10  0  9 10 11  6  0  0  0  0  0  0  0  0\n",
      "   0  0]\n",
      " [10 10 10  2  3 10 10  0  9 10 11  6  0  0  0  0  0  0  0  0  0  0  0  0\n",
      "   0  0]\n",
      " [10 10 10  2  3 14 10  8 13 10 10  0  9 10 10  0  0  0  0  0  0  0  0  0\n",
      "   0  0]\n",
      " [10 10 10  2  3 14 10  8 13 10 10  0  9 10 11  6  0  0  0  0  0  0  0  0\n",
      "   0  0]\n",
      " [10 10 10 10  2  3 14 14 14 10 10  0  9  9 10 10 11  6  0  0  0  0  0  0\n",
      "   0  0]\n",
      " [10 10 10  2  3 10 10 10 10 10 10  0  9  9 10 11  6  0  0  0  0  0  0  0\n",
      "   0  0]\n",
      " [10 10 10  3 14 10  8 13 10 10  0  9 10 11  6  0  0  0  0  0  0  0  0  0\n",
      "   0  0]\n",
      " [10 10 10  2  8 13  3 10  8 13 10 10 11  6  0  9 10 11  0  0  0  0  0  0\n",
      "   0  0]\n",
      " [10 10 10 10 10  3 14 14 10 10  0  9 10 10 10 11  6  0  0  0  0  0  0  0\n",
      "   0  0]\n",
      " [10 10 10  2  3 14 10  8 13 10 10  0  9 10  0  0  0  0  0  0  0  0  0  0\n",
      "   0  0]\n",
      " [10 10 10  2  3 14 10  8 13 10  0  9  9  0  0  0  0  0  0  0  0  0  0  0\n",
      "   0  0]\n",
      " [10 10 10  2  3 14 10 10 10 10  0  9 10 11  6  0  0  0  0  0  0  0  0  0\n",
      "   0  0]\n",
      " [10 10 10  2  3 14 10 10  0  9  9 10 10 11  6  0  0  0  0  0  0  0  0  0\n",
      "   0  0]\n",
      " [10 10 10 10 10  2  3 14  8 13 10 10 10 10  8 13 13  0  0  0  0  0  0  0\n",
      "   0  0]\n",
      " [10 10 10 10 10 10 10  0  9  9  0  9 11  6 10 10 10 10  0  0  0  0  0  0\n",
      "   0  0]\n",
      " [10 10 10 10  2  3 14 10  8 13 10  8 13  0  0  0  0  0  0  0  0  0  0  0\n",
      "   0  0]]\n"
     ]
    }
   ],
   "source": [
    "for i in prepped_data.take(1):\n",
    "    print(np.argmax(i[1], axis=2))"
   ],
   "metadata": {
    "collapsed": false,
    "ExecuteTime": {
     "end_time": "2023-11-22T19:14:39.911077400Z",
     "start_time": "2023-11-22T19:14:39.870139600Z"
    }
   },
   "id": "d8eb9896b6217b09"
  },
  {
   "cell_type": "code",
   "execution_count": 15,
   "outputs": [
    {
     "data": {
      "text/plain": "<PrefetchDataset element_spec=({'input_ids': TensorSpec(shape=(None, 26), dtype=tf.int32, name=None), 'attention_mask': TensorSpec(shape=(None, 26), dtype=tf.int32, name=None)}, TensorSpec(shape=(None, 26, 15), dtype=tf.float32, name=None))>"
     },
     "execution_count": 15,
     "metadata": {},
     "output_type": "execute_result"
    }
   ],
   "source": [
    "prepped_data"
   ],
   "metadata": {
    "collapsed": false,
    "ExecuteTime": {
     "end_time": "2023-11-22T19:16:43.696036Z",
     "start_time": "2023-11-22T19:16:43.665637500Z"
    }
   },
   "id": "8b727c395d8b7c55"
  },
  {
   "cell_type": "markdown",
   "source": [
    "**Train-Test Split**"
   ],
   "metadata": {
    "collapsed": false
   },
   "id": "8b71c4df04a6de5e"
  },
  {
   "cell_type": "code",
   "execution_count": 15,
   "outputs": [],
   "source": [
    "total_size = 0\n",
    "for _ in prepped_data:\n",
    "    total_size += 1\n",
    "\n",
    "train_size = int(0.6 * total_size)\n",
    "val_size = int(0.2 * total_size)\n",
    "test_size = total_size - train_size - val_size\n",
    "\n",
    "train_dataset = prepped_data.take(train_size)\n",
    "val_dataset = prepped_data.skip(train_size).take(val_size)\n",
    "test_dataset = prepped_data.skip(train_size+val_size)"
   ],
   "metadata": {
    "collapsed": false,
    "ExecuteTime": {
     "end_time": "2023-11-22T21:12:57.531389800Z",
     "start_time": "2023-11-22T21:12:57.503847Z"
    }
   },
   "id": "5088b5a27d3699e5"
  },
  {
   "cell_type": "code",
   "execution_count": 16,
   "outputs": [
    {
     "data": {
      "text/plain": "(21, 7, 7)"
     },
     "execution_count": 16,
     "metadata": {},
     "output_type": "execute_result"
    }
   ],
   "source": [
    "train_size, val_size, test_size"
   ],
   "metadata": {
    "collapsed": false,
    "ExecuteTime": {
     "end_time": "2023-11-22T21:12:57.812055900Z",
     "start_time": "2023-11-22T21:12:57.787357400Z"
    }
   },
   "id": "9bd69c0b9e010f7c"
  },
  {
   "cell_type": "markdown",
   "source": [
    "**Training**"
   ],
   "metadata": {
    "collapsed": false
   },
   "id": "4654de7f71cd72e9"
  },
  {
   "cell_type": "code",
   "execution_count": 26,
   "outputs": [
    {
     "name": "stderr",
     "output_type": "stream",
     "text": [
      "All PyTorch model weights were used when initializing TFBertForTokenClassification.\n",
      "\n",
      "Some weights or buffers of the TF 2.0 model TFBertForTokenClassification were not initialized from the PyTorch model and are newly initialized: ['classifier.weight', 'classifier.bias']\n",
      "You should probably TRAIN this model on a down-stream task to be able to use it for predictions and inference.\n"
     ]
    }
   ],
   "source": [
    "num_labels = len(set([tag for sentence in final_data for _, tag, _ in sentence]))\n",
    "config = BertConfig.from_pretrained('bert-base-uncased', num_labels=num_labels)\n",
    "model = TFBertForTokenClassification.from_pretrained('bert-base-uncased', config=config)"
   ],
   "metadata": {
    "collapsed": false,
    "ExecuteTime": {
     "end_time": "2023-11-22T21:23:11.305012500Z",
     "start_time": "2023-11-22T21:23:08.983463800Z"
    }
   },
   "id": "7b48929d90c74d11"
  },
  {
   "cell_type": "code",
   "execution_count": 27,
   "outputs": [],
   "source": [
    "optimizer = keras.optimizers.Adam(learning_rate=5e-5)\n",
    "loss = keras.losses.CategoricalCrossentropy(from_logits=True)\n",
    "metrics = [keras.metrics.Precision(), keras.metrics.Recall(), ner_prep.F1Score()]"
   ],
   "metadata": {
    "collapsed": false,
    "ExecuteTime": {
     "end_time": "2023-11-22T21:23:11.460518700Z",
     "start_time": "2023-11-22T21:23:11.459534600Z"
    }
   },
   "id": "29933dba77a5bac4"
  },
  {
   "cell_type": "code",
   "execution_count": 37,
   "outputs": [],
   "source": [
    "callbacks = [\n",
    "    # keras.callbacks.ModelCheckpoint(filepath='resources\\\\bert\\\\checkpoints\\\\model.{epoch:02d}-{val_loss:.2f}.h5', save_weights_only=True),\n",
    "    keras.callbacks.EarlyStopping(monitor='val_f1_score', patience=7)\n",
    "]"
   ],
   "metadata": {
    "collapsed": false,
    "ExecuteTime": {
     "end_time": "2023-11-22T21:28:02.227995400Z",
     "start_time": "2023-11-22T21:28:02.222211100Z"
    }
   },
   "id": "80b7f2e60ce036fc"
  },
  {
   "cell_type": "code",
   "execution_count": 38,
   "outputs": [],
   "source": [
    "model.compile(optimizer=optimizer, loss=loss, metrics=metrics)"
   ],
   "metadata": {
    "collapsed": false,
    "ExecuteTime": {
     "end_time": "2023-11-22T21:28:02.446566900Z",
     "start_time": "2023-11-22T21:28:02.446566900Z"
    }
   },
   "id": "f4154941089f14b9"
  },
  {
   "cell_type": "code",
   "execution_count": 39,
   "outputs": [
    {
     "data": {
      "text/plain": "<keras.src.layers.core.dense.Dense at 0x7dc958fd4940>"
     },
     "execution_count": 39,
     "metadata": {},
     "output_type": "execute_result"
    }
   ],
   "source": [
    "model.layers[-1]"
   ],
   "metadata": {
    "collapsed": false,
    "ExecuteTime": {
     "end_time": "2023-11-22T21:28:02.447566800Z",
     "start_time": "2023-11-22T21:28:02.446566900Z"
    }
   },
   "id": "94a9c739b5eebe8"
  },
  {
   "cell_type": "code",
   "execution_count": 40,
   "outputs": [
    {
     "name": "stdout",
     "output_type": "stream",
     "text": [
      "Epoch 1/50\n",
      "28/28 [==============================] - 22s 311ms/step - loss: 0.0091 - precision_2: 0.7488 - recall_2: 0.9998 - f1_score: 0.8562 - val_loss: 0.0025 - val_precision_2: 0.8122 - val_recall_2: 1.0000 - val_f1_score: 0.8964\n",
      "Epoch 2/50\n",
      "28/28 [==============================] - 6s 224ms/step - loss: 0.0083 - precision_2: 0.7267 - recall_2: 0.9997 - f1_score: 0.8416 - val_loss: 0.0023 - val_precision_2: 0.7004 - val_recall_2: 1.0000 - val_f1_score: 0.8238\n",
      "Epoch 3/50\n",
      "28/28 [==============================] - 6s 210ms/step - loss: 0.0061 - precision_2: 0.7303 - recall_2: 0.9999 - f1_score: 0.8441 - val_loss: 0.0020 - val_precision_2: 0.7898 - val_recall_2: 1.0000 - val_f1_score: 0.8825\n",
      "Epoch 4/50\n",
      "28/28 [==============================] - 6s 213ms/step - loss: 0.0066 - precision_2: 0.7866 - recall_2: 0.9996 - f1_score: 0.8804 - val_loss: 0.0018 - val_precision_2: 0.8126 - val_recall_2: 1.0000 - val_f1_score: 0.8966\n",
      "Epoch 5/50\n",
      "28/28 [==============================] - 6s 222ms/step - loss: 0.0047 - precision_2: 0.7870 - recall_2: 0.9997 - f1_score: 0.8807 - val_loss: 0.0016 - val_precision_2: 0.8535 - val_recall_2: 1.0000 - val_f1_score: 0.9209\n",
      "Epoch 6/50\n",
      "28/28 [==============================] - 6s 213ms/step - loss: 0.0050 - precision_2: 0.8140 - recall_2: 0.9993 - f1_score: 0.8972 - val_loss: 0.0015 - val_precision_2: 0.7792 - val_recall_2: 1.0000 - val_f1_score: 0.8759\n",
      "Epoch 7/50\n",
      "28/28 [==============================] - 6s 223ms/step - loss: 0.0037 - precision_2: 0.8606 - recall_2: 0.9993 - f1_score: 0.9247 - val_loss: 0.0014 - val_precision_2: 0.8971 - val_recall_2: 1.0000 - val_f1_score: 0.9458\n",
      "Epoch 8/50\n",
      "28/28 [==============================] - 6s 218ms/step - loss: 0.0034 - precision_2: 0.8569 - recall_2: 0.9997 - f1_score: 0.9228 - val_loss: 0.0013 - val_precision_2: 0.8674 - val_recall_2: 1.0000 - val_f1_score: 0.9290\n",
      "Epoch 9/50\n",
      "28/28 [==============================] - 6s 212ms/step - loss: 0.0029 - precision_2: 0.9071 - recall_2: 0.9999 - f1_score: 0.9512 - val_loss: 0.0012 - val_precision_2: 0.9566 - val_recall_2: 1.0000 - val_f1_score: 0.9778\n"
     ]
    }
   ],
   "source": [
    "history_round_1 = model.fit(train_dataset, epochs=50, validation_data=val_dataset, callbacks=callbacks)"
   ],
   "metadata": {
    "collapsed": false,
    "ExecuteTime": {
     "end_time": "2023-11-22T21:29:16.660678500Z",
     "start_time": "2023-11-22T21:28:02.446566900Z"
    }
   },
   "id": "4161fc38d9f9596a"
  },
  {
   "cell_type": "markdown",
   "source": [
    "**Evaluation**"
   ],
   "metadata": {
    "collapsed": false
   },
   "id": "687d360a6a5d7342"
  },
  {
   "cell_type": "code",
   "execution_count": 41,
   "outputs": [
    {
     "name": "stdout",
     "output_type": "stream",
     "text": [
      "14/14 [==============================] - 1s 75ms/step - loss: 0.0074 - precision_2: 0.9464 - recall_2: 0.9992 - f1_score: 0.9721\n",
      "Precsion: 0.9464166760444641\n",
      "Recall: 0.9991577863693237\n",
      "F1 Score: 0.9720718860626221\n"
     ]
    }
   ],
   "source": [
    "loss, precision, recall, f1_score = model.evaluate(test_dataset)\n",
    "print(f'Precsion: {precision}\\nRecall: {recall}\\nF1 Score: {f1_score}')"
   ],
   "metadata": {
    "collapsed": false,
    "ExecuteTime": {
     "end_time": "2023-11-22T21:30:55.752428200Z",
     "start_time": "2023-11-22T21:30:54.463300500Z"
    }
   },
   "id": "234cbad854b9d3fd"
  },
  {
   "cell_type": "code",
   "execution_count": 43,
   "outputs": [
    {
     "name": "stdout",
     "output_type": "stream",
     "text": [
      "1/1 [==============================] - 6s 6s/step\n"
     ]
    },
    {
     "data": {
      "text/plain": "[('i', 'O'),\n ('want', 'O'),\n ('a', 'O'),\n ('large', 'B-beverage_size'),\n ('mo', 'B-beverage'),\n ('##cha', 'I-beverage'),\n ('and', 'O'),\n ('a', 'O'),\n ('don', 'B-food'),\n ('##ut', 'I-food'),\n ('the', 'O'),\n ('last', 'O'),\n ('one', 'O'),\n ('was', 'O'),\n ('dry', 'I-food_complain')]"
     },
     "execution_count": 43,
     "metadata": {},
     "output_type": "execute_result"
    }
   ],
   "source": [
    "ner_prep.predict_labels('i want a large mocha and a donut, the last one was dry', tokenizer, model, label_map, max_seq_length=26)"
   ],
   "metadata": {
    "collapsed": false,
    "ExecuteTime": {
     "end_time": "2023-11-22T21:32:15.529392100Z",
     "start_time": "2023-11-22T21:32:09.840437200Z"
    }
   },
   "id": "264b0e075358e41e"
  },
  {
   "cell_type": "markdown",
   "source": [
    "**For Reloading/Saving**"
   ],
   "metadata": {
    "collapsed": false
   },
   "id": "b5c00294ec543ee"
  },
  {
   "cell_type": "code",
   "execution_count": 63,
   "outputs": [],
   "source": [
    "prepped_data.save('resources/bert/data/prepped_data')\n",
    "with open('resources/bert/data/label_map.pkl', 'wb') as f:\n",
    "    pickle.dump(label_map, f)"
   ],
   "metadata": {
    "collapsed": false,
    "ExecuteTime": {
     "end_time": "2023-11-22T20:15:16.894799100Z",
     "start_time": "2023-11-22T20:15:16.804358800Z"
    }
   },
   "id": "813d78363173809"
  },
  {
   "cell_type": "code",
   "execution_count": 4,
   "outputs": [],
   "source": [
    "prepped_data = tf.data.Dataset.load('resources/bert/data/prepped_data')\n",
    "with open('resources/bert/data/label_map.pkl', 'rb') as f:\n",
    "    label_map = pickle.load(f)"
   ],
   "metadata": {
    "collapsed": false,
    "ExecuteTime": {
     "end_time": "2023-11-22T21:11:05.019331700Z",
     "start_time": "2023-11-22T21:10:58.442208900Z"
    }
   },
   "id": "95ac604625db64f2"
  },
  {
   "cell_type": "code",
   "execution_count": 42,
   "outputs": [],
   "source": [
    "model.save_weights('resources/bert/pretrained/bert-base-uncased.h5')"
   ],
   "metadata": {
    "collapsed": false,
    "ExecuteTime": {
     "end_time": "2023-11-22T21:31:46.051213400Z",
     "start_time": "2023-11-22T21:31:44.511940600Z"
    }
   },
   "id": "c3032eafed46907a"
  },
  {
   "cell_type": "code",
   "execution_count": null,
   "outputs": [],
   "source": [
    "config = BertConfig.from_pretrained('bert-base-uncased', num_labels=15)\n",
    "model = TFBertForTokenClassification.from_pretrained('bert-base-uncased', config=config)\n",
    "\n",
    "model.load_weights('resources/bert/pretrained/bert-base-uncased.h5')"
   ],
   "metadata": {
    "collapsed": false
   },
   "id": "158101790f066e2f"
  }
 ],
 "metadata": {
  "kernelspec": {
   "display_name": "Python 3",
   "language": "python",
   "name": "python3"
  },
  "language_info": {
   "codemirror_mode": {
    "name": "ipython",
    "version": 2
   },
   "file_extension": ".py",
   "mimetype": "text/x-python",
   "name": "python",
   "nbconvert_exporter": "python",
   "pygments_lexer": "ipython2",
   "version": "2.7.6"
  }
 },
 "nbformat": 4,
 "nbformat_minor": 5
}
