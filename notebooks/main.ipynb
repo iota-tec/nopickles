{
 "cells": [
  {
   "cell_type": "code",
   "execution_count": 1,
   "id": "initial_id",
   "metadata": {
    "collapsed": true,
    "ExecuteTime": {
     "end_time": "2023-10-19T07:04:21.177890800Z",
     "start_time": "2023-10-19T07:04:20.034436900Z"
    }
   },
   "outputs": [
    {
     "name": "stdout",
     "output_type": "stream",
     "text": [
      "pygame 2.5.2 (SDL 2.28.3, Python 3.9.18)\n",
      "Hello from the pygame community. https://www.pygame.org/contribute.html\n"
     ]
    },
    {
     "name": "stderr",
     "output_type": "stream",
     "text": [
      "C:\\Users\\thory\\miniconda3\\envs\\Iota\\lib\\site-packages\\pydub\\utils.py:170: RuntimeWarning: Couldn't find ffmpeg or avconv - defaulting to ffmpeg, but may not work\n",
      "  warn(\"Couldn't find ffmpeg or avconv - defaulting to ffmpeg, but may not work\", RuntimeWarning)\n"
     ]
    }
   ],
   "source": [
    "import os\n",
    "import audio_mgmt\n",
    "import deepspeech\n",
    "import numpy as np\n",
    "import pandas as pd\n",
    "import wave\n",
    "from pydub import AudioSegment\n",
    "import mysql.connector\n",
    "import json\n",
    "import io"
   ]
  },
  {
   "cell_type": "code",
   "execution_count": 2,
   "outputs": [],
   "source": [
    "# Load Pre-trained Model\n",
    "ds = deepspeech.Model('Resources/deepspeech/pretrained/deepspeech-0.9.3-models.pbmm')"
   ],
   "metadata": {
    "collapsed": false,
    "ExecuteTime": {
     "end_time": "2023-10-17T02:46:31.214482500Z",
     "start_time": "2023-10-17T02:46:31.142470900Z"
    }
   },
   "id": "31bb655d09f5e282"
  },
  {
   "cell_type": "code",
   "execution_count": 3,
   "outputs": [],
   "source": [
    "# Load constants\n",
    "AUDIO_TRAINING_PATH = 'Resources/deepspeech/audio'"
   ],
   "metadata": {
    "collapsed": false,
    "ExecuteTime": {
     "end_time": "2023-10-17T02:46:31.231475800Z",
     "start_time": "2023-10-17T02:46:31.188047Z"
    }
   },
   "id": "4413e6ea951e0a9f"
  },
  {
   "cell_type": "markdown",
   "source": [
    "For training the DeepSpeech model with custom examples, we need to feed it audio files. Let us create some functions for reading and preprocessing audio files for training purposes, and storing them into database.\n",
    "\n",
    "Let's start with creating a cursor for testing purposes."
   ],
   "metadata": {
    "collapsed": false
   },
   "id": "f30421d4715b94ac"
  },
  {
   "cell_type": "code",
   "execution_count": 4,
   "outputs": [],
   "source": [
    "conn = mysql.connector.connect(\n",
    "    host='localhost',\n",
    "    user='root',\n",
    "    password='0301sonaL',\n",
    "    database='chato_audio',\n",
    "    auth_plugin='mysql_native_password'\n",
    ")\n",
    "\n",
    "cursor = conn.cursor()"
   ],
   "metadata": {
    "collapsed": false,
    "ExecuteTime": {
     "end_time": "2023-10-17T02:46:33.344407500Z",
     "start_time": "2023-10-17T02:46:33.256408400Z"
    }
   },
   "id": "1590898690fb6e6d"
  },
  {
   "cell_type": "markdown",
   "source": [
    "**Read all transcripts into a list**"
   ],
   "metadata": {
    "collapsed": false
   },
   "id": "ebe1ffcb31eb2ec6"
  },
  {
   "cell_type": "code",
   "execution_count": 9,
   "outputs": [],
   "source": [
    "with open(os.path.join(AUDIO_TRAINING_PATH, 'transcripts.txt')) as fh:\n",
    "    transcripts = fh.readlines()"
   ],
   "metadata": {
    "collapsed": false,
    "ExecuteTime": {
     "end_time": "2023-10-17T02:47:58.434710Z",
     "start_time": "2023-10-17T02:47:58.408500400Z"
    }
   },
   "id": "ea9c4fda8fa839dd"
  },
  {
   "cell_type": "markdown",
   "source": [
    "**Store into database**"
   ],
   "metadata": {
    "collapsed": false
   },
   "id": "1c0292cb17e66bc7"
  },
  {
   "cell_type": "code",
   "execution_count": 11,
   "outputs": [
    {
     "data": {
      "text/plain": "['one two three four, get on the dance floor\\n',\n 'one two three four, get on the dance floor, yeah get on the dance floor\\n',\n 'Hey I want one cappuccino double double']"
     },
     "execution_count": 11,
     "metadata": {},
     "output_type": "execute_result"
    }
   ],
   "source": [
    "transcripts"
   ],
   "metadata": {
    "collapsed": false,
    "ExecuteTime": {
     "end_time": "2023-10-17T02:48:11.408029900Z",
     "start_time": "2023-10-17T02:48:11.380212800Z"
    }
   },
   "id": "b165afa0744ffe46"
  },
  {
   "cell_type": "code",
   "execution_count": 12,
   "outputs": [],
   "source": [
    "file = os.path.join(AUDIO_TRAINING_PATH, '003.wav')\n",
    "audio_mgmt.store_into_database(file, transcripts[2], cursor)\n",
    "conn.commit()"
   ],
   "metadata": {
    "collapsed": false,
    "ExecuteTime": {
     "end_time": "2023-10-17T02:48:17.646535400Z",
     "start_time": "2023-10-17T02:48:17.607101Z"
    }
   },
   "id": "4611778d35c18e9"
  },
  {
   "cell_type": "markdown",
   "source": [
    "**Read from database**"
   ],
   "metadata": {
    "collapsed": false
   },
   "id": "62219cf1669aef34"
  },
  {
   "cell_type": "code",
   "execution_count": 20,
   "outputs": [],
   "source": [
    "row = audio_mgmt.read_wav_from_database(6, cursor)"
   ],
   "metadata": {
    "collapsed": false,
    "ExecuteTime": {
     "end_time": "2023-10-17T02:50:44.192078100Z",
     "start_time": "2023-10-17T02:50:44.172885300Z"
    }
   },
   "id": "9e03fbaed470d2fd"
  },
  {
   "cell_type": "code",
   "execution_count": 21,
   "outputs": [
    {
     "data": {
      "text/plain": "array([ 18770,  17990, -25692, ...,      7,      3,     -1], dtype=int16)"
     },
     "execution_count": 21,
     "metadata": {},
     "output_type": "execute_result"
    }
   ],
   "source": [
    "row[0]"
   ],
   "metadata": {
    "collapsed": false,
    "ExecuteTime": {
     "end_time": "2023-10-17T02:50:44.779114100Z",
     "start_time": "2023-10-17T02:50:44.766117100Z"
    }
   },
   "id": "9a6dfd1f3ef5def5"
  },
  {
   "cell_type": "markdown",
   "source": [
    "**Transcribe using DeepSpeech**"
   ],
   "metadata": {
    "collapsed": false
   },
   "id": "af1a22ef8af78898"
  },
  {
   "cell_type": "code",
   "execution_count": 22,
   "outputs": [
    {
     "name": "stdout",
     "output_type": "stream",
     "text": [
      "Actual:\t [ 18770  17990 -25692 ...      7      3     -1]\n",
      "Predicted:\t hey i won one capitine of the willavel\n"
     ]
    }
   ],
   "source": [
    "y_pred = ds.stt(row[0])\n",
    "y = row[0]\n",
    "print('Actual:\\t', y)\n",
    "print('Predicted:\\t', y_pred)"
   ],
   "metadata": {
    "collapsed": false,
    "ExecuteTime": {
     "end_time": "2023-10-17T02:50:56.079897600Z",
     "start_time": "2023-10-17T02:50:53.183301Z"
    }
   },
   "id": "e6daa70ec1627822"
  },
  {
   "cell_type": "markdown",
   "source": [
    "**Synthsize Text**"
   ],
   "metadata": {
    "collapsed": false
   },
   "id": "758bd1122d03d908"
  },
  {
   "cell_type": "code",
   "execution_count": 2,
   "outputs": [],
   "source": [
    "audio_mgmt.speak('That will be 4$ 45 cents, to the window please')"
   ],
   "metadata": {
    "collapsed": false,
    "ExecuteTime": {
     "end_time": "2023-10-19T07:04:26.436961100Z",
     "start_time": "2023-10-19T07:04:22.582038500Z"
    }
   },
   "id": "9c99558412181dd2"
  }
 ],
 "metadata": {
  "kernelspec": {
   "display_name": "Python 3",
   "language": "python",
   "name": "python3"
  },
  "language_info": {
   "codemirror_mode": {
    "name": "ipython",
    "version": 2
   },
   "file_extension": ".py",
   "mimetype": "text/x-python",
   "name": "python",
   "nbconvert_exporter": "python",
   "pygments_lexer": "ipython2",
   "version": "2.7.6"
  }
 },
 "nbformat": 4,
 "nbformat_minor": 5
}
