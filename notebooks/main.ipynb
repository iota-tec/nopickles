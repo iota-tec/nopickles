{
 "cells": [
  {
   "cell_type": "code",
   "execution_count": 1,
   "id": "initial_id",
   "metadata": {
    "collapsed": true,
    "ExecuteTime": {
     "end_time": "2024-01-12T15:38:47.979071651Z",
     "start_time": "2024-01-12T15:38:47.627249900Z"
    }
   },
   "outputs": [
    {
     "name": "stderr",
     "output_type": "stream",
     "text": [
      "/home/crow/miniconda3/envs/chatopotamus/lib/python3.11/site-packages/pydub/utils.py:170: RuntimeWarning: Couldn't find ffmpeg or avconv - defaulting to ffmpeg, but may not work\n",
      "  warn(\"Couldn't find ffmpeg or avconv - defaulting to ffmpeg, but may not work\", RuntimeWarning)\n"
     ]
    }
   ],
   "source": [
    "import os\n",
    "import sys\n",
    "# import deepspeech\n",
    "import numpy as np\n",
    "import pandas as pd\n",
    "import wave\n",
    "from pydub import AudioSegment\n",
    "import mysql.connector\n",
    "import json\n",
    "import io\n",
    "import shutil\n",
    "from datasets import load_dataset"
   ]
  },
  {
   "cell_type": "code",
   "execution_count": 2,
   "outputs": [
    {
     "name": "stdout",
     "output_type": "stream",
     "text": [
      "pygame 2.5.2 (SDL 2.28.2, Python 3.11.7)\n",
      "Hello from the pygame community. https://www.pygame.org/contribute.html\n"
     ]
    }
   ],
   "source": [
    "from src import face_mgmt, audio_mgmt"
   ],
   "metadata": {
    "collapsed": false,
    "ExecuteTime": {
     "end_time": "2024-01-12T15:38:48.656395981Z",
     "start_time": "2024-01-12T15:38:47.979120414Z"
    }
   },
   "id": "e78fa7aef2c5a4f6"
  },
  {
   "cell_type": "code",
   "execution_count": 3,
   "outputs": [],
   "source": [
    "# Load Pre-trained Model\n",
    "ds = deepspeech.Model('resources/deepspeech/pretrained/deepspeech-0.9.3-models.pbmm')"
   ],
   "metadata": {
    "collapsed": false,
    "ExecuteTime": {
     "end_time": "2023-11-07T21:41:40.364117400Z",
     "start_time": "2023-11-07T21:41:40.298413800Z"
    }
   },
   "id": "31bb655d09f5e282"
  },
  {
   "cell_type": "code",
   "execution_count": 4,
   "outputs": [],
   "source": [
    "# Load constants\n",
    "AUDIO_TRAINING_PATH = 'resources/deepspeech/audio/sahil_audio'"
   ],
   "metadata": {
    "collapsed": false,
    "ExecuteTime": {
     "end_time": "2023-11-07T21:41:40.392156100Z",
     "start_time": "2023-11-07T21:41:40.364117400Z"
    }
   },
   "id": "4413e6ea951e0a9f"
  },
  {
   "cell_type": "markdown",
   "source": [
    "For training the DeepSpeech model with custom examples, we need to feed it audio files. Let us create some functions for reading and preprocessing audio files for training purposes, and storing them into database.\n",
    "\n",
    "Let's start with creating a cursor for testing purposes."
   ],
   "metadata": {
    "collapsed": false
   },
   "id": "f30421d4715b94ac"
  },
  {
   "cell_type": "code",
   "execution_count": 5,
   "outputs": [],
   "source": [
    "conn_audio = mysql.connector.connect(\n",
    "    host='localhost',\n",
    "    user='root',\n",
    "    password='0301sonaL',\n",
    "    database='chato_audio',\n",
    "    auth_plugin='mysql_native_password'\n",
    ")\n",
    "\n",
    "cursor_audio = conn_audio.cursor()"
   ],
   "metadata": {
    "collapsed": false,
    "ExecuteTime": {
     "end_time": "2023-11-07T21:41:40.465635600Z",
     "start_time": "2023-11-07T21:41:40.382121500Z"
    }
   },
   "id": "1590898690fb6e6d"
  },
  {
   "cell_type": "markdown",
   "source": [
    "**Read all transcripts into a list**"
   ],
   "metadata": {
    "collapsed": false
   },
   "id": "ebe1ffcb31eb2ec6"
  },
  {
   "cell_type": "code",
   "execution_count": 6,
   "outputs": [],
   "source": [
    "with open(os.path.join('resources/deepspeech/audio', 'sahil_transcripts.txt')) as fh:\n",
    "    transcripts = fh.readlines()"
   ],
   "metadata": {
    "collapsed": false,
    "ExecuteTime": {
     "end_time": "2023-11-07T21:42:00.661226500Z",
     "start_time": "2023-11-07T21:42:00.642155600Z"
    }
   },
   "id": "ea9c4fda8fa839dd"
  },
  {
   "cell_type": "markdown",
   "source": [
    "**Store into database**"
   ],
   "metadata": {
    "collapsed": false
   },
   "id": "1c0292cb17e66bc7"
  },
  {
   "cell_type": "code",
   "execution_count": 7,
   "outputs": [
    {
     "data": {
      "text/plain": "['Good evening! I would like to start with a Caesar salad, please.\\n',\n 'Hello there! May I have the margherita pizza, please?\\n',\n 'Hi! I will have the grilled chicken sandwich with a side of fries.\\n',\n 'Greetings! I am in the mood for some sushi. I will take the spicy tuna roll, please.\\n',\n 'Howdy! Could I get a classic cheeseburger with no onions, and a cola to drink?\\n',\n 'Hey! I would like the vegetable stir-fry, but make it extra spicy, please.\\n',\n 'Good afternoon! I will go for the shrimp scampi pasta, and a glass of white wine.\\n',\n 'Hi there! I would like the chicken quesadilla, and can I get some guacamole on the side?\\n',\n 'Hello! I will have the seafood chowder as a starter, and then the grilled salmon for my main course.\\n',\n 'Hey! I am in the mood for dessert. I will have the chocolate lava cake, please.\\n',\n 'Hi there! I would like to order a Whopper with cheese, large fries, and a Coke, please.\\n',\n 'Hello! Can I get a Bacon King Jr. and some onion rings, please?\\n',\n 'Hey! I will take a Double Whopper with no pickles and a small chocolate milkshake.\\n',\n 'Good afternoon! I would like to try the Impossible Whopper, and can you make it a meal with onion rings and a Sprite?\\n',\n 'Hi! I will have the Chicken Fries and a side of honey mustard sauce.\\n',\n 'Greetings! May I get a BARBEQUE Bacon King and a side salad with ranch dressing?\\n',\n 'Hello there! I will have a Junior Cheeseburger, small fries, and a vanilla soft-serve cone, please.\\n',\n 'Howdy! I would like the Rodeo Crispy Chicken Sandwich and some mozzarella sticks.\\n',\n 'Hey, can I have a Whopper Jr. with lettuce, tomato, and extra mayo, along with a small order of onion rings?\\n',\n 'Good evening! I am craving a Big King XL and a large Dr. Pepper, please.\\n',\n 'Hello! I would like a Mango Hurricane smoothie, please.\\n',\n 'Hi there! Can I get the Protein Packed smoothie with an energy booster?\\n',\n 'Good afternoon! I will take a Strawberry Sunshine and add a scoop of protein, please.\\n',\n 'Howdy! I am in the mood for a Green Hornet, small size.\\n',\n 'Hey! I would like a Funky Monkey smoothie with almond milk, if possible.\\n',\n 'Hello there! Can I get a Banana Beach smoothie and make it large?\\n',\n 'Greetings! I will go for the Brazilian Thunder with an immunity booster.\\n',\n 'Hi! I would like a Classic Mango Magic smoothie, please.\\n',\n 'Good evening! Give me a Berry Cream Sensation, small, with added chia seeds.\\n',\n 'Hello! Can I get a Pineapple Freeze with no added sugar?\\n',\n \"Hi there! I would like a large Pepperoni Lover's pizza with stuffed crust.\\n\",\n 'Hey! May I have a Veggie Supreme pan pizza and an order of garlic knots?\\n',\n \"Hello! I will take a Meat Lovers' Personal Pan Pizza, please.\\n\",\n 'Howdy! Can I get a Hawaiian pizza with extra pineapple, medium size?\\n',\n 'Greetings! I would like a Chicken Alfredo pasta and a side Caesar salad.\\n',\n 'Hi! Give me a Margherita pizza with a cheese-stuffed crust.\\n',\n 'Good evening! I will take a BARBEQUE Chicken pizza, large, and a Pepsi.\\n',\n 'Hello there! I would like the Supreme Feast pizza with extra mushrooms.\\n',\n 'Hey! I will have a Super Supreme pan pizza and an order of cinnamon sticks.\\n',\n 'Hello! Can I get a personal-sized Pepperoni Pizza and a side of marinara sauce for dipping?\\n',\n 'Hi there! I would like a Peanut Buster Parfait, please.\\n',\n 'Hello! Can I get a medium Oreo Blizzard with extra Oreos mixed in?\\n',\n 'Hey! I will take a DQ Bacon Cheeseburger and a small Chocolate Xtreme Blizzard.\\n',\n \"Good afternoon! May I have a Royal Reese's Brownie Blizzard, please?\\n\",\n 'Howdy! I am in the mood for a 4-piece Chicken Strip Basket and some DQ gravy.\\n',\n 'Greetings! I would like a medium Cotton Candy Blizzard, please.\\n',\n 'Hi! Give me a Cheeseburger and a small Cherry Dipped Cone.\\n',\n 'Hello there! Can I get a Chili Cheese Dog and a side of onion rings?\\n',\n 'Hey! I will have a Chicken & Gravy basket with a medium Orange Julius.\\n',\n 'Good evening! I would like a Peanut Butter Cookie Dough Smash Blizzard, please.\\n',\n 'Hi there! I would like a 6-inch Italian BMT on Italian herb and cheese bread, with lettuce, tomatoes, onions, and mayo.\\n',\n 'Hello! Can I get a footlong Turkey and Bacon Guacamole with extra pickles and a Coke, please?\\n',\n 'Hey! I will take a 6-inch Tuna sub on wheat bread with spinach, cucumbers, and honey mustard.\\n',\n 'Good afternoon! May I have a footlong Veggie Delight on 9-grain honey oat with all the veggies and chipotle southwest sauce?\\n',\n 'Greetings! I would like a Chicken & Bacon Ranch Melt on flatbread with extra ranch dressing.\\n',\n 'Hi! Give me a 6-inch Meatball Marinara with extra cheese, toasted, and a side of Marinara sauce.\\n',\n 'Hello there! Can I get a footlong Steak and Cheese sub with green peppers, onions, and provolone cheese, please?\\n',\n 'Hey! I will have a 6-inch Spicy Italian on Italian bread with pepper jack cheese and hot peppers.\\n',\n 'Good evening! I would like a Chicken Teriyaki sub on honey oat with teriyaki sauce and sweet onion dressing.\\n',\n 'Hello! Can I get a footlong Roast Beef on Italian herb and cheese bread with lettuce, onions, and horseradish sauce?\\n',\n 'Hi there! I would like a 3-piece Spicy Chicken Tenders combo with mashed potatoes and Cajun gravy, please.\\n',\n 'Hello! Can I get a Spicy Chicken Sandwich, and make it a meal with Cajun fries and a Dr. Pepper?\\n',\n 'Hey! I will take a 2-piece Mixed Chicken combo with a biscuit and coleslaw.\\n',\n 'Good afternoon! May I have a 4-piece Spicy Chicken combo with red beans and rice and a biscuit?\\n',\n \"Greetings! I would like a Chicken Po' Boy sandwich with a side of mac and cheese.\\n\",\n 'Hi! Give me a Spicy Chicken Wing meal with a side of mashed potatoes and a lemonade.\\n',\n 'Hello there! Can I get a 3-piece Handcrafted Tenders combo with Cajun rice and a biscuit?\\n',\n 'Hey! I will have a Spicy Chicken Leg and Thigh combo with fries and a Sprite.\\n',\n \"Good evening! I would like a Shrimp Po' Boy sandwich with a side of coleslaw.\\n\",\n \"Hello! Can I get a Kids' Chicken Tender meal with applesauce and a small fruit punch, please?\\n\",\n 'Hi there! I would like a Big Mac meal with a Coke and a side of small fries, please.\\n',\n 'Hello! Can I get a 6-piece Chicken McNuggets with sweet and sour sauce, and a small chocolate shake?\\n',\n 'Hey! I will take a Quarter Pounder with Cheese, medium fries, and an apple pie.\\n',\n 'Good afternoon! May I have a McChicken sandwich and a small Caesar salad?\\n',\n 'Greetings! I would like a Sausage McMuffin with egg, a hash brown, and an orange juice.\\n',\n 'Hi! Give me a Filet-O-Fish sandwich with a side of apple slices.\\n',\n 'Hello there! Can I get a McDouble with no pickles and a small Sprite?\\n',\n 'Hey! I will have a Bacon, Egg & Cheese Biscuit with a small coffee, please.\\n',\n 'Good evening! I would like a 10-piece Spicy McChicken McNuggets with BARBEQUE sauce, and a large iced tea.\\n',\n 'Hello! Can I get a Grilled Chicken Ranch Snack Wrap, and make it a meal with a side salad and a fruit bag?\\n',\n 'Hi there! I would like a 3-piece Original Recipe Chicken meal with coleslaw and a biscuit.\\n',\n 'Hello! Can I get a 2-piece Extra Crispy Chicken with mashed potatoes and gravy?\\n',\n 'Hey! I will take a Chicken Pot Pie and a side of green beans.\\n',\n 'Good afternoon! May I have a Crispy Colonel Sandwich, and make it a combo with wedges and a Pepsi?\\n',\n 'Greetings! I would like a Famous Bowl with mac and cheese, and a Mountain Dew.\\n',\n 'Hi! Give me a 4-piece Spicy Hot Wings combo with a biscuit and coleslaw.\\n',\n 'Hello there! Can I get a Chicken Tender Combo with corn on the cob and a Dr. Pepper?\\n',\n 'Hey! I will have a Nashville Hot Chicken sandwich and a side of potato wedges.\\n',\n 'Good evening! I would like a 5-piece Chicken Tenders box with honey mustard sauce and a side of corn.\\n',\n 'Hello! Can I get a Crispy Twister wrap and a side of cole slaw.\\n',\n 'Hi there! I would like a Venti Caramel Frappuccino with extra caramel drizzle and whipped cream.\\n',\n 'Hello! Can I get a Grande Vanilla Latte with almond milk and a chocolate croissant?\\n',\n 'Hey! I will take a Tall Iced Green Tea Latte with a ham and cheese croissant.\\n',\n 'Good afternoon! May I have a Grande Cold Brew with sweet cream and a spinach feta wrap?\\n',\n 'Greetings! I would like a Venti Mocha Frappuccino with an everything bagel.\\n',\n 'Hi! Give me a Tall Cappuccino with a blueberry scone, please.\\n',\n 'Hello there! Can I get a Grande Caramel Macchiato with a bacon and Gouda breakfast sandwich?\\n',\n 'Hey! I will have a Tall Flat White with a cinnamon swirl coffee cake.\\n',\n 'Good evening! I would like a Venti White Chocolate Mocha with a turkey and pesto panini.\\n',\n 'Hello! Can I get a Grande Chai Tea Latte with a fruit and yogurt parfait.\\n',\n ' \\n']"
     },
     "execution_count": 7,
     "metadata": {},
     "output_type": "execute_result"
    }
   ],
   "source": [
    "transcripts"
   ],
   "metadata": {
    "collapsed": false,
    "ExecuteTime": {
     "end_time": "2023-11-07T21:42:02.055920Z",
     "start_time": "2023-11-07T21:42:02.009377300Z"
    }
   },
   "id": "b165afa0744ffe46"
  },
  {
   "cell_type": "code",
   "execution_count": 8,
   "outputs": [],
   "source": [
    "file = os.path.join('resources/deepspeech/audio/sahil_audio/34.m4a')\n",
    "audio_mgmt.store_into_database(file, transcripts[33], cursor_audio)\n",
    "conn_audio.commit()"
   ],
   "metadata": {
    "collapsed": false,
    "ExecuteTime": {
     "end_time": "2023-11-07T21:42:12.249755900Z",
     "start_time": "2023-11-07T21:42:12.036578400Z"
    }
   },
   "id": "4611778d35c18e9"
  },
  {
   "cell_type": "markdown",
   "source": [
    "**Read from database**"
   ],
   "metadata": {
    "collapsed": false
   },
   "id": "62219cf1669aef34"
  },
  {
   "cell_type": "code",
   "execution_count": 10,
   "outputs": [],
   "source": [
    "row = audio_mgmt.read_wav_from_database(41, cursor=cursor_audio)"
   ],
   "metadata": {
    "collapsed": false,
    "ExecuteTime": {
     "end_time": "2023-11-07T21:24:31.335905400Z",
     "start_time": "2023-11-07T21:24:31.319906800Z"
    }
   },
   "id": "9e03fbaed470d2fd"
  },
  {
   "cell_type": "code",
   "execution_count": 11,
   "outputs": [
    {
     "data": {
      "text/plain": "array([18770, 17990,  3602, ...,     0,     0,     0], dtype=int16)"
     },
     "execution_count": 11,
     "metadata": {},
     "output_type": "execute_result"
    }
   ],
   "source": [
    "row[0]"
   ],
   "metadata": {
    "collapsed": false,
    "ExecuteTime": {
     "end_time": "2023-11-07T21:24:32.981341500Z",
     "start_time": "2023-11-07T21:24:32.948835400Z"
    }
   },
   "id": "9a6dfd1f3ef5def5"
  },
  {
   "cell_type": "markdown",
   "source": [
    "**Transcribe using DeepSpeech**"
   ],
   "metadata": {
    "collapsed": false
   },
   "id": "af1a22ef8af78898"
  },
  {
   "cell_type": "code",
   "execution_count": 12,
   "outputs": [
    {
     "name": "stdout",
     "output_type": "stream",
     "text": [
      "Actual:\t [18770 17990  3602 ...     0     0     0]\n",
      "Predicted:\t i helo how are you\n"
     ]
    }
   ],
   "source": [
    "y_pred = ds.stt(row[0])\n",
    "y = row[0]\n",
    "print('Actual:\\t', y)\n",
    "print('Predicted:\\t', y_pred)"
   ],
   "metadata": {
    "collapsed": false,
    "ExecuteTime": {
     "end_time": "2023-11-07T21:24:43.823209700Z",
     "start_time": "2023-11-07T21:24:40.689952100Z"
    }
   },
   "id": "e6daa70ec1627822"
  },
  {
   "cell_type": "markdown",
   "source": [
    "**Synthsize Text**"
   ],
   "metadata": {
    "collapsed": false
   },
   "id": "758bd1122d03d908"
  },
  {
   "cell_type": "code",
   "execution_count": 2,
   "outputs": [],
   "source": [
    "audio_mgmt.speak('That will be 4$ 45 cents, to the window please')"
   ],
   "metadata": {
    "collapsed": false,
    "ExecuteTime": {
     "end_time": "2023-10-19T07:04:26.436961100Z",
     "start_time": "2023-10-19T07:04:22.582038500Z"
    }
   },
   "id": "9c99558412181dd2"
  },
  {
   "cell_type": "markdown",
   "source": [
    "**Store Image into database**"
   ],
   "metadata": {
    "collapsed": false
   },
   "id": "902431c1430acd9c"
  },
  {
   "cell_type": "code",
   "execution_count": 3,
   "outputs": [],
   "source": [
    "conn_face = mysql.connector.connect(\n",
    "    host='localhost',\n",
    "    user='root',\n",
    "    password='0301sonaL',\n",
    "    database='chato_customer',\n",
    "    auth_plugin='mysql_native_password'\n",
    ")\n",
    "\n",
    "cursor_face = conn_face.cursor()"
   ],
   "metadata": {
    "collapsed": false,
    "ExecuteTime": {
     "end_time": "2024-01-12T15:38:52.214296695Z",
     "start_time": "2024-01-12T15:38:52.195827506Z"
    }
   },
   "id": "e594a0f7ef90888"
  },
  {
   "cell_type": "code",
   "outputs": [],
   "source": [
    "os.chdir('/home/crow/Iota/chatopotamus')"
   ],
   "metadata": {
    "collapsed": false,
    "ExecuteTime": {
     "end_time": "2024-01-12T15:38:52.326367669Z",
     "start_time": "2024-01-12T15:38:52.324003674Z"
    }
   },
   "id": "93088b41807239e5",
   "execution_count": 4
  },
  {
   "cell_type": "code",
   "execution_count": 6,
   "outputs": [],
   "source": [
    "test_face = 'temp_faces/Sahil.jpg'\n",
    "face_mgmt.store_into_database(file=test_face, cursor=cursor_face)"
   ],
   "metadata": {
    "collapsed": false,
    "ExecuteTime": {
     "end_time": "2024-01-12T15:38:59.478534838Z",
     "start_time": "2024-01-12T15:38:59.253889684Z"
    }
   },
   "id": "4ce0516e689cdca5"
  },
  {
   "cell_type": "code",
   "execution_count": 7,
   "outputs": [],
   "source": [
    "conn_face.commit()"
   ],
   "metadata": {
    "collapsed": false,
    "ExecuteTime": {
     "end_time": "2024-01-12T15:39:02.668762018Z",
     "start_time": "2024-01-12T15:39:02.666031627Z"
    }
   },
   "id": "8be3e39fe239ac1b"
  },
  {
   "cell_type": "markdown",
   "source": [
    "**Test Listen**"
   ],
   "metadata": {
    "collapsed": false
   },
   "id": "f137a7f6db23ec00"
  },
  {
   "cell_type": "code",
   "execution_count": 6,
   "outputs": [
    {
     "name": "stdout",
     "output_type": "stream",
     "text": [
      "Listening...\n"
     ]
    }
   ],
   "source": [
    "speech = audio_mgmt.listen()"
   ],
   "metadata": {
    "collapsed": false,
    "ExecuteTime": {
     "end_time": "2023-10-24T19:39:07.853091700Z",
     "start_time": "2023-10-24T19:39:01.663710400Z"
    }
   },
   "id": "b0b21edc10a2bc06"
  },
  {
   "cell_type": "code",
   "execution_count": 7,
   "outputs": [
    {
     "data": {
      "text/plain": "array([  0,   0,  -1, ..., -13, -39, -60], dtype=int16)"
     },
     "execution_count": 7,
     "metadata": {},
     "output_type": "execute_result"
    }
   ],
   "source": [
    "speech"
   ],
   "metadata": {
    "collapsed": false,
    "ExecuteTime": {
     "end_time": "2023-10-24T19:39:12.075221Z",
     "start_time": "2023-10-24T19:39:12.045661800Z"
    }
   },
   "id": "c882a454af146966"
  },
  {
   "cell_type": "code",
   "execution_count": 8,
   "outputs": [
    {
     "data": {
      "text/plain": "'wit up ed anyon an i de i tet to ma'"
     },
     "execution_count": 8,
     "metadata": {},
     "output_type": "execute_result"
    }
   ],
   "source": [
    "ds.stt(speech)"
   ],
   "metadata": {
    "collapsed": false,
    "ExecuteTime": {
     "end_time": "2023-10-24T19:39:27.088893200Z",
     "start_time": "2023-10-24T19:39:21.703952400Z"
    }
   },
   "id": "c7652debd09bd808"
  },
  {
   "cell_type": "markdown",
   "source": [
    "**Prepare Data**"
   ],
   "metadata": {
    "collapsed": false
   },
   "id": "fd9ad5fdaa60e1d3"
  },
  {
   "cell_type": "code",
   "execution_count": 4,
   "outputs": [],
   "source": [
    "# Change the indices in split parameter according to `current_i`. `current_i` represents the number of audio files written so far.\n",
    "common_voice_subset = load_dataset('mozilla-foundation/common_voice_11_0', 'en', split='train[:2400]')"
   ],
   "metadata": {
    "collapsed": false,
    "ExecuteTime": {
     "end_time": "2023-10-27T11:02:40.272825500Z",
     "start_time": "2023-10-27T11:02:35.381074700Z"
    }
   },
   "id": "39dfbb3730d415f5"
  },
  {
   "cell_type": "code",
   "execution_count": 8,
   "outputs": [],
   "source": [
    "# 2400 files have been written. Change `current_i` correspondingly when calling this function.\n",
    "def move_audio_files(current_i, dataset):\n",
    "    for filename in dataset['path']:\n",
    "        shutil.copy(file, f'{AUDIO_TRAINING_PATH}/common_voice_audio/{current_i}.mp3')\n",
    "        current_i+=1"
   ],
   "metadata": {
    "collapsed": false,
    "ExecuteTime": {
     "end_time": "2023-10-27T11:15:37.782140400Z",
     "start_time": "2023-10-27T11:15:37.761846700Z"
    }
   },
   "id": "c9133a27c17e02a8"
  },
  {
   "cell_type": "code",
   "execution_count": 11,
   "outputs": [],
   "source": [
    "def write_transcripts(filename=f'{AUDIO_TRAINING_PATH}/common_voice_transcripts.txt',*, dataset):\n",
    "    with open(filename, 'a') as fh:\n",
    "        for line in dataset['sentence']:\n",
    "            fh.write(line+'\\n')"
   ],
   "metadata": {
    "collapsed": false,
    "ExecuteTime": {
     "end_time": "2023-10-27T11:16:05.074829200Z",
     "start_time": "2023-10-27T11:16:05.057677400Z"
    }
   },
   "id": "d6b65c6a18d56c8c"
  },
  {
   "cell_type": "code",
   "execution_count": null,
   "outputs": [],
   "source": [],
   "metadata": {
    "collapsed": false
   },
   "id": "6c7bd231373c74c6"
  }
 ],
 "metadata": {
  "kernelspec": {
   "display_name": "Python 3",
   "language": "python",
   "name": "python3"
  },
  "language_info": {
   "codemirror_mode": {
    "name": "ipython",
    "version": 2
   },
   "file_extension": ".py",
   "mimetype": "text/x-python",
   "name": "python",
   "nbconvert_exporter": "python",
   "pygments_lexer": "ipython2",
   "version": "2.7.6"
  }
 },
 "nbformat": 4,
 "nbformat_minor": 5
}
