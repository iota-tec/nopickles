{
 "cells": [
  {
   "cell_type": "markdown",
   "source": [
    "### Text Generation using GPT2"
   ],
   "metadata": {
    "collapsed": false
   },
   "id": "539641fbd11b51d"
  },
  {
   "cell_type": "code",
   "execution_count": 1,
   "outputs": [],
   "source": [
    "# For Colab\n",
    "import os\n",
    "os.chdir('/content/drive/Othercomputers/AKATSUKI-PC/PycharmProjects/chatopotamus')"
   ],
   "metadata": {
    "collapsed": false,
    "ExecuteTime": {
     "end_time": "2023-11-27T12:34:23.997441300Z",
     "start_time": "2023-11-27T12:34:23.995147Z"
    }
   },
   "id": "c0f83569b9b1caa5"
  },
  {
   "cell_type": "code",
   "execution_count": 1,
   "outputs": [],
   "source": [
    "import tensorflow as tf\n",
    "from transformers import GPT2Tokenizer, TFGPT2LMHeadModel\n",
    "from tensorflow import keras\n",
    "from all_legacy_code.src.preprocess import text_prep"
   ],
   "metadata": {
    "collapsed": false,
    "ExecuteTime": {
     "end_time": "2023-11-28T00:16:45.513584300Z",
     "start_time": "2023-11-28T00:16:32.902315600Z"
    }
   },
   "id": "c43bf26a43a1b590"
  },
  {
   "cell_type": "code",
   "execution_count": 5,
   "outputs": [],
   "source": [
    "# For Local Interpreter\n",
    "import os\n",
    "os.chdir('C:\\\\Users\\\\thory\\\\PycharmProjects\\\\chatopotamus')"
   ],
   "metadata": {
    "collapsed": false,
    "ExecuteTime": {
     "end_time": "2023-11-28T00:17:04.091444500Z",
     "start_time": "2023-11-28T00:17:04.035412700Z"
    }
   },
   "id": "4085ad4e9936899f"
  },
  {
   "cell_type": "markdown",
   "source": [
    "**Getting Data**"
   ],
   "metadata": {
    "collapsed": false
   },
   "id": "e6ac8f599cd3061"
  },
  {
   "cell_type": "code",
   "execution_count": 6,
   "outputs": [],
   "source": [
    "DATA_PATH = 'resources/gpt/data'\n",
    "ORDERS_PATH = os.path.join(DATA_PATH, 'orders.txt')\n",
    "ENQUIRY_PATH = os.path.join(DATA_PATH, 'enquiry.txt')\n",
    "COMPLAINS_PATH = os.path.join(DATA_PATH, 'complains.txt')"
   ],
   "metadata": {
    "collapsed": false,
    "ExecuteTime": {
     "end_time": "2023-11-28T00:17:04.741532500Z",
     "start_time": "2023-11-28T00:17:04.720499100Z"
    }
   },
   "id": "2399c8d622e5b0f7"
  },
  {
   "cell_type": "code",
   "execution_count": 7,
   "outputs": [],
   "source": [
    "*final_sequence_order, intent_order  = text_prep.file_to_sequences(ORDERS_PATH, intent='order', split_speaker=True)\n",
    "*final_sequence_enquiry, intent_enquiry = text_prep.file_to_sequences(ENQUIRY_PATH, intent='enquiry', split_speaker=True)\n",
    "*final_sequence_complain, intent_complain = text_prep.file_to_sequences(COMPLAINS_PATH, intent='complain', split_speaker=True)"
   ],
   "metadata": {
    "collapsed": false,
    "ExecuteTime": {
     "end_time": "2023-11-28T00:17:05.513536300Z",
     "start_time": "2023-11-28T00:17:05.421539Z"
    }
   },
   "id": "ec7c4186e7183528"
  },
  {
   "cell_type": "code",
   "execution_count": 8,
   "outputs": [],
   "source": [
    "final_sequences = final_sequence_complain+final_sequence_enquiry+final_sequence_order"
   ],
   "metadata": {
    "collapsed": false,
    "ExecuteTime": {
     "end_time": "2023-11-28T00:17:05.784556600Z",
     "start_time": "2023-11-28T00:17:05.734560200Z"
    }
   },
   "id": "827e958c226f2fb7"
  },
  {
   "cell_type": "code",
   "execution_count": 9,
   "outputs": [],
   "source": [
    "# ONLY FOR SPLIT_SPEAKER\n",
    "all_customer_dialogues = []\n",
    "all_system_dialogues = []\n",
    "\n",
    "# Function to append dialogues to the respective lists\n",
    "def append_dialogues(customer_dialogues, system_dialogues):\n",
    "    all_customer_dialogues.extend(customer_dialogues)\n",
    "    all_system_dialogues.extend(system_dialogues)\n",
    "\n",
    "# Append dialogues from each file\n",
    "append_dialogues(*final_sequence_order)\n",
    "append_dialogues(*final_sequence_enquiry)\n",
    "append_dialogues(*final_sequence_complain)\n",
    "\n",
    "# Now all_customer_dialogues and all_system_dialogues contain all dialogues\n",
    "final_sequences_pair = (all_customer_dialogues, all_system_dialogues)"
   ],
   "metadata": {
    "collapsed": false,
    "ExecuteTime": {
     "end_time": "2023-11-28T00:17:06.629557700Z",
     "start_time": "2023-11-28T00:17:06.596557800Z"
    }
   },
   "id": "72161463de2470a4"
  },
  {
   "cell_type": "code",
   "execution_count": 11,
   "outputs": [
    {
     "data": {
      "text/plain": "70"
     },
     "execution_count": 11,
     "metadata": {},
     "output_type": "execute_result"
    }
   ],
   "source": [
    "final_sequences_pair"
   ],
   "metadata": {
    "collapsed": false,
    "ExecuteTime": {
     "end_time": "2023-11-28T00:17:25.776246400Z",
     "start_time": "2023-11-28T00:17:25.729250300Z"
    }
   },
   "id": "448b9206c47109b8"
  },
  {
   "cell_type": "markdown",
   "source": [
    "**Tokenizing**"
   ],
   "metadata": {
    "collapsed": false
   },
   "id": "c0182829fcd65229"
  },
  {
   "cell_type": "code",
   "execution_count": null,
   "outputs": [],
   "source": [
    "tokenizer = GPT2Tokenizer.from_pretrained('gpt2')\n",
    "tokenizer.padding_side = 'left'\n",
    "tokenizer.pad_token = tokenizer.eos_token\n",
    "tokenized_inputs = tokenizer(final_sequences[0], max_length=40, padding='max_length', truncation=True, return_tensors='tf')"
   ],
   "metadata": {
    "collapsed": false
   },
   "id": "5afe4eafb8efba42"
  },
  {
   "cell_type": "code",
   "execution_count": 9,
   "outputs": [
    {
     "data": {
      "text/plain": "{'input_ids': <tf.Tensor: shape=(1, 40), dtype=int32, numpy=\narray([[50256, 50256, 50256, 50256, 50256, 50256, 50256, 50256, 50256,\n        23144,   263,    25, 23105,   616,  6891,   373,  1165, 12922,\n         1080,    25,  7926,   284,  3285,   326,     0,   356,  4031,\n          329, 20187,   407, 35987,   644,   460,   356,   466,   284,\n          787,   340,   826,    30]], dtype=int32)>, 'attention_mask': <tf.Tensor: shape=(1, 40), dtype=int32, numpy=\narray([[0, 0, 0, 0, 0, 0, 0, 0, 0, 1, 1, 1, 1, 1, 1, 1, 1, 1, 1, 1, 1, 1,\n        1, 1, 1, 1, 1, 1, 1, 1, 1, 1, 1, 1, 1, 1, 1, 1, 1, 1]],\n      dtype=int32)>}"
     },
     "execution_count": 9,
     "metadata": {},
     "output_type": "execute_result"
    }
   ],
   "source": [
    "tokenized_inputs"
   ],
   "metadata": {
    "collapsed": false,
    "ExecuteTime": {
     "end_time": "2023-11-27T06:20:29.492579400Z",
     "start_time": "2023-11-27T06:20:29.282981200Z"
    }
   },
   "id": "df5586c67dbfa78b"
  },
  {
   "cell_type": "markdown",
   "source": [
    "**Preprocessing** (this step encapsulates tokenization)"
   ],
   "metadata": {
    "collapsed": false
   },
   "id": "31c420924d6cbbca"
  },
  {
   "cell_type": "code",
   "execution_count": 10,
   "outputs": [
    {
     "data": {
      "text/plain": "<_PrefetchDataset element_spec=({'input_ids': TensorSpec(shape=(None, 39), dtype=tf.int32, name=None), 'attention_mask': TensorSpec(shape=(None, 39), dtype=tf.int32, name=None)}, TensorSpec(shape=(None, 39), dtype=tf.int32, name=None))>"
     },
     "execution_count": 10,
     "metadata": {},
     "output_type": "execute_result"
    }
   ],
   "source": [
    "prepped_data = text_prep.preprocess_for_gpt2(final_sequences, tokenizer, train=True, one_shift=True)\n",
    "prepped_data"
   ],
   "metadata": {
    "collapsed": false,
    "ExecuteTime": {
     "end_time": "2023-11-27T06:20:31.228861100Z",
     "start_time": "2023-11-27T06:20:29.492579400Z"
    }
   },
   "id": "fd3d837a44e25443"
  },
  {
   "cell_type": "code",
   "execution_count": 11,
   "outputs": [
    {
     "name": "stdout",
     "output_type": "stream",
     "text": [
      "{'input_ids': <tf.Tensor: shape=(16, 39), dtype=int32, numpy=\n",
      "array([[50256, 50256, 50256, 50256, 50256, 50256, 50256, 50256, 50256,\n",
      "        50256, 50256, 50256, 23144,   263,    25,   262,  8887,  1312,\n",
      "         6149,   373,   300,  4649, 31975,  1080,    25,   356, 16521,\n",
      "          329,   326,   561,   345,   588,   257,  3024,  9014,   393,\n",
      "          257,  1180,  4144],\n",
      "       [23144,   263,    25,   326,   338,   477,   329,   783,  5875,\n",
      "          345,     0,  1080,    25,   345,   821,  7062,     0,   534,\n",
      "         1502,   329,   257,  1588,  3223, 32595,  6891, 34240,  9891,\n",
      "         3425,  5362,   290, 11311, 11594, 27563,   259,   318,  4999,\n",
      "          534,  2472,   318],\n",
      "       [50256, 50256, 23144,   263,    25,  1312,  1549,  9144,   326,\n",
      "         5875,   345,  1080,    25,   345,   821,  7062,     0,   356,\n",
      "          447,   247,   260,   319,   340,   534,  1844,   698,    83,\n",
      "          481,   307,  3492,   287,   257,  7644, 32920,   329,   262,\n",
      "         5022,    12,   929],\n",
      "       [50256, 50256, 50256, 50256, 50256, 50256, 50256, 50256, 50256,\n",
      "        50256, 50256, 50256, 50256, 50256, 23144,   263,    25,  1312,\n",
      "         1183,  1414,   351,   616,  2657,  1080,    25,  1049,   534,\n",
      "         1502,   481,   307,  6793,   284,   345,  8972,  5875,   345,\n",
      "          329, 11236,   514],\n",
      "       [50256, 50256, 50256, 50256, 50256, 50256, 50256, 50256, 50256,\n",
      "        50256, 50256, 50256, 50256, 50256, 50256, 23144,   263,    25,\n",
      "          616, 45630,  5733,   373,  1165, 12922,  1080,    25,  7926,\n",
      "          546,   326,   561,   345,   588,   257, 28763,   393,  3863,\n",
      "          257,  1180,  6891],\n",
      "       [50256, 50256, 50256, 50256, 50256, 50256, 50256, 50256, 50256,\n",
      "        23144,   263,    25, 23105,   616,  6891,   373,  1165, 12922,\n",
      "         1080,    25,  7926,   284,  3285,   326,     0,   356,  4031,\n",
      "          329, 20187,   407, 35987,   644,   460,   356,   466,   284,\n",
      "          787,   340,   826],\n",
      "       [50256, 50256, 50256, 50256, 50256, 50256, 50256, 50256, 23144,\n",
      "          263,    25,   645,   655,   262,  3042,   660,  1080,    25,\n",
      "          345,  1392,   340,   356,  1183,   423,   534,  7543,    12,\n",
      "         5787,  3042,   660,  3492,  2582,   674, 32920,   329,   262,\n",
      "         5022,    12,   929],\n",
      "       [50256, 50256, 50256, 50256, 50256, 50256, 50256, 50256, 50256,\n",
      "        50256, 23144,   263,    25,   645,   326,   338,   477,  5875,\n",
      "          345,  1080,    25,   645,  1917,   379,   477,   534,   649,\n",
      "         3024, 11311,   481,   307,  3492,  8972,  5176,   329,  9616,\n",
      "          514,  4259,   340],\n",
      "       [23144,   263,    25,  1312,  1183,   923,   351,   257,  1402,\n",
      "         2042,  6891,   645,  7543,   290,   281,  3131,  2823,  1080,\n",
      "           25,  1392,   340,   257,  1402,  2042,  6891,   351,   645,\n",
      "         7543,   290,   281,  3131,  2823,   329, 19422,   644,  2073,\n",
      "          561,   345,   588],\n",
      "       [50256, 50256, 50256, 50256, 50256, 50256, 50256, 50256, 50256,\n",
      "        23144,   263,    25,  1342,  6029,   561,   307,  1049,  1080,\n",
      "           25,  1654,  1517,     0,   356,  1183,  8335,   257,   649,\n",
      "         3024, 11311,   351,  1342, 32073,  1997,  2073,   356,   460,\n",
      "          466,   329,   345],\n",
      "       [23144,   263,    25,  1312,  6149,   257,  3042,   660,   290,\n",
      "          340,   373,   262,  2642,  1502,  1312,  1392,   257,  1275,\n",
      "          381, 18863,  2879,  1080,    25,   267,  2840,   674,  7457,\n",
      "            0,  1309,   338,  3376,   326,   351,   262,  3042,   660,\n",
      "          345,  1965,   329],\n",
      "       [50256, 50256, 50256, 50256, 50256, 50256, 23144,   263,    25,\n",
      "          644, 10620,   389,  1695,   329,   534, 19540,  2841,    30,\n",
      "         1080,    25,   674, 19540,  2841,   389,  1695,   287,  1402,\n",
      "         7090,  1588,   290,  3131,  1588, 10620,   543,  2546,   389,\n",
      "          345,  4609,   287],\n",
      "       [50256, 50256, 50256, 50256, 50256, 23144,   263,    25,   644,\n",
      "         1611,   286,  8509,   466,   345,   779,   329,   262, 34240,\n",
      "         9891,    30,  1080,    25,   356,   779,  6833,  2330,   393,\n",
      "         2187, 17135,  8509,   329,   674, 34240,  9891,   466,   345,\n",
      "          423,   257, 12741],\n",
      "       [23144,   263,    25,   290,   257,  1402, 48718, 16858,   475,\n",
      "          340,   447,   247,    82,   355,  7209,   355,   257, 21274,\n",
      "         1700,  1080,    25,  1402, 48718, 16858, 40431,   351,   477,\n",
      "          262,  7209,  1108,   286,   257, 23275,  6833,   326,   338,\n",
      "         1279, 20888,    29],\n",
      "       [50256, 50256, 50256, 50256, 50256, 50256, 50256, 50256, 50256,\n",
      "        50256, 50256, 50256, 50256, 50256, 50256, 23144,   263,    25,\n",
      "          326,   338,   477,  5875,   345,  1080,    25,   645,  1917,\n",
      "          379,   477,   534,  8887,   481,   307,  3492,  8972,   356,\n",
      "         9144,   534,  4547],\n",
      "       [50256, 50256, 50256, 50256, 50256, 50256, 50256, 50256, 50256,\n",
      "        50256, 50256, 50256, 50256, 50256, 50256, 23144,   263,    25,\n",
      "        23748,  1312,  1549,   588,   284,  1295,   281,  1502,   329,\n",
      "        19422,  1080,    25,  3729,   644,  3709,   561,   345,   588,\n",
      "          284,  1502,  1909]], dtype=int32)>, 'attention_mask': <tf.Tensor: shape=(16, 39), dtype=int32, numpy=\n",
      "array([[0, 0, 0, 0, 0, 0, 0, 0, 0, 0, 0, 0, 1, 1, 1, 1, 1, 1, 1, 1, 1, 1,\n",
      "        1, 1, 1, 1, 1, 1, 1, 1, 1, 1, 1, 1, 1, 1, 1, 1, 1],\n",
      "       [1, 1, 1, 1, 1, 1, 1, 1, 1, 1, 1, 1, 1, 1, 1, 1, 1, 1, 1, 1, 1, 1,\n",
      "        1, 1, 1, 1, 1, 1, 1, 1, 1, 1, 1, 1, 1, 1, 1, 1, 1],\n",
      "       [0, 0, 1, 1, 1, 1, 1, 1, 1, 1, 1, 1, 1, 1, 1, 1, 1, 1, 1, 1, 1, 1,\n",
      "        1, 1, 1, 1, 1, 1, 1, 1, 1, 1, 1, 1, 1, 1, 1, 1, 1],\n",
      "       [0, 0, 0, 0, 0, 0, 0, 0, 0, 0, 0, 0, 0, 0, 1, 1, 1, 1, 1, 1, 1, 1,\n",
      "        1, 1, 1, 1, 1, 1, 1, 1, 1, 1, 1, 1, 1, 1, 1, 1, 1],\n",
      "       [0, 0, 0, 0, 0, 0, 0, 0, 0, 0, 0, 0, 0, 0, 0, 1, 1, 1, 1, 1, 1, 1,\n",
      "        1, 1, 1, 1, 1, 1, 1, 1, 1, 1, 1, 1, 1, 1, 1, 1, 1],\n",
      "       [0, 0, 0, 0, 0, 0, 0, 0, 0, 1, 1, 1, 1, 1, 1, 1, 1, 1, 1, 1, 1, 1,\n",
      "        1, 1, 1, 1, 1, 1, 1, 1, 1, 1, 1, 1, 1, 1, 1, 1, 1],\n",
      "       [0, 0, 0, 0, 0, 0, 0, 0, 1, 1, 1, 1, 1, 1, 1, 1, 1, 1, 1, 1, 1, 1,\n",
      "        1, 1, 1, 1, 1, 1, 1, 1, 1, 1, 1, 1, 1, 1, 1, 1, 1],\n",
      "       [0, 0, 0, 0, 0, 0, 0, 0, 0, 0, 1, 1, 1, 1, 1, 1, 1, 1, 1, 1, 1, 1,\n",
      "        1, 1, 1, 1, 1, 1, 1, 1, 1, 1, 1, 1, 1, 1, 1, 1, 1],\n",
      "       [1, 1, 1, 1, 1, 1, 1, 1, 1, 1, 1, 1, 1, 1, 1, 1, 1, 1, 1, 1, 1, 1,\n",
      "        1, 1, 1, 1, 1, 1, 1, 1, 1, 1, 1, 1, 1, 1, 1, 1, 1],\n",
      "       [0, 0, 0, 0, 0, 0, 0, 0, 0, 1, 1, 1, 1, 1, 1, 1, 1, 1, 1, 1, 1, 1,\n",
      "        1, 1, 1, 1, 1, 1, 1, 1, 1, 1, 1, 1, 1, 1, 1, 1, 1],\n",
      "       [1, 1, 1, 1, 1, 1, 1, 1, 1, 1, 1, 1, 1, 1, 1, 1, 1, 1, 1, 1, 1, 1,\n",
      "        1, 1, 1, 1, 1, 1, 1, 1, 1, 1, 1, 1, 1, 1, 1, 1, 1],\n",
      "       [0, 0, 0, 0, 0, 0, 1, 1, 1, 1, 1, 1, 1, 1, 1, 1, 1, 1, 1, 1, 1, 1,\n",
      "        1, 1, 1, 1, 1, 1, 1, 1, 1, 1, 1, 1, 1, 1, 1, 1, 1],\n",
      "       [0, 0, 0, 0, 0, 1, 1, 1, 1, 1, 1, 1, 1, 1, 1, 1, 1, 1, 1, 1, 1, 1,\n",
      "        1, 1, 1, 1, 1, 1, 1, 1, 1, 1, 1, 1, 1, 1, 1, 1, 1],\n",
      "       [1, 1, 1, 1, 1, 1, 1, 1, 1, 1, 1, 1, 1, 1, 1, 1, 1, 1, 1, 1, 1, 1,\n",
      "        1, 1, 1, 1, 1, 1, 1, 1, 1, 1, 1, 1, 1, 1, 1, 1, 1],\n",
      "       [0, 0, 0, 0, 0, 0, 0, 0, 0, 0, 0, 0, 0, 0, 0, 1, 1, 1, 1, 1, 1, 1,\n",
      "        1, 1, 1, 1, 1, 1, 1, 1, 1, 1, 1, 1, 1, 1, 1, 1, 1],\n",
      "       [0, 0, 0, 0, 0, 0, 0, 0, 0, 0, 0, 0, 0, 0, 0, 1, 1, 1, 1, 1, 1, 1,\n",
      "        1, 1, 1, 1, 1, 1, 1, 1, 1, 1, 1, 1, 1, 1, 1, 1, 1]], dtype=int32)>} tf.Tensor(\n",
      "[[50256 50256 50256 50256 50256 50256 50256 50256 50256 50256 50256 23144\n",
      "    263    25   262  8887  1312  6149   373   300  4649 31975  1080    25\n",
      "    356 16521   329   326   561   345   588   257  3024  9014   393   257\n",
      "   1180  4144    30]\n",
      " [  263    25   326   338   477   329   783  5875   345     0  1080    25\n",
      "    345   821  7062     0   534  1502   329   257  1588  3223 32595  6891\n",
      "  34240  9891  3425  5362   290 11311 11594 27563   259   318  4999   534\n",
      "   2472   318  1279]\n",
      " [50256 23144   263    25  1312  1549  9144   326  5875   345  1080    25\n",
      "    345   821  7062     0   356   447   247   260   319   340   534  1844\n",
      "    698    83   481   307  3492   287   257  7644 32920   329   262  5022\n",
      "     12   929     0]\n",
      " [50256 50256 50256 50256 50256 50256 50256 50256 50256 50256 50256 50256\n",
      "  50256 23144   263    25  1312  1183  1414   351   616  2657  1080    25\n",
      "   1049   534  1502   481   307  6793   284   345  8972  5875   345   329\n",
      "  11236   514     0]\n",
      " [50256 50256 50256 50256 50256 50256 50256 50256 50256 50256 50256 50256\n",
      "  50256 50256 23144   263    25   616 45630  5733   373  1165 12922  1080\n",
      "     25  7926   546   326   561   345   588   257 28763   393  3863   257\n",
      "   1180  6891    30]\n",
      " [50256 50256 50256 50256 50256 50256 50256 50256 23144   263    25 23105\n",
      "    616  6891   373  1165 12922  1080    25  7926   284  3285   326     0\n",
      "    356  4031   329 20187   407 35987   644   460   356   466   284   787\n",
      "    340   826    30]\n",
      " [50256 50256 50256 50256 50256 50256 50256 23144   263    25   645   655\n",
      "    262  3042   660  1080    25   345  1392   340   356  1183   423   534\n",
      "   7543    12  5787  3042   660  3492  2582   674 32920   329   262  5022\n",
      "     12   929     0]\n",
      " [50256 50256 50256 50256 50256 50256 50256 50256 50256 23144   263    25\n",
      "    645   326   338   477  5875   345  1080    25   645  1917   379   477\n",
      "    534   649  3024 11311   481   307  3492  8972  5176   329  9616   514\n",
      "   4259   340     0]\n",
      " [  263    25  1312  1183   923   351   257  1402  2042  6891   645  7543\n",
      "    290   281  3131  2823  1080    25  1392   340   257  1402  2042  6891\n",
      "    351   645  7543   290   281  3131  2823   329 19422   644  2073   561\n",
      "    345   588    30]\n",
      " [50256 50256 50256 50256 50256 50256 50256 50256 23144   263    25  1342\n",
      "   6029   561   307  1049  1080    25  1654  1517     0   356  1183  8335\n",
      "    257   649  3024 11311   351  1342 32073  1997  2073   356   460   466\n",
      "    329   345    30]\n",
      " [  263    25  1312  6149   257  3042   660   290   340   373   262  2642\n",
      "   1502  1312  1392   257  1275   381 18863  2879  1080    25   267  2840\n",
      "    674  7457     0  1309   338  3376   326   351   262  3042   660   345\n",
      "   1965   329  1997]\n",
      " [50256 50256 50256 50256 50256 23144   263    25   644 10620   389  1695\n",
      "    329   534 19540  2841    30  1080    25   674 19540  2841   389  1695\n",
      "    287  1402  7090  1588   290  3131  1588 10620   543  2546   389   345\n",
      "   4609   287    30]\n",
      " [50256 50256 50256 50256 23144   263    25   644  1611   286  8509   466\n",
      "    345   779   329   262 34240  9891    30  1080    25   356   779  6833\n",
      "   2330   393  2187 17135  8509   329   674 34240  9891   466   345   423\n",
      "    257 12741    30]\n",
      " [  263    25   290   257  1402 48718 16858   475   340   447   247    82\n",
      "    355  7209   355   257 21274  1700  1080    25  1402 48718 16858 40431\n",
      "    351   477   262  7209  1108   286   257 23275  6833   326   338  1279\n",
      "  20888    29   481]\n",
      " [50256 50256 50256 50256 50256 50256 50256 50256 50256 50256 50256 50256\n",
      "  50256 50256 23144   263    25   326   338   477  5875   345  1080    25\n",
      "    645  1917   379   477   534  8887   481   307  3492  8972   356  9144\n",
      "    534  4547     0]\n",
      " [50256 50256 50256 50256 50256 50256 50256 50256 50256 50256 50256 50256\n",
      "  50256 50256 23144   263    25 23748  1312  1549   588   284  1295   281\n",
      "   1502   329 19422  1080    25  3729   644  3709   561   345   588   284\n",
      "   1502  1909    30]], shape=(16, 39), dtype=int32)\n"
     ]
    }
   ],
   "source": [
    "for i in prepped_data.take(1):\n",
    "    print(i[0], i[1])"
   ],
   "metadata": {
    "collapsed": false,
    "ExecuteTime": {
     "end_time": "2023-11-27T06:20:31.488869500Z",
     "start_time": "2023-11-27T06:20:31.228861100Z"
    }
   },
   "id": "2195bfe24dd52a7c"
  },
  {
   "cell_type": "markdown",
   "source": [
    "**Train-Test Split**"
   ],
   "metadata": {
    "collapsed": false
   },
   "id": "11a417ca8c698923"
  },
  {
   "cell_type": "code",
   "execution_count": 12,
   "outputs": [],
   "source": [
    "train_dataset = prepped_data.take(200)\n",
    "test_dataset = prepped_data.skip(200)"
   ],
   "metadata": {
    "collapsed": false,
    "ExecuteTime": {
     "end_time": "2023-11-27T06:20:31.490352300Z",
     "start_time": "2023-11-27T06:20:31.488869500Z"
    }
   },
   "id": "88e1a45ef6191b58"
  },
  {
   "cell_type": "markdown",
   "source": [
    "**Model Training**"
   ],
   "metadata": {
    "collapsed": false
   },
   "id": "2ed2be7eee115297"
  },
  {
   "cell_type": "code",
   "execution_count": null,
   "outputs": [],
   "source": [
    "gpt2_oneshift = TFGPT2LMHeadModel.from_pretrained('gpt2')"
   ],
   "metadata": {
    "collapsed": false
   },
   "id": "b9fad1670ff9958f"
  },
  {
   "cell_type": "code",
   "execution_count": 5,
   "outputs": [],
   "source": [
    "gpt2_oneshift.load_weights('resources/gpt/saved/gpt2_oneshift_weights.h5')"
   ],
   "metadata": {
    "collapsed": false,
    "ExecuteTime": {
     "end_time": "2023-11-27T09:00:17.362610900Z",
     "start_time": "2023-11-27T09:00:10.687410900Z"
    }
   },
   "id": "8b007dc8aa41626c"
  },
  {
   "cell_type": "code",
   "execution_count": 14,
   "outputs": [],
   "source": [
    "optimizer = tf.keras.optimizers.Adam(learning_rate=5e-5)\n",
    "loss = tf.keras.losses.SparseCategoricalCrossentropy(from_logits=True)\n",
    "gpt2_oneshift.compile(optimizer=optimizer, loss=loss)"
   ],
   "metadata": {
    "collapsed": false,
    "ExecuteTime": {
     "end_time": "2023-11-27T06:20:41.881022300Z",
     "start_time": "2023-11-27T06:20:41.690319Z"
    }
   },
   "id": "4c09a12375ba832d"
  },
  {
   "cell_type": "code",
   "execution_count": 16,
   "outputs": [],
   "source": [
    "import time\n",
    "es_callback = keras.callbacks.EarlyStopping(patience=6, restore_best_weights=True)\n",
    "run_id = time.strftime('run_%H-%M')\n",
    "tb_callback = keras.callbacks.TensorBoard(log_dir=f'tb_logs/gen_training/{run_id}')\n",
    "onecycle_callback = text_prep.OneCycleLRSchedule(max_lr=5e-3, total_steps=30 * 200 / 16, lr_start=5e-5, lr_end=5e-5)"
   ],
   "metadata": {
    "collapsed": false,
    "ExecuteTime": {
     "end_time": "2023-11-27T09:01:54.641312300Z",
     "start_time": "2023-11-27T09:01:54.636310900Z"
    }
   },
   "id": "c43b793a87469560"
  },
  {
   "cell_type": "code",
   "execution_count": 43,
   "outputs": [],
   "source": [
    "gpt2_oneshift.fit(train_dataset, epochs=30, validation_data=test_dataset, callbacks=[es_callback])\n",
    "gpt2_oneshift.save_weights('resources/gpt/saved/gpt2_oneshift_weights.h5')"
   ],
   "metadata": {
    "collapsed": false,
    "ExecuteTime": {
     "end_time": "2023-11-27T08:06:09.778852400Z",
     "start_time": "2023-11-27T08:06:07.638023400Z"
    }
   },
   "id": "b3d98ed0a56525f3"
  },
  {
   "cell_type": "code",
   "execution_count": 18,
   "outputs": [
    {
     "name": "stdout",
     "output_type": "stream",
     "text": [
      "Epoch 1/10\n",
      "200/200 [==============================] - 53s 265ms/step - loss: 0.2381 - val_loss: 0.1856\n",
      "Epoch 2/10\n",
      "200/200 [==============================] - 52s 262ms/step - loss: 0.2359 - val_loss: 0.1809\n",
      "Epoch 3/10\n",
      "200/200 [==============================] - 53s 263ms/step - loss: 0.2340 - val_loss: 0.1777\n",
      "Epoch 4/10\n",
      "200/200 [==============================] - 52s 261ms/step - loss: 0.2333 - val_loss: 0.1817\n",
      "Epoch 5/10\n",
      "200/200 [==============================] - 57s 287ms/step - loss: 0.2285 - val_loss: 0.1803\n",
      "Epoch 6/10\n",
      "200/200 [==============================] - 53s 263ms/step - loss: 0.2246 - val_loss: 0.1754\n",
      "Epoch 7/10\n",
      "200/200 [==============================] - 52s 261ms/step - loss: 0.2241 - val_loss: 0.1839\n",
      "Epoch 8/10\n",
      "200/200 [==============================] - 53s 263ms/step - loss: 0.2239 - val_loss: 0.1718\n",
      "Epoch 9/10\n",
      "200/200 [==============================] - 52s 261ms/step - loss: 0.2212 - val_loss: 0.1755\n",
      "Epoch 10/10\n",
      "200/200 [==============================] - 52s 261ms/step - loss: 0.2164 - val_loss: 0.1737\n"
     ]
    },
    {
     "data": {
      "text/plain": "<keras.src.callbacks.History at 0x7b3644642290>"
     },
     "execution_count": 18,
     "metadata": {},
     "output_type": "execute_result"
    }
   ],
   "source": [
    "gpt2_oneshift.fit(train_dataset, epochs=10, validation_data=test_dataset, callbacks=[es_callback])"
   ],
   "metadata": {
    "collapsed": false,
    "ExecuteTime": {
     "end_time": "2023-11-27T07:10:36.941588900Z",
     "start_time": "2023-11-27T07:01:17.560563900Z"
    }
   },
   "id": "a6028349b1368075"
  },
  {
   "cell_type": "code",
   "execution_count": 39,
   "outputs": [],
   "source": [
    "optimizer = tf.keras.optimizers.Adam(learning_rate=5e-7)\n",
    "loss = tf.keras.losses.SparseCategoricalCrossentropy(from_logits=True)\n",
    "gpt2_oneshift.compile(optimizer=optimizer, loss=loss)"
   ],
   "metadata": {
    "collapsed": false,
    "ExecuteTime": {
     "end_time": "2023-11-27T07:52:40.487108Z",
     "start_time": "2023-11-27T07:52:40.486587300Z"
    }
   },
   "id": "45dc141ab16bdfab"
  },
  {
   "cell_type": "code",
   "execution_count": 40,
   "outputs": [
    {
     "name": "stdout",
     "output_type": "stream",
     "text": [
      "Epoch 1/10\n",
      "200/200 [==============================] - 98s 306ms/step - loss: 0.1801 - val_loss: 0.1536\n",
      "Epoch 2/10\n",
      "200/200 [==============================] - 53s 264ms/step - loss: 0.1814 - val_loss: 0.1517\n",
      "Epoch 3/10\n",
      "200/200 [==============================] - 53s 264ms/step - loss: 0.1795 - val_loss: 0.1546\n",
      "Epoch 4/10\n",
      "200/200 [==============================] - 52s 262ms/step - loss: 0.1797 - val_loss: 0.1554\n",
      "Epoch 5/10\n",
      "200/200 [==============================] - 58s 288ms/step - loss: 0.1797 - val_loss: 0.1552\n",
      "Epoch 6/10\n",
      "200/200 [==============================] - 52s 262ms/step - loss: 0.1793 - val_loss: 0.1542\n",
      "Epoch 7/10\n",
      "200/200 [==============================] - 53s 264ms/step - loss: 0.1797 - val_loss: 0.1550\n",
      "Epoch 8/10\n",
      "200/200 [==============================] - 53s 264ms/step - loss: 0.1799 - val_loss: 0.1559\n"
     ]
    },
    {
     "data": {
      "text/plain": "<keras.src.callbacks.History at 0x7b353d468dc0>"
     },
     "execution_count": 40,
     "metadata": {},
     "output_type": "execute_result"
    }
   ],
   "source": [
    "gpt2_oneshift.fit(train_dataset, epochs=10, validation_data=test_dataset, callbacks=[es_callback])"
   ],
   "metadata": {
    "collapsed": false,
    "ExecuteTime": {
     "end_time": "2023-11-27T08:02:01.398965400Z",
     "start_time": "2023-11-27T07:52:41.226752500Z"
    }
   },
   "id": "504ef32adcedd5ff"
  },
  {
   "cell_type": "markdown",
   "source": [
    "**Round 2**"
   ],
   "metadata": {
    "collapsed": false
   },
   "id": "ede262379384456f"
  },
  {
   "cell_type": "code",
   "execution_count": 6,
   "outputs": [],
   "source": [
    "*final_sequence_order, intent_order  = text_prep.file_to_sequences(ORDERS_PATH, intent='order', split_speaker=True)\n",
    "*final_sequence_enquiry, intent_enquiry = text_prep.file_to_sequences(ENQUIRY_PATH, intent='enquiry', split_speaker=True)\n",
    "*final_sequence_complain, intent_complain = text_prep.file_to_sequences(COMPLAINS_PATH, intent='complain', split_speaker=True)"
   ],
   "metadata": {
    "collapsed": false,
    "ExecuteTime": {
     "end_time": "2023-11-27T09:00:29.772341200Z",
     "start_time": "2023-11-27T09:00:28.886706400Z"
    }
   },
   "id": "fb4de639634cd923"
  },
  {
   "cell_type": "code",
   "execution_count": 7,
   "outputs": [],
   "source": [
    "# ONLY FOR SPLIT_SPEAKER\n",
    "all_customer_dialogues = []\n",
    "all_system_dialogues = []\n",
    "\n",
    "# Function to append dialogues to the respective lists\n",
    "def append_dialogues(customer_dialogues, system_dialogues):\n",
    "    all_customer_dialogues.extend(customer_dialogues)\n",
    "    all_system_dialogues.extend(system_dialogues)\n",
    "\n",
    "# Append dialogues from each file\n",
    "append_dialogues(*final_sequence_order)\n",
    "append_dialogues(*final_sequence_enquiry)\n",
    "append_dialogues(*final_sequence_complain)\n",
    "\n",
    "# Now all_customer_dialogues and all_system_dialogues contain all dialogues\n",
    "final_sequences_pair = (all_customer_dialogues, all_system_dialogues)"
   ],
   "metadata": {
    "collapsed": false,
    "ExecuteTime": {
     "end_time": "2023-11-27T09:00:29.973700900Z",
     "start_time": "2023-11-27T09:00:29.751188600Z"
    }
   },
   "id": "b1b6ddb9ba752b9c"
  },
  {
   "cell_type": "code",
   "execution_count": 8,
   "outputs": [
    {
     "data": {
      "text/plain": "'customer: just a medium hot chocolate to finish'",
      "application/vnd.google.colaboratory.intrinsic+json": {
       "type": "string"
      }
     },
     "execution_count": 8,
     "metadata": {},
     "output_type": "execute_result"
    }
   ],
   "source": [
    "final_sequences_pair[0][10]"
   ],
   "metadata": {
    "collapsed": false,
    "ExecuteTime": {
     "end_time": "2023-11-27T09:00:30.068819600Z",
     "start_time": "2023-11-27T09:00:29.813006300Z"
    }
   },
   "id": "558600e7ca884bf1"
  },
  {
   "cell_type": "code",
   "execution_count": 11,
   "outputs": [
    {
     "data": {
      "text/plain": "<_PrefetchDataset element_spec=({'input_ids': TensorSpec(shape=(None, 20), dtype=tf.int32, name=None), 'attention_mask': TensorSpec(shape=(None, 20), dtype=tf.int32, name=None)}, TensorSpec(shape=(None, 20), dtype=tf.int32, name=None))>"
     },
     "execution_count": 11,
     "metadata": {},
     "output_type": "execute_result"
    }
   ],
   "source": [
    "prepped_data_pair = text_prep.preprocess_for_gpt2(final_sequences_pair, tokenizer, train=True, one_shift=False)\n",
    "prepped_data_pair"
   ],
   "metadata": {
    "collapsed": false,
    "ExecuteTime": {
     "end_time": "2023-11-27T09:00:49.413896500Z",
     "start_time": "2023-11-27T09:00:48.063521500Z"
    }
   },
   "id": "1cae911402f2c843"
  },
  {
   "cell_type": "code",
   "execution_count": 12,
   "outputs": [],
   "source": [
    "train_dataset_pair = prepped_data_pair.take(200)\n",
    "test_dataset_pair = prepped_data_pair.skip(200)"
   ],
   "metadata": {
    "collapsed": false,
    "ExecuteTime": {
     "end_time": "2023-11-27T09:00:50.806935900Z",
     "start_time": "2023-11-27T09:00:50.798150500Z"
    }
   },
   "id": "5806be932de41068"
  },
  {
   "cell_type": "code",
   "execution_count": 13,
   "outputs": [],
   "source": [
    "gpt2_combined = keras.models.clone_model(gpt2_oneshift)\n",
    "gpt2_combined.build()\n",
    "gpt2_combined.set_weights(gpt2_oneshift.get_weights())"
   ],
   "metadata": {
    "collapsed": false,
    "ExecuteTime": {
     "end_time": "2023-11-27T09:00:58.100779200Z",
     "start_time": "2023-11-27T09:00:57.105683100Z"
    }
   },
   "id": "448bfbb7c10b2cf5"
  },
  {
   "cell_type": "code",
   "execution_count": 48,
   "outputs": [
    {
     "name": "stdout",
     "output_type": "stream",
     "text": [
      "({'input_ids': <tf.Tensor: shape=(16, 20), dtype=int32, numpy=\n",
      "array([[23144,   263,    25,  3763,  1312,  1549,   588,   257, 11311,\n",
      "        19550,   836,   315,   290,   257,  1402, 48718, 16858,   351,\n",
      "          281,  3131],\n",
      "       [50256, 50256, 50256, 50256, 50256, 50256, 50256, 50256, 50256,\n",
      "        50256, 50256, 23144,   263,    25,   290,   257,  1402, 48247,\n",
      "         4274,  4274],\n",
      "       [50256, 50256, 50256, 50256, 50256, 50256, 50256, 50256, 50256,\n",
      "        50256, 50256, 50256, 50256, 50256, 23144,   263,    25,  1342,\n",
      "         6029,  3387],\n",
      "       [50256, 50256, 50256, 50256, 50256, 50256, 50256, 50256, 50256,\n",
      "        50256, 50256, 50256, 50256, 50256, 50256, 23144,   263,    25,\n",
      "         3763,  3387],\n",
      "       [50256, 50256, 50256, 50256, 50256, 50256, 50256, 50256, 50256,\n",
      "        50256, 50256, 50256, 50256, 50256, 50256, 50256, 23144,   263,\n",
      "           25,  1402],\n",
      "       [50256, 50256, 50256, 50256, 50256, 50256, 50256, 50256, 23144,\n",
      "          263,    25,   466,   345,  2897, 17659,    12,  5787,  3024,\n",
      "        11311,    30],\n",
      "       [50256, 23144,   263,    25,  1312,  1183,   923,   351,   257,\n",
      "         7090,   220,  3711,  6891, 17797,  7545,   290,  7543,    12,\n",
      "         5787, 24208],\n",
      "       [50256, 50256, 50256, 50256, 50256, 50256, 50256, 23144,   263,\n",
      "           25,   428,   698,    83,   318,  1165,  5894,   340,  2476,\n",
      "          517, 10746],\n",
      "       [50256, 50256, 50256, 50256, 50256, 50256, 50256, 50256, 50256,\n",
      "        23144,   263,    25,   326,   338,   477,   329,   783,  5875,\n",
      "          345,     0],\n",
      "       [50256, 50256, 50256, 50256, 50256, 50256, 50256, 50256, 50256,\n",
      "        23144,   263,    25, 23748,  1312,  1549,   588,   284,  1502,\n",
      "          329,  7585],\n",
      "       [50256, 50256, 50256, 50256, 50256, 23144,   263,    25,   262,\n",
      "         3024, 11311,  1312,  2722,   318,  1165,  4692,   588,   300,\n",
      "         4649, 31975],\n",
      "       [50256, 50256, 50256, 50256, 50256, 50256, 50256, 50256, 50256,\n",
      "        50256, 50256, 23144,   263,    25,  3763,  3387,   787,   257,\n",
      "          649,   530],\n",
      "       [50256, 50256, 23144,   263,    25,   923,   502,   572,   351,\n",
      "          257,  1588,   220,  3711,  1275,   381,  7543,    12,  5787,\n",
      "         4274,  4274],\n",
      "       [50256, 50256, 50256, 50256, 50256, 23144,   263,    25,   340,\n",
      "          373,   257,  7090,   460,   345,   651,   340,   826,   428,\n",
      "          640,    30],\n",
      "       [50256, 50256, 50256, 50256, 50256, 50256, 50256, 50256, 50256,\n",
      "        50256, 50256, 23144,   263,    25,  1312,  1549,  9144,   326,\n",
      "         5875,   345],\n",
      "       [50256, 23144,   263,    25,  1312,  1183,  1394,   326,   287,\n",
      "         2000,  5176,   466,   345,   423, 21578,    12,  5787, 27563,\n",
      "         1040,    30]], dtype=int32)>, 'attention_mask': <tf.Tensor: shape=(16, 20), dtype=int32, numpy=\n",
      "array([[1, 1, 1, 1, 1, 1, 1, 1, 1, 1, 1, 1, 1, 1, 1, 1, 1, 1, 1, 1],\n",
      "       [0, 0, 0, 0, 0, 0, 0, 0, 0, 0, 0, 1, 1, 1, 1, 1, 1, 1, 1, 1],\n",
      "       [0, 0, 0, 0, 0, 0, 0, 0, 0, 0, 0, 0, 0, 0, 1, 1, 1, 1, 1, 1],\n",
      "       [0, 0, 0, 0, 0, 0, 0, 0, 0, 0, 0, 0, 0, 0, 0, 1, 1, 1, 1, 1],\n",
      "       [0, 0, 0, 0, 0, 0, 0, 0, 0, 0, 0, 0, 0, 0, 0, 0, 1, 1, 1, 1],\n",
      "       [0, 0, 0, 0, 0, 0, 0, 0, 1, 1, 1, 1, 1, 1, 1, 1, 1, 1, 1, 1],\n",
      "       [0, 1, 1, 1, 1, 1, 1, 1, 1, 1, 1, 1, 1, 1, 1, 1, 1, 1, 1, 1],\n",
      "       [0, 0, 0, 0, 0, 0, 0, 1, 1, 1, 1, 1, 1, 1, 1, 1, 1, 1, 1, 1],\n",
      "       [0, 0, 0, 0, 0, 0, 0, 0, 0, 1, 1, 1, 1, 1, 1, 1, 1, 1, 1, 1],\n",
      "       [0, 0, 0, 0, 0, 0, 0, 0, 0, 1, 1, 1, 1, 1, 1, 1, 1, 1, 1, 1],\n",
      "       [0, 0, 0, 0, 0, 1, 1, 1, 1, 1, 1, 1, 1, 1, 1, 1, 1, 1, 1, 1],\n",
      "       [0, 0, 0, 0, 0, 0, 0, 0, 0, 0, 0, 1, 1, 1, 1, 1, 1, 1, 1, 1],\n",
      "       [0, 0, 1, 1, 1, 1, 1, 1, 1, 1, 1, 1, 1, 1, 1, 1, 1, 1, 1, 1],\n",
      "       [0, 0, 0, 0, 0, 1, 1, 1, 1, 1, 1, 1, 1, 1, 1, 1, 1, 1, 1, 1],\n",
      "       [0, 0, 0, 0, 0, 0, 0, 0, 0, 0, 0, 1, 1, 1, 1, 1, 1, 1, 1, 1],\n",
      "       [0, 1, 1, 1, 1, 1, 1, 1, 1, 1, 1, 1, 1, 1, 1, 1, 1, 1, 1, 1]],\n",
      "      dtype=int32)>}, <tf.Tensor: shape=(16, 20), dtype=int32, numpy=\n",
      "array([[10057,    25,  6275,  7747,     0,   257, 11311, 19550,   836,\n",
      "          315,   290,   257,  1402, 48718, 16858,   351,   281,  3131,\n",
      "         2823,   318],\n",
      "       [10057,    25,  1402, 48247,  3385,   306,  6029,   290, 27892,\n",
      "          534,  2472,  2058,   284,  1279, 20888,    29,   703,   389,\n",
      "          345,  5989],\n",
      "       [10057,    25,   286,  1781,     0,   356,  1183,   787,   257,\n",
      "         1342,  6029,   220,  3711,  1275,   381,   329,   345,  1997,\n",
      "         2073,    30],\n",
      "       [10057,    25,   826,  1497,     0,  4713, 17141,  2406,   510,\n",
      "         3024,   572,   262, 27635,   356,   821,  7926,   329,   262,\n",
      "         2961,  1309],\n",
      "       [50256, 50256, 50256, 50256, 50256, 50256, 50256, 50256, 50256,\n",
      "        50256, 50256, 50256, 10057,    25,  1279, 20888,    29,  5003,\n",
      "         6074,    30],\n",
      "       [10057,    25,  3763,   356,   460,   787,  3024, 11311,   351,\n",
      "        17797,  7545,   329,   257, 17659,    12,  5787,  3038,   703,\n",
      "          857,   326],\n",
      "       [10057,    25,  3729,   257,  7090,   220,  3711,  6891,   351,\n",
      "        17797,  7545,   290,  7543,    12,  5787, 24208,   644,  2073,\n",
      "          460,  1312],\n",
      "       [10057,    25,  7926,   546,   326,   356,   447,   247,   297,\n",
      "          751,   517, 10746,   329,   257,  7544,   291,   959,   698,\n",
      "           83,   826],\n",
      "       [10057,    25,   345,   821,  7062,     0,   534,  1502,   329,\n",
      "          257,  1402,  2042,  6891, 26876, 21385,  3430,  3425,  5362,\n",
      "        11311, 19550],\n",
      "       [50256, 50256, 50256, 50256, 50256, 50256, 10057,    25,   286,\n",
      "         1781,     0,   644,  3709,   561,   345,   588,   284,  1502,\n",
      "         1909,    30],\n",
      "       [50256, 10057,    25,   356,   821,  7926,   546,   326,  1309,\n",
      "          338,   651,   345,   257,  3024, 29026,   925,  3024, 11311,\n",
      "         3892,  1497],\n",
      "       [50256, 10057,    25,   481,   466,     0,   257,  1844,  9015,\n",
      "        14441,  2406,   510,   318,   612,  1997,  2073,   345,  1549,\n",
      "          588,    30],\n",
      "       [10057,    25,  1588,   220,  3711,  1275,   381,   319,  6203,\n",
      "         5291,   340,  6029,  1231,   262,  6029,   345,   765,  1194,\n",
      "         4274,  2277],\n",
      "       [10057,    25,   257,  7090,  7138,   220,  3711,  1275,   381,\n",
      "         2406,   826,   510,   428,   530,   338,   319,   514,   290,\n",
      "          340,  1183],\n",
      "       [10057,    25,   345,   821,  7062,     0,   356,   447,   247,\n",
      "          260,   319,   340,   534,  1844,   698,    83,   481,   307,\n",
      "         3492,   287],\n",
      "       [10057,    25,   356,   466,   423, 21578,    12,  5787, 27563,\n",
      "         1040,  1695,  1909,   338,  9565,   318,  4171,  8396,   561,\n",
      "          345,   588]], dtype=int32)>)\n"
     ]
    }
   ],
   "source": [
    "for i in train_dataset_pair.take(1):\n",
    "    print(i)"
   ],
   "metadata": {
    "collapsed": false,
    "ExecuteTime": {
     "end_time": "2023-11-27T08:12:24.789005800Z",
     "start_time": "2023-11-27T08:12:24.481251400Z"
    }
   },
   "id": "66defcc172d5a801"
  },
  {
   "cell_type": "code",
   "execution_count": 36,
   "outputs": [],
   "source": [
    "optimizer_c = tf.keras.optimizers.Adam(learning_rate=0.00001)\n",
    "loss_c = tf.keras.losses.SparseCategoricalCrossentropy(from_logits=True)\n",
    "gpt2_combined.compile(optimizer=optimizer_c, loss=loss_c)"
   ],
   "metadata": {
    "collapsed": false,
    "ExecuteTime": {
     "end_time": "2023-11-27T10:00:21.042844500Z",
     "start_time": "2023-11-27T10:00:21.029805600Z"
    }
   },
   "id": "6d0d3d2c3c05a1ab"
  },
  {
   "cell_type": "code",
   "execution_count": 39,
   "outputs": [],
   "source": [
    "#history_c1 = gpt2_combined.fit(prepped_data_pair, epochs=30, callbacks=[es_callback], validation_data=test_dataset_pair)\n",
    "gpt2_combined.save_weights('resources/gpt/saved/gpt2_combined_weights.h5')"
   ],
   "metadata": {
    "collapsed": false,
    "ExecuteTime": {
     "end_time": "2023-11-27T10:13:16.173237700Z",
     "start_time": "2023-11-27T10:13:13.103921Z"
    }
   },
   "id": "b7feb2f18c14e0cd"
  },
  {
   "cell_type": "markdown",
   "source": [
    "**Augmentation**"
   ],
   "metadata": {
    "collapsed": false
   },
   "id": "769247a8a2bd19cd"
  },
  {
   "cell_type": "code",
   "execution_count": 28,
   "outputs": [],
   "source": [
    "replacements_2 = {\n",
    "        \"order \": \"drink \",\n",
    "        \"i will\":\"i can\",\n",
    "        \"i will take\": \"can i get\",\n",
    "        \"i will take a\":\"i want the\",\n",
    "        \"that is all\": \"that is everything yes\",\n",
    "        \"i will have a\": \"i wanna get a\",\n",
    "        \"get me a\": \"how about a\",\n",
    "        \"Actually\" : \"You know what\"\n",
    "}\n",
    "\n",
    "replacements_1 ={\"place an order\": \"order\",\n",
    "        \"i'd like to\": \"i will\",\n",
    "        \"i'll\": \"i will\",\n",
    "        \"i'll start with\": \"i will take\",\n",
    "        \"i'd like a\": \"i will take a\",\n",
    "        \"that'll be it\": \"that is all\",\n",
    "        \"Also\":\"As well as\"}\n",
    "\n",
    "def augment_dialogue_pairs(dialogue_pair, replacements):\n",
    "    def apply_replacements(dialogues):\n",
    "        augmented_dialogues = []\n",
    "        for i in range(len(dialogues)):\n",
    "            original_dialogue = dialogues[i]\n",
    "            for original, replacement in replacements.items():\n",
    "                dialogues[i] = dialogues[i].replace(original, replacement)\n",
    "            # Add to the list only if changes were made\n",
    "            if dialogues[i] != original_dialogue:\n",
    "                augmented_dialogues.append(dialogues[i])\n",
    "        return augmented_dialogues\n",
    "\n",
    "    # Unpack the customer and system dialogues\n",
    "    customer_dialogues, system_responses = dialogue_pair\n",
    "\n",
    "    # Combine customer and system dialogues into pairs\n",
    "    combined_dialogues = [f\"Customer: {c}\\nSystem: {s}\" for c, s in zip(customer_dialogues, system_responses)]\n",
    "\n",
    "    # Apply replacements\n",
    "    updated_combined_dialogues = apply_replacements(combined_dialogues)\n",
    "\n",
    "    # Split the combined dialogues back into customer and system dialogues\n",
    "    updated_customer_dialogues = []\n",
    "    updated_system_responses = []\n",
    "    for dialogue in updated_combined_dialogues:\n",
    "        customer, system = dialogue.split('\\n')\n",
    "        updated_customer_dialogues.append(customer.replace(\"Customer: \", \"\"))\n",
    "        updated_system_responses.append(system.replace(\"System: \", \"\"))\n",
    "\n",
    "    return (updated_customer_dialogues, updated_system_responses)\n",
    "\n"
   ],
   "metadata": {
    "collapsed": false,
    "ExecuteTime": {
     "end_time": "2023-11-27T12:48:22.826886100Z",
     "start_time": "2023-11-27T12:48:22.825891500Z"
    }
   },
   "id": "36b9ea3aa61f8ec0"
  },
  {
   "cell_type": "code",
   "execution_count": 35,
   "outputs": [],
   "source": [
    "new_pairs_2 = augment_dialogue_pairs(final_sequences_pair, replacements_2)"
   ],
   "metadata": {
    "collapsed": false,
    "ExecuteTime": {
     "end_time": "2023-11-27T12:49:40.337174100Z",
     "start_time": "2023-11-27T12:49:40.335325300Z"
    }
   },
   "id": "60c7a1bc0b345259"
  },
  {
   "cell_type": "code",
   "execution_count": 37,
   "outputs": [
    {
     "data": {
      "text/plain": "793"
     },
     "execution_count": 37,
     "metadata": {},
     "output_type": "execute_result"
    }
   ],
   "source": [
    "len(new_pairs_2[0])"
   ],
   "metadata": {
    "collapsed": false,
    "ExecuteTime": {
     "end_time": "2023-11-27T12:49:56.560624900Z",
     "start_time": "2023-11-27T12:49:56.556624200Z"
    }
   },
   "id": "39539815608f7fb1"
  },
  {
   "cell_type": "code",
   "execution_count": 38,
   "outputs": [],
   "source": [
    "# ONLY FOR SPLIT_SPEAKER\n",
    "all_customer_dialogues = []\n",
    "all_system_dialogues = []\n",
    "\n",
    "# Function to append dialogues to the respective lists\n",
    "def append_dialogues(customer_dialogues, system_dialogues):\n",
    "    all_customer_dialogues.extend(customer_dialogues)\n",
    "    all_system_dialogues.extend(system_dialogues)\n",
    "\n",
    "# Append dialogues from each file\n",
    "append_dialogues(*new_pairs_2)\n",
    "append_dialogues(*final_sequences_2)\n",
    "\n",
    "# Now all_customer_dialogues and all_system_dialogues contain all dialogues\n",
    "final_sequences_3 = (all_customer_dialogues, all_system_dialogues)"
   ],
   "metadata": {
    "collapsed": false,
    "ExecuteTime": {
     "end_time": "2023-11-27T12:50:14.820846700Z",
     "start_time": "2023-11-27T12:50:14.818626100Z"
    }
   },
   "id": "870a17c85b4a9d90"
  },
  {
   "cell_type": "code",
   "execution_count": 44,
   "outputs": [
    {
     "data": {
      "text/plain": "\"system: sure we'll prepare a new hot chocolate with less sweetness for you anything else\"",
      "application/vnd.google.colaboratory.intrinsic+json": {
       "type": "string"
      }
     },
     "execution_count": 44,
     "metadata": {},
     "output_type": "execute_result"
    }
   ],
   "source": [
    "final_sequences_3[1][6000]"
   ],
   "metadata": {
    "collapsed": false,
    "ExecuteTime": {
     "end_time": "2023-11-27T12:50:59.347022800Z",
     "start_time": "2023-11-27T12:50:59.280311200Z"
    }
   },
   "id": "64c5f2b991ef8454"
  },
  {
   "cell_type": "code",
   "execution_count": 45,
   "outputs": [
    {
     "data": {
      "text/plain": "<_PrefetchDataset element_spec=({'input_ids': TensorSpec(shape=(None, 20), dtype=tf.int32, name=None), 'attention_mask': TensorSpec(shape=(None, 20), dtype=tf.int32, name=None)}, TensorSpec(shape=(None, 20), dtype=tf.int32, name=None))>"
     },
     "execution_count": 45,
     "metadata": {},
     "output_type": "execute_result"
    }
   ],
   "source": [
    "reprepped_data_pairs = text_prep.preprocess_for_gpt2(final_sequences_3, tokenizer, train=True, one_shift=False)\n",
    "reprepped_data_pairs"
   ],
   "metadata": {
    "collapsed": false,
    "ExecuteTime": {
     "end_time": "2023-11-27T12:51:13.762312600Z",
     "start_time": "2023-11-27T12:51:09.596427200Z"
    }
   },
   "id": "283219857a499447"
  },
  {
   "cell_type": "code",
   "execution_count": 47,
   "outputs": [],
   "source": [
    "retrain_set_pairs = reprepped_data_pairs.take(315)\n",
    "retest_set_pairs = reprepped_data_pairs.skip(315)"
   ],
   "metadata": {
    "collapsed": false,
    "ExecuteTime": {
     "end_time": "2023-11-27T12:52:13.967362Z",
     "start_time": "2023-11-27T12:52:13.962398500Z"
    }
   },
   "id": "4004ffa3bdbee543"
  },
  {
   "cell_type": "code",
   "execution_count": null,
   "outputs": [],
   "source": [
    "gpt2_combined = TFGPT2LMHeadModel.from_pretrained('gpt2')\n",
    "gpt2_combined.load_weights('resources/gpt/saved/gpt2_oneshift_weights.h5')\n",
    "gpt2_combined.build()"
   ],
   "metadata": {
    "collapsed": false
   },
   "id": "e3f43149b6a2e086"
  },
  {
   "cell_type": "code",
   "execution_count": 62,
   "outputs": [],
   "source": [
    "optimizer_c = tf.keras.optimizers.Nadam(learning_rate=5e-8)\n",
    "loss_c = tf.keras.losses.SparseCategoricalCrossentropy(from_logits=True)\n",
    "gpt2_combined.compile(optimizer=optimizer_c, loss=loss_c)\n",
    "es_callback = keras.callbacks.EarlyStopping(patience=6, restore_best_weights=True)"
   ],
   "metadata": {
    "collapsed": false,
    "ExecuteTime": {
     "end_time": "2023-11-27T13:11:32.422559400Z",
     "start_time": "2023-11-27T13:11:32.381236900Z"
    }
   },
   "id": "de4869f5d658ef30"
  },
  {
   "cell_type": "code",
   "execution_count": 63,
   "outputs": [
    {
     "name": "stdout",
     "output_type": "stream",
     "text": [
      "Epoch 1/20\n",
      "315/315 [==============================] - 73s 91ms/step - loss: 1.0133 - val_loss: 1.0000\n",
      "Epoch 2/20\n",
      "315/315 [==============================] - 26s 82ms/step - loss: 1.0061 - val_loss: 0.9668\n",
      "Epoch 3/20\n",
      "315/315 [==============================] - 26s 82ms/step - loss: 1.0104 - val_loss: 0.9585\n",
      "Epoch 4/20\n",
      "315/315 [==============================] - 26s 82ms/step - loss: 1.0087 - val_loss: 1.0027\n",
      "Epoch 5/20\n",
      "315/315 [==============================] - 26s 82ms/step - loss: 1.0086 - val_loss: 0.9779\n",
      "Epoch 6/20\n",
      "315/315 [==============================] - 26s 81ms/step - loss: 1.0069 - val_loss: 0.9718\n",
      "Epoch 7/20\n",
      "315/315 [==============================] - 25s 81ms/step - loss: 1.0059 - val_loss: 1.0037\n",
      "Epoch 8/20\n",
      "315/315 [==============================] - 26s 82ms/step - loss: 0.9977 - val_loss: 1.0143\n",
      "Epoch 9/20\n",
      "315/315 [==============================] - 26s 83ms/step - loss: 1.0031 - val_loss: 0.9757\n"
     ]
    }
   ],
   "source": [
    "history_c3 = gpt2_combined.fit(retrain_set_pairs, epochs=20, validation_data=retest_set_pairs, callbacks=[es_callback])"
   ],
   "metadata": {
    "collapsed": false,
    "ExecuteTime": {
     "end_time": "2023-11-27T13:16:12.656256100Z",
     "start_time": "2023-11-27T13:11:33.082503800Z"
    }
   },
   "id": "46cf6874c15617ef"
  },
  {
   "cell_type": "code",
   "execution_count": 64,
   "outputs": [],
   "source": [
    "gpt2_combined.save_weights('resources/gpt/saved/gpt2_combined_weights.h5')"
   ],
   "metadata": {
    "collapsed": false,
    "ExecuteTime": {
     "end_time": "2023-11-27T13:16:36.721982400Z",
     "start_time": "2023-11-27T13:16:35.585964800Z"
    }
   },
   "id": "c66069cc6a073149"
  },
  {
   "cell_type": "code",
   "execution_count": 54,
   "outputs": [
    {
     "name": "stdout",
     "output_type": "stream",
     "text": [
      "Epoch 1/20\n",
      "315/315 [==============================] - 53s 80ms/step - loss: 1.1234 - val_loss: 1.0477\n",
      "Epoch 2/20\n",
      "315/315 [==============================] - 23s 73ms/step - loss: 1.0748 - val_loss: 1.0270\n",
      "Epoch 3/20\n",
      "315/315 [==============================] - 23s 74ms/step - loss: 1.0462 - val_loss: 0.9912\n",
      "Epoch 4/20\n",
      "315/315 [==============================] - 23s 73ms/step - loss: 1.0511 - val_loss: 0.9864\n",
      "Epoch 5/20\n",
      "315/315 [==============================] - 22s 71ms/step - loss: 1.0401 - val_loss: 1.0103\n",
      "Epoch 6/20\n",
      "315/315 [==============================] - 22s 71ms/step - loss: 1.0322 - val_loss: 1.0113\n",
      "Epoch 7/20\n",
      "315/315 [==============================] - 22s 71ms/step - loss: 1.0361 - val_loss: 0.9940\n",
      "Epoch 8/20\n",
      "315/315 [==============================] - 22s 71ms/step - loss: 1.0383 - val_loss: 0.9867\n",
      "Epoch 9/20\n",
      "315/315 [==============================] - 22s 71ms/step - loss: 1.0328 - val_loss: 1.0146\n",
      "Epoch 10/20\n",
      "315/315 [==============================] - 23s 72ms/step - loss: 1.0349 - val_loss: 0.9961\n"
     ]
    }
   ],
   "source": [
    "history_c4 = gpt2_combined.fit(retrain_set_pairs, epochs=20, validation_data=retest_set_pairs, callbacks=[es_callback])"
   ],
   "metadata": {
    "collapsed": false,
    "ExecuteTime": {
     "end_time": "2023-11-27T13:05:26.490705400Z",
     "start_time": "2023-11-27T13:01:09.553762700Z"
    }
   },
   "id": "71d3ff4db5fc5a47"
  },
  {
   "cell_type": "code",
   "execution_count": 55,
   "outputs": [],
   "source": [
    "gpt2_combined.save_weights('resources/gpt/saved/gpt2_combined_weights.h5')"
   ],
   "metadata": {
    "collapsed": false,
    "ExecuteTime": {
     "end_time": "2023-11-27T13:05:30.745345900Z",
     "start_time": "2023-11-27T13:05:29.670283500Z"
    }
   },
   "id": "59a21f29c7481e1"
  },
  {
   "cell_type": "markdown",
   "source": [
    "**Prediction**"
   ],
   "metadata": {
    "collapsed": false
   },
   "id": "9fc2627426f3425b"
  },
  {
   "cell_type": "code",
   "execution_count": 70,
   "outputs": [
    {
     "name": "stderr",
     "output_type": "stream",
     "text": [
      "All PyTorch model weights were used when initializing TFGPT2LMHeadModel.\n",
      "\n",
      "All the weights of TFGPT2LMHeadModel were initialized from the PyTorch model.\n",
      "If your task is similar to the task the model of the checkpoint was trained on, you can already use TFGPT2LMHeadModel for predictions without further training.\n",
      "Setting `pad_token_id` to `eos_token_id`:50256 for open-end generation.\n"
     ]
    },
    {
     "data": {
      "text/plain": "'customer: hi ill have a small mocha but it’s a detective mystery system: smallmochas with a plot as rich and complex as its chocolate what else can we uncover for'",
      "application/vnd.google.colaboratory.intrinsic+json": {
       "type": "string"
      }
     },
     "execution_count": 70,
     "metadata": {},
     "output_type": "execute_result"
    }
   ],
   "source": [
    "\n",
    "from all_legacy_code.src.training_and_prediction import predict\n",
    "\n",
    "gpt2_oneshift = TFGPT2LMHeadModel.from_pretrained('gpt2')\n",
    "gpt2_oneshift.build()\n",
    "gpt2_oneshift.load_weights('resources/gpt/saved/gpt2_oneshift_weights.h5')\n",
    "predict.generate_text('customer: hi ill have a small mocha', tokenizer, gpt2_oneshift, max_length=50)"
   ],
   "metadata": {
    "collapsed": false,
    "ExecuteTime": {
     "end_time": "2023-11-27T13:20:01.304921Z",
     "start_time": "2023-11-27T13:19:53.199639600Z"
    }
   },
   "id": "2850d51a640f27da"
  },
  {
   "cell_type": "code",
   "execution_count": 66,
   "outputs": [],
   "source": [
    "reprepped_data_pairs.save('resources/gpt/data/reprepped_data_gen')"
   ],
   "metadata": {
    "collapsed": false,
    "ExecuteTime": {
     "end_time": "2023-11-27T13:17:29.371265200Z",
     "start_time": "2023-11-27T13:17:29.289194700Z"
    }
   },
   "id": "4c251c91564494ff"
  }
 ],
 "metadata": {
  "kernelspec": {
   "display_name": "Python 3",
   "language": "python",
   "name": "python3"
  },
  "language_info": {
   "codemirror_mode": {
    "name": "ipython",
    "version": 2
   },
   "file_extension": ".py",
   "mimetype": "text/x-python",
   "name": "python",
   "nbconvert_exporter": "python",
   "pygments_lexer": "ipython2",
   "version": "2.7.6"
  }
 },
 "nbformat": 4,
 "nbformat_minor": 5
}
