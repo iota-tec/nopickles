{
 "cells": [
  {
   "cell_type": "markdown",
   "source": [
    "### Training BERT for Entity Recognition"
   ],
   "metadata": {
    "collapsed": false
   },
   "id": "b09f8e7ab52e2c67"
  },
  {
   "cell_type": "code",
   "execution_count": 1,
   "outputs": [],
   "source": [
    "import os\n",
    "import pickle\n",
    "#os.chdir('/content/drive/Othercomputers/AKATSUKI-PC/PycharmProjects/chatopotamus')"
   ],
   "metadata": {
    "collapsed": false,
    "ExecuteTime": {
     "end_time": "2023-11-25T11:05:47.350559300Z",
     "start_time": "2023-11-25T11:05:47.339794900Z"
    }
   },
   "id": "f160a803ee989f3b"
  },
  {
   "cell_type": "code",
   "execution_count": 2,
   "outputs": [],
   "source": [
    "import joblib\n",
    "from tensorflow import keras\n",
    "import json\n",
    "from transformers import AutoTokenizer, BertTokenizer, TFBertForTokenClassification, BertConfig\n",
    "import tensorflow as tf\n",
    "from all_legacy_code.src.preprocess import ner_prep\n",
    "from all_legacy_code.src import models\n",
    "from all_legacy_code.src.training_and_prediction import predict\n",
    "import numpy as np"
   ],
   "metadata": {
    "collapsed": false,
    "ExecuteTime": {
     "end_time": "2023-11-25T11:06:00.831690600Z",
     "start_time": "2023-11-25T11:05:47.804234500Z"
    }
   },
   "id": "94a0413a7a2ffe33"
  },
  {
   "cell_type": "code",
   "execution_count": 3,
   "outputs": [],
   "source": [
    "os.chdir('C:\\\\Users\\\\thory\\\\PycharmProjects\\\\chatopotamus')"
   ],
   "metadata": {
    "collapsed": false,
    "ExecuteTime": {
     "end_time": "2023-11-25T11:06:00.847690600Z",
     "start_time": "2023-11-25T11:06:00.834690600Z"
    }
   },
   "id": "5778cde7d840d85c"
  },
  {
   "cell_type": "markdown",
   "source": [
    "**Load the Tokenizer and Dataset**"
   ],
   "metadata": {
    "collapsed": false
   },
   "id": "cb0eeb22c75a5a5b"
  },
  {
   "cell_type": "code",
   "execution_count": 4,
   "outputs": [],
   "source": [
    "# Load pre-trained model tokenizer\n",
    "tokenizer = AutoTokenizer.from_pretrained('bert-base-uncased', use_fast=True)\n",
    "\n",
    "# Load files\n",
    "with open('resources/bert/data/ner_dataset.json', 'r') as file:\n",
    "\tner_dataset_json = json.load(file)\n",
    "\n",
    "with open('resources/bert/data/ner_lookup.json', 'r') as file:\n",
    "\tner_lookup = json.load(file)"
   ],
   "metadata": {
    "collapsed": false,
    "ExecuteTime": {
     "end_time": "2023-11-25T11:06:01.592379300Z",
     "start_time": "2023-11-25T11:06:00.851690600Z"
    }
   },
   "id": "638a160f14d658b1"
  },
  {
   "cell_type": "markdown",
   "source": [
    "**Convert dataset into IOB tagged data**"
   ],
   "metadata": {
    "collapsed": false
   },
   "id": "9e459d9ac37544e"
  },
  {
   "cell_type": "code",
   "execution_count": 5,
   "outputs": [],
   "source": [
    "iob_data = ner_prep.convert_to_IOB(ner_dataset_json, ner_lookup)"
   ],
   "metadata": {
    "collapsed": false,
    "ExecuteTime": {
     "end_time": "2023-11-25T11:06:01.686005Z",
     "start_time": "2023-11-25T11:06:01.595380100Z"
    }
   },
   "id": "650af7ed0f1767d1"
  },
  {
   "cell_type": "code",
   "execution_count": 6,
   "outputs": [
    {
     "data": {
      "text/plain": "('give me a hot chocolate no whipped topping and a grilled cheese sandwich',\n ['O',\n  'O',\n  'O',\n  'B-beverage',\n  'I-beverage',\n  'O',\n  'B-beverage_modifier',\n  'I-beverage_modifier',\n  'O',\n  'O',\n  'B-food',\n  'I-food',\n  'O'])"
     },
     "execution_count": 6,
     "metadata": {},
     "output_type": "execute_result"
    }
   ],
   "source": [
    "iob_data[2]"
   ],
   "metadata": {
    "collapsed": false,
    "ExecuteTime": {
     "end_time": "2023-11-25T11:06:01.714024400Z",
     "start_time": "2023-11-25T11:06:01.687003400Z"
    }
   },
   "id": "d15fab5b77944c40"
  },
  {
   "cell_type": "markdown",
   "source": [
    "**Tokenization and Handling Subword Tokens**"
   ],
   "metadata": {
    "collapsed": false
   },
   "id": "c9f7ccab7b593a9e"
  },
  {
   "cell_type": "code",
   "execution_count": 7,
   "outputs": [],
   "source": [
    "final_data = []\n",
    "for sentence, tags in iob_data:\n",
    "\tfinal_data.append(ner_prep.align_tokens_and_tags(sentence, tags, tokenizer))"
   ],
   "metadata": {
    "collapsed": false,
    "ExecuteTime": {
     "end_time": "2023-11-25T11:06:04.742546500Z",
     "start_time": "2023-11-25T11:06:01.705046100Z"
    }
   },
   "id": "7829fe8d35baff11"
  },
  {
   "cell_type": "code",
   "execution_count": 8,
   "outputs": [
    {
     "data": {
      "text/plain": "[('i', 'O', 1045),\n ('ordered', 'O', 3641),\n ('a', 'O', 1037),\n ('medium', 'B-beverage_size', 5396),\n ('double', 'B-beverage_modifier', 3313),\n ('double', 'I-beverage_modifier', 3313),\n ('and', 'O', 1998),\n ('a', 'O', 1037),\n ('boston', 'O', 3731),\n ('cream', 'O', 6949),\n ('don', 'B-food', 2123),\n ('##ut', 'I-food', 4904),\n ('from', 'O', 2013),\n ('tim', 'O', 5199),\n ('horton', 'O', 18469),\n ('##s', 'O', 2015)]"
     },
     "execution_count": 8,
     "metadata": {},
     "output_type": "execute_result"
    }
   ],
   "source": [
    "final_data[0]"
   ],
   "metadata": {
    "collapsed": false,
    "ExecuteTime": {
     "end_time": "2023-11-25T11:06:04.830075700Z",
     "start_time": "2023-11-25T11:06:04.742546500Z"
    }
   },
   "id": "e849e3cf419a201c"
  },
  {
   "cell_type": "markdown",
   "source": [
    "**Preprocessing**"
   ],
   "metadata": {
    "collapsed": false
   },
   "id": "d404f61017ba394f"
  },
  {
   "cell_type": "code",
   "execution_count": 9,
   "outputs": [
    {
     "data": {
      "text/plain": "26"
     },
     "execution_count": 9,
     "metadata": {},
     "output_type": "execute_result"
    }
   ],
   "source": [
    "max_len=0\n",
    "for sent in final_data:\n",
    "    max_len = len(sent) if len(sent)>max_len else max_len\n",
    "\n",
    "max_len"
   ],
   "metadata": {
    "collapsed": false,
    "ExecuteTime": {
     "end_time": "2023-11-25T11:06:04.868086100Z",
     "start_time": "2023-11-25T11:06:04.778557100Z"
    }
   },
   "id": "c6ff703e8298169d"
  },
  {
   "cell_type": "code",
   "execution_count": 10,
   "outputs": [],
   "source": [
    "prepped_data, label_map = ner_prep.preprocess_for_training(final_data, max_seq_length=max_len)"
   ],
   "metadata": {
    "collapsed": false,
    "ExecuteTime": {
     "end_time": "2023-11-25T11:06:05.083185100Z",
     "start_time": "2023-11-25T11:06:04.806076200Z"
    }
   },
   "id": "77315fafa48281b4"
  },
  {
   "cell_type": "code",
   "execution_count": 11,
   "outputs": [
    {
     "data": {
      "text/plain": "{'B-beverage': 0,\n 'B-beverage_complain': 1,\n 'B-beverage_modifier': 2,\n 'B-beverage_size': 3,\n 'B-food': 4,\n 'B-food_complain': 5,\n 'B-food_modifier': 6,\n 'I-beverage': 7,\n 'I-beverage_complain': 8,\n 'I-beverage_modifier': 9,\n 'I-beverage_size': 10,\n 'I-food': 11,\n 'I-food_complain': 12,\n 'I-food_modifier': 13,\n 'O': 14,\n -100: -100}"
     },
     "execution_count": 11,
     "metadata": {},
     "output_type": "execute_result"
    }
   ],
   "source": [
    "label_map"
   ],
   "metadata": {
    "collapsed": false,
    "ExecuteTime": {
     "end_time": "2023-11-25T11:05:07.557951900Z",
     "start_time": "2023-11-25T11:05:07.533676700Z"
    }
   },
   "id": "fa422f70605f0239"
  },
  {
   "cell_type": "code",
   "execution_count": 12,
   "outputs": [
    {
     "name": "stdout",
     "output_type": "stream",
     "text": [
      "[[11 11 11  5  6 10 11 11 11 11  2  1 11 11 11 11  0  0  0  0  0  0  0  0\n",
      "   0  0]\n",
      " [11 11 11  5  3  9 11  6 10 11 11 14  7  2  1 11 14  0  0  0  0  0  0  0\n",
      "   0  0]\n",
      " [11 11 11  3  9 11  6 10 11 11  2  1  1 11  0  0  0  0  0  0  0  0  0  0\n",
      "   0  0]\n",
      " [11 11 11  5  6 10  3 11  6 10 11 11  2  1 11 14  7  0  0  0  0  0  0  0\n",
      "   0  0]\n",
      " [11 11 11 11 11  3  9 11 11 11 11 11 11  2  1  1 11 14  7  0  0  0  0  0\n",
      "   0  0]\n",
      " [11 11 11  5  3  9 11 11 11 11  2  1 11 14  7  0  0  0  0  0  0  0  0  0\n",
      "   0  0]\n",
      " [11 11 11  5  3  9 11  6 10 11  2  1  1  0  0  0  0  0  0  0  0  0  0  0\n",
      "   0  0]\n",
      " [11 11 11  5  3  9  9 11 11  2  1 11 11 14  7  0  0  0  0  0  0  0  0  0\n",
      "   0  0]\n",
      " [11 11 11  5 11  3  9  9  9 11 11  2  1 11 14  7  0  0  0  0  0  0  0  0\n",
      "   0  0]\n",
      " [11 11 11  5  3  9 11  6 10 11 11 14  7  2  1 11 14  0  0  0  0  0  0  0\n",
      "   0  0]\n",
      " [11 11 11  3  9 11  6 10 11 11  2  1  1 11  0  0  0  0  0  0  0  0  0  0\n",
      "   0  0]\n",
      " [11 11 11  5  6 10  3 11  6 10 11 11  2  1 11 14  7  0  0  0  0  0  0  0\n",
      "   0  0]\n",
      " [11 11 11 11 11  3  9 11 11 11 11 11 11  2  1  1 11 14  7  0  0  0  0  0\n",
      "   0  0]\n",
      " [11 11 11  5  3  9 11 11 11 11  2  1 11 14  7  0  0  0  0  0  0  0  0  0\n",
      "   0  0]\n",
      " [11 11 11  5  3  9 11  6 10 11  2  1  1  0  0  0  0  0  0  0  0  0  0  0\n",
      "   0  0]\n",
      " [11 11 11  5  3  9  9 11 11  2  1 11 11 14  7  0  0  0  0  0  0  0  0  0\n",
      "   0  0]\n",
      " [11 11 11  5 11  3  9  9  9 11 11  2  1 11 14  7  0  0  0  0  0  0  0  0\n",
      "   0  0]\n",
      " [11 11 11  5  3 11 11  2  1 11 14  7  0  0  0  0  0  0  0  0  0  0  0  0\n",
      "   0  0]\n",
      " [11 11 11  5  3  9 11  6 10 11 11  2  1 11 11  0  0  0  0  0  0  0  0  0\n",
      "   0  0]\n",
      " [11 11 11  5  3  9 11  6 10 11 11  2  1 11 14  7  0  0  0  0  0  0  0  0\n",
      "   0  0]\n",
      " [11 11 11 11  5  3  9  9  9 11 11  2  1  1 11 11 14  7  0  0  0  0  0  0\n",
      "   0  0]\n",
      " [11 11 11  5  3 11 11 11 11 11 11  2  1  1 11 14  7  0  0  0  0  0  0  0\n",
      "   0  0]\n",
      " [11 11 11  3  9 11  6 10 11 11  2  1 11 14  7  0  0  0  0  0  0  0  0  0\n",
      "   0  0]\n",
      " [11 11 11  5  6 10  3 11  6 10 11 11 14  7  2  1 11 14  0  0  0  0  0  0\n",
      "   0  0]\n",
      " [11 11 11 11 11  3  9  9 11 11  2  1 11 11 11 14  7  0  0  0  0  0  0  0\n",
      "   0  0]\n",
      " [11 11 11  5  3  9 11  6 10 11 11  2  1 11  0  0  0  0  0  0  0  0  0  0\n",
      "   0  0]\n",
      " [11 11 11  5  3  9 11  6 10 11  2  1  1  0  0  0  0  0  0  0  0  0  0  0\n",
      "   0  0]\n",
      " [11 11 11  5  3  9 11 11 11 11  2  1 11 14  7  0  0  0  0  0  0  0  0  0\n",
      "   0  0]\n",
      " [11 11 11  5  3  9 11 11  2  1  1 11 11 14  7  0  0  0  0  0  0  0  0  0\n",
      "   0  0]\n",
      " [11 11 11 11 11  5  3  9  6 10 11 11 11 11  6 10 10  0  0  0  0  0  0  0\n",
      "   0  0]\n",
      " [11 11 11 11 11 11 11  2  1  1  2  1 14  7 11 11 11 11  0  0  0  0  0  0\n",
      "   0  0]\n",
      " [11 11 11 11  5  3  9 11  6 10 11  6 10  0  0  0  0  0  0  0  0  0  0  0\n",
      "   0  0]]\n"
     ]
    }
   ],
   "source": [
    "for i in prepped_data.take(1):\n",
    "    print(np.argmax(i[1], axis=2))"
   ],
   "metadata": {
    "collapsed": false,
    "ExecuteTime": {
     "end_time": "2023-11-25T11:00:44.414817700Z",
     "start_time": "2023-11-25T11:00:44.373766Z"
    }
   },
   "id": "d8eb9896b6217b09"
  },
  {
   "cell_type": "code",
   "execution_count": 13,
   "outputs": [
    {
     "data": {
      "text/plain": "<PrefetchDataset element_spec=({'input_ids': TensorSpec(shape=(None, 26), dtype=tf.int32, name=None), 'attention_mask': TensorSpec(shape=(None, 26), dtype=tf.int32, name=None)}, TensorSpec(shape=(None, 26, 15), dtype=tf.float32, name=None))>"
     },
     "execution_count": 13,
     "metadata": {},
     "output_type": "execute_result"
    }
   ],
   "source": [
    "prepped_data"
   ],
   "metadata": {
    "collapsed": false,
    "ExecuteTime": {
     "end_time": "2023-11-25T11:00:45.031298700Z",
     "start_time": "2023-11-25T11:00:45.005287400Z"
    }
   },
   "id": "8b727c395d8b7c55"
  },
  {
   "cell_type": "markdown",
   "source": [
    "**Train-Test Split**"
   ],
   "metadata": {
    "collapsed": false
   },
   "id": "8b71c4df04a6de5e"
  },
  {
   "cell_type": "code",
   "execution_count": 16,
   "outputs": [],
   "source": [
    "total_size = 0\n",
    "for _ in prepped_data:\n",
    "    total_size += 1\n",
    "\n",
    "train_size = int(0.6 * total_size)\n",
    "val_size = int(0.2 * total_size)\n",
    "test_size = total_size - train_size - val_size\n",
    "\n",
    "train_dataset = prepped_data.take(train_size)\n",
    "val_dataset = prepped_data.skip(train_size).take(val_size)\n",
    "test_dataset = prepped_data.skip(train_size+val_size)"
   ],
   "metadata": {
    "collapsed": false,
    "ExecuteTime": {
     "end_time": "2023-11-25T11:08:18.401972700Z",
     "start_time": "2023-11-25T11:08:18.362977400Z"
    }
   },
   "id": "5088b5a27d3699e5"
  },
  {
   "cell_type": "markdown",
   "source": [
    "**Training**"
   ],
   "metadata": {
    "collapsed": false
   },
   "id": "4654de7f71cd72e9"
  },
  {
   "cell_type": "code",
   "execution_count": null,
   "outputs": [],
   "source": [
    "model = models.create_entity_classifier(compile=True, lr=5e-5)"
   ],
   "metadata": {
    "collapsed": false
   },
   "id": "ce9bc36051101cc"
  },
  {
   "cell_type": "code",
   "execution_count": 29,
   "outputs": [],
   "source": [
    "callbacks = [\n",
    "    # keras.callbacks.ModelCheckpoint(filepath='resources\\\\bert\\\\checkpoints\\\\model.{epoch:02d}-{val_loss:.2f}.h5', save_weights_only=True),\n",
    "    keras.callbacks.EarlyStopping(monitor='val_f1_score', patience=7)\n",
    "]"
   ],
   "metadata": {
    "collapsed": false,
    "ExecuteTime": {
     "end_time": "2023-11-25T11:18:47.511161200Z",
     "start_time": "2023-11-25T11:18:47.473143Z"
    }
   },
   "id": "80b7f2e60ce036fc"
  },
  {
   "cell_type": "code",
   "execution_count": 30,
   "outputs": [
    {
     "name": "stdout",
     "output_type": "stream",
     "text": [
      "Epoch 1/9\n",
      "33/33 [==============================] - 34s 511ms/step - loss: 0.9223 - precision_6: 0.5564 - recall_6: 0.5561 - f1_score: 0.5563 - val_loss: 0.2992 - val_precision_6: 0.5552 - val_recall_6: 0.8434 - val_f1_score: 0.6696\n",
      "Epoch 2/9\n",
      "33/33 [==============================] - 14s 417ms/step - loss: 0.1783 - precision_6: 0.5697 - recall_6: 0.9537 - f1_score: 0.7133 - val_loss: 0.0417 - val_precision_6: 0.5389 - val_recall_6: 0.9982 - val_f1_score: 0.7000\n",
      "Epoch 3/9\n",
      "33/33 [==============================] - 14s 417ms/step - loss: 0.0453 - precision_6: 0.6286 - recall_6: 0.9976 - f1_score: 0.7712 - val_loss: 0.0160 - val_precision_6: 0.7205 - val_recall_6: 0.9993 - val_f1_score: 0.8373\n",
      "Epoch 4/9\n",
      "33/33 [==============================] - 14s 419ms/step - loss: 0.0197 - precision_6: 0.7171 - recall_6: 0.9989 - f1_score: 0.8349 - val_loss: 0.0098 - val_precision_6: 0.7913 - val_recall_6: 0.9993 - val_f1_score: 0.8832\n",
      "Epoch 5/9\n",
      "33/33 [==============================] - 14s 421ms/step - loss: 0.0131 - precision_6: 0.7353 - recall_6: 0.9995 - f1_score: 0.8473 - val_loss: 0.0077 - val_precision_6: 0.8419 - val_recall_6: 0.9993 - val_f1_score: 0.9139\n",
      "Epoch 6/9\n",
      "33/33 [==============================] - 14s 422ms/step - loss: 0.0105 - precision_6: 0.7566 - recall_6: 0.9995 - f1_score: 0.8613 - val_loss: 0.0077 - val_precision_6: 0.8764 - val_recall_6: 0.9993 - val_f1_score: 0.9339\n",
      "Epoch 7/9\n",
      "33/33 [==============================] - 14s 422ms/step - loss: 0.0079 - precision_6: 0.7695 - recall_6: 0.9998 - f1_score: 0.8697 - val_loss: 0.0066 - val_precision_6: 0.8728 - val_recall_6: 0.9993 - val_f1_score: 0.9318\n",
      "Epoch 8/9\n",
      "33/33 [==============================] - 14s 425ms/step - loss: 0.0063 - precision_6: 0.7738 - recall_6: 0.9999 - f1_score: 0.8724 - val_loss: 0.0069 - val_precision_6: 0.9131 - val_recall_6: 0.9996 - val_f1_score: 0.9543\n"
     ]
    }
   ],
   "source": [
    "history_round_1 = model.fit(train_dataset, epochs=9, validation_data=val_dataset, callbacks=callbacks)"
   ],
   "metadata": {
    "collapsed": false,
    "ExecuteTime": {
     "end_time": "2023-11-25T11:20:58.246888800Z",
     "start_time": "2023-11-25T11:18:47.489144300Z"
    }
   },
   "id": "4161fc38d9f9596a"
  },
  {
   "cell_type": "markdown",
   "source": [
    "**Evaluation**"
   ],
   "metadata": {
    "collapsed": false
   },
   "id": "687d360a6a5d7342"
  },
  {
   "cell_type": "code",
   "execution_count": 31,
   "outputs": [
    {
     "name": "stdout",
     "output_type": "stream",
     "text": [
      "9/9 [==============================] - 2s 139ms/step - loss: 0.0069 - precision_6: 0.9131 - recall_6: 0.9996 - f1_score: 0.9543\n",
      "Precsion: 0.9130523800849915\n",
      "Recall: 0.9995520710945129\n",
      "F1 Score: 0.9543456435203552\n"
     ]
    }
   ],
   "source": [
    "loss, precision, recall, f1_score = model.evaluate(test_dataset)\n",
    "print(f'Precsion: {precision}\\nRecall: {recall}\\nF1 Score: {f1_score}')"
   ],
   "metadata": {
    "collapsed": false,
    "ExecuteTime": {
     "end_time": "2023-11-25T11:21:44.539574400Z",
     "start_time": "2023-11-25T11:21:42.810148700Z"
    }
   },
   "id": "7d685d511461abd6"
  },
  {
   "cell_type": "code",
   "execution_count": 36,
   "outputs": [
    {
     "name": "stdout",
     "output_type": "stream",
     "text": [
      "1/1 [==============================] - 0s 140ms/step\n"
     ]
    },
    {
     "data": {
      "text/plain": "[('the', 'O'),\n ('iced', 'B-beverage'),\n ('cap', 'I-beverage'),\n ('##p', 'I-beverage'),\n ('was', 'O'),\n ('too', 'B-food_complain'),\n ('dry', 'I-food_complain')]"
     },
     "execution_count": 36,
     "metadata": {},
     "output_type": "execute_result"
    }
   ],
   "source": [
    "predict.predict_entities('the iced capp was too dry', model, tokenizer, label_map, 26)"
   ],
   "metadata": {
    "collapsed": false,
    "ExecuteTime": {
     "end_time": "2023-11-25T11:27:19.669839700Z",
     "start_time": "2023-11-25T11:27:19.421124800Z"
    }
   },
   "id": "453da46c25e37d27"
  },
  {
   "cell_type": "markdown",
   "source": [
    "**For Reloading/Saving**"
   ],
   "metadata": {
    "collapsed": false
   },
   "id": "b5c00294ec543ee"
  },
  {
   "cell_type": "code",
   "execution_count": 19,
   "outputs": [],
   "source": [
    "# LOAD\n",
    "prepped_data = tf.data.Dataset.load('resources/bert/data/prepped_data')\n",
    "with open('resources/bert/data/label_map.pkl', 'rb') as f:\n",
    "    label_map = pickle.load(f)\n",
    "with open('resources/bert/saved/ner_tokenizer.pkl', 'wb') as f:\n",
    "    tokenizer = pickle.load(f)\n",
    "model.load_weights('resources/bert/saved/ner_trained_weights.h5')"
   ],
   "metadata": {
    "collapsed": false,
    "ExecuteTime": {
     "end_time": "2023-11-25T10:20:37.721256200Z",
     "start_time": "2023-11-25T10:20:37.649615300Z"
    }
   },
   "id": "95ac604625db64f2"
  },
  {
   "cell_type": "code",
   "execution_count": 37,
   "outputs": [],
   "source": [
    "# SAVE\n",
    "model.save_weights('resources/bert/saved/ner_trained_weights.h5')\n",
    "prepped_data.save('resources/bert/data/prepped_data')\n",
    "with open('resources/bert/data/label_map.pkl', 'wb') as f:\n",
    "    pickle.dump(label_map, f)\n",
    "with open('resources/bert/saved/ner_tokenizer.pkl', 'wb') as f:\n",
    "    pickle.dump(tokenizer, f)"
   ],
   "metadata": {
    "collapsed": false,
    "ExecuteTime": {
     "end_time": "2023-11-25T11:28:40.005382500Z",
     "start_time": "2023-11-25T11:28:38.330988800Z"
    }
   },
   "id": "c3032eafed46907a"
  }
 ],
 "metadata": {
  "kernelspec": {
   "display_name": "Python 3",
   "language": "python",
   "name": "python3"
  },
  "language_info": {
   "codemirror_mode": {
    "name": "ipython",
    "version": 2
   },
   "file_extension": ".py",
   "mimetype": "text/x-python",
   "name": "python",
   "nbconvert_exporter": "python",
   "pygments_lexer": "ipython2",
   "version": "2.7.6"
  }
 },
 "nbformat": 4,
 "nbformat_minor": 5
}
