{
 "cells": [
  {
   "cell_type": "markdown",
   "source": [
    "### Training DistilBERT for Intent Recognition"
   ],
   "metadata": {
    "collapsed": false
   },
   "id": "232a0207d8c12cf2"
  },
  {
   "cell_type": "markdown",
   "source": [
    "**Imports and Initial Setup**"
   ],
   "metadata": {
    "collapsed": false
   },
   "id": "a8cb6c9628024965"
  },
  {
   "cell_type": "code",
   "execution_count": null,
   "outputs": [],
   "source": [
    "# If Colab\n",
    "import os\n",
    "\n",
    "import pandas as pd\n",
    "\n",
    "os.chdir('/content/drive/Othercomputers/AKATSUKI-PC/PycharmProjects/chatopotamus')"
   ],
   "metadata": {
    "collapsed": false
   },
   "id": "886de793b95694fc"
  },
  {
   "cell_type": "code",
   "execution_count": 3,
   "id": "initial_id",
   "metadata": {
    "collapsed": true,
    "ExecuteTime": {
     "end_time": "2023-11-25T11:33:19.638080Z",
     "start_time": "2023-11-25T11:33:10.406639600Z"
    }
   },
   "outputs": [],
   "source": [
    "from transformers import DistilBertTokenizer, TFDistilBertModel, DistilBertConfig\n",
    "import tensorflow as tf\n",
    "from tensorflow import keras\n",
    "import os\n",
    "import joblib\n",
    "import numpy as np\n",
    "from all_legacy_code.src.preprocess import text_prep\n",
    "from all_legacy_code.src import models"
   ]
  },
  {
   "cell_type": "code",
   "execution_count": 4,
   "outputs": [],
   "source": [
    "# If Local Interpreter\n",
    "os.chdir('C:\\\\Users\\\\thory\\\\PycharmProjects\\\\chatopotamus')"
   ],
   "metadata": {
    "collapsed": false,
    "ExecuteTime": {
     "end_time": "2023-11-25T11:33:19.668013900Z",
     "start_time": "2023-11-25T11:33:19.646082Z"
    }
   },
   "id": "17661f2166b661c1"
  },
  {
   "cell_type": "markdown",
   "source": [
    "**Path Constants**"
   ],
   "metadata": {
    "collapsed": false
   },
   "id": "8f5f01a5e0d687f2"
  },
  {
   "cell_type": "code",
   "execution_count": 19,
   "outputs": [],
   "source": [
    "DATA_PATH = 'resources/gpt/data'\n",
    "ORDERS_PATH = os.path.join(DATA_PATH, 'orders.txt')\n",
    "ENQUIRY_PATH = os.path.join(DATA_PATH, 'enquiry.txt')\n",
    "COMPLAINS_PATH = os.path.join(DATA_PATH, 'complains.txt')"
   ],
   "metadata": {
    "collapsed": false,
    "ExecuteTime": {
     "end_time": "2023-11-25T08:43:02.500520100Z",
     "start_time": "2023-11-25T08:43:02.496533900Z"
    }
   },
   "id": "5c997b8629569d33"
  },
  {
   "cell_type": "markdown",
   "source": [
    "**Convert into Sequences**"
   ],
   "metadata": {
    "collapsed": false
   },
   "id": "97232d0e81e9ecaa"
  },
  {
   "cell_type": "code",
   "execution_count": 20,
   "outputs": [],
   "source": [
    "final_sequence_order, intent_order  = text_prep.file_to_sequences(ORDERS_PATH, intent='order', length=2)\n",
    "final_sequence_enquiry, intent_enquiry = text_prep.file_to_sequences(ENQUIRY_PATH, intent='enquiry', length=2)\n",
    "final_sequence_complain, intent_complain = text_prep.file_to_sequences(COMPLAINS_PATH, intent='complain', length=2)"
   ],
   "metadata": {
    "collapsed": false,
    "ExecuteTime": {
     "end_time": "2023-11-25T08:43:04.586065100Z",
     "start_time": "2023-11-25T08:43:03.073134400Z"
    }
   },
   "id": "39dcbcbc894ed03"
  },
  {
   "cell_type": "code",
   "execution_count": 21,
   "outputs": [],
   "source": [
    "final_sequences = final_sequence_complain + final_sequence_enquiry + final_sequence_order\n",
    "final_intents = intent_complain+intent_enquiry+intent_order"
   ],
   "metadata": {
    "collapsed": false,
    "ExecuteTime": {
     "end_time": "2023-11-25T08:43:04.611059600Z",
     "start_time": "2023-11-25T08:43:04.588060400Z"
    }
   },
   "id": "523b76b4f189caae"
  },
  {
   "cell_type": "code",
   "execution_count": 62,
   "outputs": [
    {
     "data": {
      "text/plain": "(\"customer: what kinds of teas are available? system: we offer a range of teas including black green herbal and flavored varieties any particular flavor you're interested in?\",\n 'enquiry')"
     },
     "execution_count": 62,
     "metadata": {},
     "output_type": "execute_result"
    }
   ],
   "source": [
    "final_sequences[2002], final_intents[2002]"
   ],
   "metadata": {
    "collapsed": false,
    "ExecuteTime": {
     "end_time": "2023-11-25T08:53:20.879205400Z",
     "start_time": "2023-11-25T08:53:20.803951700Z"
    }
   },
   "id": "d190b4c090d677ba"
  },
  {
   "cell_type": "markdown",
   "source": [
    "**Tokenize**"
   ],
   "metadata": {
    "collapsed": false
   },
   "id": "8b7f1c7aca3f1bc8"
  },
  {
   "cell_type": "code",
   "execution_count": 5,
   "outputs": [],
   "source": [
    "tokenizer = DistilBertTokenizer.from_pretrained('distilbert-base-uncased')"
   ],
   "metadata": {
    "collapsed": false,
    "ExecuteTime": {
     "end_time": "2023-11-25T11:33:20.460167200Z",
     "start_time": "2023-11-25T11:33:19.657077900Z"
    }
   },
   "id": "14340e40312cd02d"
  },
  {
   "cell_type": "code",
   "execution_count": 24,
   "outputs": [],
   "source": [
    "tokenized_inputs = tokenizer(final_sequences, max_length=40, truncation=True, padding='max_length', return_tensors=\"tf\")"
   ],
   "metadata": {
    "collapsed": false,
    "ExecuteTime": {
     "end_time": "2023-11-25T08:43:08.250867700Z",
     "start_time": "2023-11-25T08:43:04.755592200Z"
    }
   },
   "id": "b288b2c3602e1cf"
  },
  {
   "cell_type": "code",
   "execution_count": 25,
   "outputs": [
    {
     "data": {
      "text/plain": "{'input_ids': <tf.Tensor: shape=(4320, 40), dtype=int32, numpy=\narray([[  101,  8013,  1024, ...,     0,     0,     0],\n       [  101,  8013,  1024, ...,  2005,  2017,   102],\n       [  101,  8013,  1024, ...,     0,     0,     0],\n       ...,\n       [  101,  8013,  1024, ..., 14744,  1000,   102],\n       [  101,  8013,  1024, ...,  1037, 25751,   102],\n       [  101,  8013,  1024, ...,  3424,  6895,   102]], dtype=int32)>, 'attention_mask': <tf.Tensor: shape=(4320, 40), dtype=int32, numpy=\narray([[1, 1, 1, ..., 0, 0, 0],\n       [1, 1, 1, ..., 1, 1, 1],\n       [1, 1, 1, ..., 0, 0, 0],\n       ...,\n       [1, 1, 1, ..., 1, 1, 1],\n       [1, 1, 1, ..., 1, 1, 1],\n       [1, 1, 1, ..., 1, 1, 1]], dtype=int32)>}"
     },
     "execution_count": 25,
     "metadata": {},
     "output_type": "execute_result"
    }
   ],
   "source": [
    "tokenized_inputs"
   ],
   "metadata": {
    "collapsed": false,
    "ExecuteTime": {
     "end_time": "2023-11-25T08:43:08.343390900Z",
     "start_time": "2023-11-25T08:43:08.223868600Z"
    }
   },
   "id": "17d15342f87cbbd7"
  },
  {
   "cell_type": "markdown",
   "source": [
    "**Preprocessing**"
   ],
   "metadata": {
    "collapsed": false
   },
   "id": "beb1ff3dd472b147"
  },
  {
   "cell_type": "code",
   "execution_count": 26,
   "outputs": [
    {
     "data": {
      "text/plain": "<_PrefetchDataset element_spec=({'input_ids': TensorSpec(shape=(None, 40), dtype=tf.int32, name=None), 'attention_mask': TensorSpec(shape=(None, 40), dtype=tf.int32, name=None)}, TensorSpec(shape=(None, 3), dtype=tf.float32, name=None))>"
     },
     "execution_count": 26,
     "metadata": {},
     "output_type": "execute_result"
    }
   ],
   "source": [
    "prepped_data = text_prep.preprocess_for_intent(tokenized_inputs, final_intents)\n",
    "prepped_data"
   ],
   "metadata": {
    "collapsed": false,
    "ExecuteTime": {
     "end_time": "2023-11-25T08:43:09.970400500Z",
     "start_time": "2023-11-25T08:43:08.282393900Z"
    }
   },
   "id": "d0d50d16b16318f6"
  },
  {
   "cell_type": "code",
   "execution_count": 27,
   "outputs": [
    {
     "name": "stdout",
     "output_type": "stream",
     "text": [
      "({'input_ids': <tf.Tensor: shape=(16, 40), dtype=int32, numpy=\n",
      "array([[  101,  8013,  1024,  2748,  1045,  1005,  1040,  2066,  1037,\n",
      "         7967, 16510,  2123,  4904,  1998,  1037,  2235,  2413, 21161,\n",
      "         2007,  2019,  4469,  2915,  2291,  1024,  6581,  9804,   999,\n",
      "         1037,  7967, 16510,  2123,  4904,  1998,  1037,  2235,  2413,\n",
      "        21161,  2007,  2019,   102],\n",
      "       [  101,  8013,  1024,  3398,  1037,  2312,  2137,  2080,  4469,\n",
      "         2915,  2291,  1024,  2312,  2137,  2080,  2007,  2019,  4469,\n",
      "        24689,  7959,  3170,  8595,  2008,  1005,  2222,  2022,  1026,\n",
      "         3976,  1028,  2129,  2052,  2017,  2066,  2000,  3477,  1029,\n",
      "          102,     0,     0,     0],\n",
      "       [  101,  8013,  1024,  2024,  2045,  5699,  1011,  2489,  7047,\n",
      "         2005,  2123, 16446,  1029,  2291,  1024,  2747,  2057,  2123,\n",
      "         1005,  1056,  2031,  5699,  1011,  2489,  2123, 16446,  2021,\n",
      "         2057,  2031,  2060,  5699,  1011,  2489, 19782,  7047,  4699,\n",
      "         1999,  2216,  1029,   102],\n",
      "       [  101,  8013,  1024,  2224,  1996,  4003,  1998,  2191,  2009,\n",
      "        10245,  7685,   999,  2291,  1024,  4003, 24452,  2007,  1996,\n",
      "        11718,  1997,  1037,  2002,  2923,  3040,  2115,  2344,  2097,\n",
      "         2022,  2437,  2049,  2131,  9497,  2000,  2017,  3859,  4067,\n",
      "         2017,  2005,  1996,   102],\n",
      "       [  101,  8013,  1024,  2079,  2017,  3749,  2151,  2512,  1011,\n",
      "        11825, 27060,  7047,  1029,  2291,  1024,  2748,  2057,  3749,\n",
      "         1037,  4989,  1997, 15942,  2078,  2627,  5134,  2008,  2024,\n",
      "         2512,  1011, 11825,  2052,  2017,  2066,  2000,  3046,  2028,\n",
      "         1029,   102,     0,     0],\n",
      "       [  101,  8013,  1024,  5587,  1037,  7975, 10236, 26192,  2094,\n",
      "         2007,  4469, 12901,  2291,  1024,  7975, 10236,  2746,  2039,\n",
      "        26192,  2094,  2007,  2019,  4469, 17624,  1997, 12901,  2097,\n",
      "         2008,  2022,  2035,  1029,   102,     0,     0,     0,     0,\n",
      "            0,     0,     0,     0],\n",
      "       [  101,  8013,  1024,  1045,  1005,  1049,  2036,  1999,  1996,\n",
      "         6888,  2005,  1037, 26192,  2094,  8808,  6090,  5498, 15174,\n",
      "         2098,  1998,  2007,  4469,  8808,  2291,  1024,  7078,  1037,\n",
      "        26192,  2094,  8808,  6090,  5498, 15174,  2098,  2007,  4469,\n",
      "         8808,  2505,  2842,   102],\n",
      "       [  101,  8013,  1024,  2053,  2008,  1005,  1055,  2009,  2291,\n",
      "         1024, 10303,  2115,  2047, 28248,  6178,  2361,  2097,  2022,\n",
      "         3201,  3859,  4067,  2017,  2005,  5599,  2149,  6149,  2023,\n",
      "          999,   102,     0,     0,     0,     0,     0,     0,     0,\n",
      "            0,     0,     0,     0],\n",
      "       [  101,  8013,  1024, 16724,  1999,  4003,  3531,  2291,  1024,\n",
      "         4003, 13995,  2007,  1996,  3521,  1997,  1037, 16729,  3871,\n",
      "          999,  2115, 13805,  8910,  2097,  7180,  1999,  1037,  2110,\n",
      "         1997,  5475, 15125, 14083,  2063,  1998,  5959,  2115,  7954,\n",
      "          999,   102,     0,     0],\n",
      "       [  101,  8013,  1024,  2026,  5572,  2001,  2205,  3147,  2009,\n",
      "         2001,  2066,  5355,  9028,  2213,  2300,  2291,  1024,  2821,\n",
      "         2053,  2008,  1005,  1055,  2025,  1996,  5572,  3325,  2057,\n",
      "         6614,  2005,   999,  2292,  1005,  1055,  2131,  2017,  1037,\n",
      "         2980, 20229, 24702,   102],\n",
      "       [  101,  8013,  1024,  2748,  1045,  1005,  1040,  2066,  1037,\n",
      "         2630,  9766, 14163, 15379,  3531,  2291,  1024,  6581,  3601,\n",
      "          999,  1037,  2630,  9766, 14163, 15379,  2003,  2045,  2505,\n",
      "         2842,  2017,  1005,  1040,  2066,  2000,  5587,  1029,   102,\n",
      "            0,     0,     0,     0],\n",
      "       [  101,  8013,  1024, 10055,  1999,  1037,  7975, 10236,  2053,\n",
      "        12901,  4469, 26192,  2094,  2291,  1024,  7975, 10236,  2053,\n",
      "        12901,  4469, 26192,  2094,  2505,  2842,  1029,   102,     0,\n",
      "            0,     0,     0,     0,     0,     0,     0,     0,     0,\n",
      "            0,     0,     0,     0],\n",
      "       [  101,  8013,  1024,  1045,  9120,  2008,  2009,  1005,  1055,\n",
      "         2074,  2821,  1998,  2071,  2017,  5466,  1999,  1037,  4524,\n",
      "         2884,  2007,  6949,  8808,  1029,  6295,  2467,  2191,  2033,\n",
      "         7501,  2291,  1024,  4524,  2884,  2007,  6949,  8808,  2746,\n",
      "         2039,   999,  2009,   102],\n",
      "       [  101,  8013,  1024,  3926,  2007,  1037,  2235,  2413, 21161,\n",
      "         2021,  2009,  1005,  1055,  1037,  8867, 22059,  4566,  2291,\n",
      "         1024,  1037,  2235,  2413, 21161,  2004,  4372, 14856,  3436,\n",
      "         1998,  4086,  2004,  1005, 11361,  2412,  2044,  1005,  2008,\n",
      "         1521,  2222,  2022,   102],\n",
      "       [  101,  8013,  1024,  2003,  2009,  2825,  2000,  2191,  1037,\n",
      "         2474,  4674,  5699,  1011,  2489,  1029,  2291,  1024,  2748,\n",
      "         2057,  2064,  2191,  2115,  2474,  4674,  5699,  1011,  2489,\n",
      "         2478,  5699,  1011,  2489, 23353,  2030,  2053,  5699,  2012,\n",
      "         2035,  2052,  2017,   102],\n",
      "       [  101,  8013,  1024,  2079,  2017,  3749,  2151,  5699,  1011,\n",
      "         2489, 23353,  2005, 21705,  1029,  2291,  1024,  2057,  2469,\n",
      "         2079,   999,  2057,  2031,  5699,  1011,  2489, 23353,  7047,\n",
      "         2005,  2256, 21705,  2505,  2842,  2017,  1521,  1040,  2066,\n",
      "         2000,  4372, 15549,   102]], dtype=int32)>, 'attention_mask': <tf.Tensor: shape=(16, 40), dtype=int32, numpy=\n",
      "array([[1, 1, 1, 1, 1, 1, 1, 1, 1, 1, 1, 1, 1, 1, 1, 1, 1, 1, 1, 1, 1, 1,\n",
      "        1, 1, 1, 1, 1, 1, 1, 1, 1, 1, 1, 1, 1, 1, 1, 1, 1, 1],\n",
      "       [1, 1, 1, 1, 1, 1, 1, 1, 1, 1, 1, 1, 1, 1, 1, 1, 1, 1, 1, 1, 1, 1,\n",
      "        1, 1, 1, 1, 1, 1, 1, 1, 1, 1, 1, 1, 1, 1, 1, 0, 0, 0],\n",
      "       [1, 1, 1, 1, 1, 1, 1, 1, 1, 1, 1, 1, 1, 1, 1, 1, 1, 1, 1, 1, 1, 1,\n",
      "        1, 1, 1, 1, 1, 1, 1, 1, 1, 1, 1, 1, 1, 1, 1, 1, 1, 1],\n",
      "       [1, 1, 1, 1, 1, 1, 1, 1, 1, 1, 1, 1, 1, 1, 1, 1, 1, 1, 1, 1, 1, 1,\n",
      "        1, 1, 1, 1, 1, 1, 1, 1, 1, 1, 1, 1, 1, 1, 1, 1, 1, 1],\n",
      "       [1, 1, 1, 1, 1, 1, 1, 1, 1, 1, 1, 1, 1, 1, 1, 1, 1, 1, 1, 1, 1, 1,\n",
      "        1, 1, 1, 1, 1, 1, 1, 1, 1, 1, 1, 1, 1, 1, 1, 1, 0, 0],\n",
      "       [1, 1, 1, 1, 1, 1, 1, 1, 1, 1, 1, 1, 1, 1, 1, 1, 1, 1, 1, 1, 1, 1,\n",
      "        1, 1, 1, 1, 1, 1, 1, 1, 1, 1, 0, 0, 0, 0, 0, 0, 0, 0],\n",
      "       [1, 1, 1, 1, 1, 1, 1, 1, 1, 1, 1, 1, 1, 1, 1, 1, 1, 1, 1, 1, 1, 1,\n",
      "        1, 1, 1, 1, 1, 1, 1, 1, 1, 1, 1, 1, 1, 1, 1, 1, 1, 1],\n",
      "       [1, 1, 1, 1, 1, 1, 1, 1, 1, 1, 1, 1, 1, 1, 1, 1, 1, 1, 1, 1, 1, 1,\n",
      "        1, 1, 1, 1, 1, 1, 1, 0, 0, 0, 0, 0, 0, 0, 0, 0, 0, 0],\n",
      "       [1, 1, 1, 1, 1, 1, 1, 1, 1, 1, 1, 1, 1, 1, 1, 1, 1, 1, 1, 1, 1, 1,\n",
      "        1, 1, 1, 1, 1, 1, 1, 1, 1, 1, 1, 1, 1, 1, 1, 1, 0, 0],\n",
      "       [1, 1, 1, 1, 1, 1, 1, 1, 1, 1, 1, 1, 1, 1, 1, 1, 1, 1, 1, 1, 1, 1,\n",
      "        1, 1, 1, 1, 1, 1, 1, 1, 1, 1, 1, 1, 1, 1, 1, 1, 1, 1],\n",
      "       [1, 1, 1, 1, 1, 1, 1, 1, 1, 1, 1, 1, 1, 1, 1, 1, 1, 1, 1, 1, 1, 1,\n",
      "        1, 1, 1, 1, 1, 1, 1, 1, 1, 1, 1, 1, 1, 1, 0, 0, 0, 0],\n",
      "       [1, 1, 1, 1, 1, 1, 1, 1, 1, 1, 1, 1, 1, 1, 1, 1, 1, 1, 1, 1, 1, 1,\n",
      "        1, 1, 1, 1, 0, 0, 0, 0, 0, 0, 0, 0, 0, 0, 0, 0, 0, 0],\n",
      "       [1, 1, 1, 1, 1, 1, 1, 1, 1, 1, 1, 1, 1, 1, 1, 1, 1, 1, 1, 1, 1, 1,\n",
      "        1, 1, 1, 1, 1, 1, 1, 1, 1, 1, 1, 1, 1, 1, 1, 1, 1, 1],\n",
      "       [1, 1, 1, 1, 1, 1, 1, 1, 1, 1, 1, 1, 1, 1, 1, 1, 1, 1, 1, 1, 1, 1,\n",
      "        1, 1, 1, 1, 1, 1, 1, 1, 1, 1, 1, 1, 1, 1, 1, 1, 1, 1],\n",
      "       [1, 1, 1, 1, 1, 1, 1, 1, 1, 1, 1, 1, 1, 1, 1, 1, 1, 1, 1, 1, 1, 1,\n",
      "        1, 1, 1, 1, 1, 1, 1, 1, 1, 1, 1, 1, 1, 1, 1, 1, 1, 1],\n",
      "       [1, 1, 1, 1, 1, 1, 1, 1, 1, 1, 1, 1, 1, 1, 1, 1, 1, 1, 1, 1, 1, 1,\n",
      "        1, 1, 1, 1, 1, 1, 1, 1, 1, 1, 1, 1, 1, 1, 1, 1, 1, 1]],\n",
      "      dtype=int32)>}, <tf.Tensor: shape=(16, 3), dtype=float32, numpy=\n",
      "array([[1., 0., 0.],\n",
      "       [1., 0., 0.],\n",
      "       [0., 0., 1.],\n",
      "       [1., 0., 0.],\n",
      "       [0., 0., 1.],\n",
      "       [1., 0., 0.],\n",
      "       [1., 0., 0.],\n",
      "       [0., 1., 0.],\n",
      "       [1., 0., 0.],\n",
      "       [0., 1., 0.],\n",
      "       [1., 0., 0.],\n",
      "       [1., 0., 0.],\n",
      "       [0., 1., 0.],\n",
      "       [1., 0., 0.],\n",
      "       [0., 0., 1.],\n",
      "       [0., 0., 1.]], dtype=float32)>)\n"
     ]
    }
   ],
   "source": [
    "for i in prepped_data.take(1):\n",
    "    print(i)"
   ],
   "metadata": {
    "collapsed": false,
    "ExecuteTime": {
     "end_time": "2023-11-25T08:43:10.367493100Z",
     "start_time": "2023-11-25T08:43:09.960879Z"
    }
   },
   "id": "8ee1c2cfbf7c51ab"
  },
  {
   "cell_type": "markdown",
   "source": [
    "**Train-Test Split**"
   ],
   "metadata": {
    "collapsed": false
   },
   "id": "b8f55236b9e79102"
  },
  {
   "cell_type": "code",
   "execution_count": 28,
   "outputs": [],
   "source": [
    "total_size = 0\n",
    "for _ in prepped_data:\n",
    "    total_size += 1"
   ],
   "metadata": {
    "collapsed": false,
    "ExecuteTime": {
     "end_time": "2023-11-25T08:43:10.601066Z",
     "start_time": "2023-11-25T08:43:10.324978200Z"
    }
   },
   "id": "5ae04c583a07d668"
  },
  {
   "cell_type": "code",
   "execution_count": 29,
   "outputs": [
    {
     "data": {
      "text/plain": "270"
     },
     "execution_count": 29,
     "metadata": {},
     "output_type": "execute_result"
    }
   ],
   "source": [
    "total_size"
   ],
   "metadata": {
    "collapsed": false,
    "ExecuteTime": {
     "end_time": "2023-11-25T08:43:10.602064400Z",
     "start_time": "2023-11-25T08:43:10.583085800Z"
    }
   },
   "id": "2e967c74d3675166"
  },
  {
   "cell_type": "code",
   "execution_count": 30,
   "outputs": [],
   "source": [
    "train_set = prepped_data.take(200)\n",
    "\n",
    "val_set = prepped_data.skip(200).take(30)\n",
    "\n",
    "test_set = prepped_data.skip(230)"
   ],
   "metadata": {
    "collapsed": false,
    "ExecuteTime": {
     "end_time": "2023-11-25T08:43:10.629056300Z",
     "start_time": "2023-11-25T08:43:10.591073400Z"
    }
   },
   "id": "53d363a4545fa600"
  },
  {
   "cell_type": "markdown",
   "source": [
    "**Modeling and Training**\n",
    "\n",
    "**1. Intent Classification**"
   ],
   "metadata": {
    "collapsed": false
   },
   "id": "3170b223494c3ce4"
  },
  {
   "cell_type": "code",
   "execution_count": null,
   "outputs": [],
   "source": [
    "final_model = models.create_intent_classifier(compile=False)"
   ],
   "metadata": {
    "collapsed": false
   },
   "id": "4ead001a78f407d3"
  },
  {
   "cell_type": "code",
   "execution_count": 32,
   "outputs": [
    {
     "name": "stdout",
     "output_type": "stream",
     "text": [
      "Model: \"model_3\"\n",
      "__________________________________________________________________________________________________\n",
      " Layer (type)                Output Shape                 Param #   Connected to                  \n",
      "==================================================================================================\n",
      " input_ids (InputLayer)      [(None, 40)]                 0         []                            \n",
      "                                                                                                  \n",
      " attention_mask (InputLayer  [(None, 40)]                 0         []                            \n",
      " )                                                                                                \n",
      "                                                                                                  \n",
      " tf_distil_bert_model_3 (TF  TFBaseModelOutput(last_hid   6636288   ['input_ids[0][0]',           \n",
      " DistilBertModel)            den_state=(None, 40, 768),   0          'attention_mask[0][0]']      \n",
      "                              hidden_states=None, atten                                           \n",
      "                             tions=None)                                                          \n",
      "                                                                                                  \n",
      " tf.__operators__.getitem_3  (None, 768)                  0         ['tf_distil_bert_model_3[0][0]\n",
      "  (SlicingOpLambda)                                                 ']                            \n",
      "                                                                                                  \n",
      " dropout_79 (Dropout)        (None, 768)                  0         ['tf.__operators__.getitem_3[0\n",
      "                                                                    ][0]']                        \n",
      "                                                                                                  \n",
      " dense_3 (Dense)             (None, 3)                    2307      ['dropout_79[0][0]']          \n",
      "                                                                                                  \n",
      "==================================================================================================\n",
      "Total params: 66365187 (253.16 MB)\n",
      "Trainable params: 66365187 (253.16 MB)\n",
      "Non-trainable params: 0 (0.00 Byte)\n",
      "__________________________________________________________________________________________________\n"
     ]
    }
   ],
   "source": [
    "final_model.summary()"
   ],
   "metadata": {
    "collapsed": false,
    "ExecuteTime": {
     "end_time": "2023-11-25T08:43:13.280126600Z",
     "start_time": "2023-11-25T08:43:13.187599800Z"
    }
   },
   "id": "2d01da0dbd738767"
  },
  {
   "cell_type": "code",
   "execution_count": null,
   "outputs": [],
   "source": [
    "root_log_dir = os.path.join(os.curdir, 'tb_logs', 'ir_training')\n",
    "def get_run_logdir():\n",
    "    import time\n",
    "    run_id = time.strftime('run_%H-%M')\n",
    "    run_logdir = os.path.join(root_log_dir, run_id)\n",
    "    return run_logdir"
   ],
   "metadata": {
    "collapsed": false
   },
   "id": "42a097d0c7c85f20"
  },
  {
   "cell_type": "code",
   "execution_count": 34,
   "outputs": [],
   "source": [
    "run_logdir = get_run_logdir()\n",
    "tb_callback = keras.callbacks.TensorBoard(log_dir=run_logdir)\n",
    "es_callback = keras.callbacks.EarlyStopping(patience=10, restore_best_weights=True)"
   ],
   "metadata": {
    "collapsed": false,
    "ExecuteTime": {
     "end_time": "2023-11-25T08:43:13.281124200Z",
     "start_time": "2023-11-25T08:43:13.188602400Z"
    }
   },
   "id": "36ac646a6b7ab2fd"
  },
  {
   "cell_type": "code",
   "execution_count": 35,
   "outputs": [],
   "source": [
    "max_lr = 0.0001  # Peak learning rate\n",
    "num_epochs = 50\n",
    "batch_size = 16\n",
    "num_samples = 270\n",
    "\n",
    "# Initialize the scheduler\n",
    "onecycle_lr_scheduler = text_prep.OneCycleLRSchedule(max_lr, total_steps=num_epochs * (num_samples // batch_size))"
   ],
   "metadata": {
    "collapsed": false,
    "ExecuteTime": {
     "end_time": "2023-11-25T08:43:13.564177700Z",
     "start_time": "2023-11-25T08:43:13.397643800Z"
    }
   },
   "id": "9a89bdf4bd88c493"
  },
  {
   "cell_type": "code",
   "execution_count": 36,
   "outputs": [
    {
     "name": "stdout",
     "output_type": "stream",
     "text": [
      "Epoch 1/5\n",
      "200/200 [==============================] - ETA: 0s - loss: 0.3144 - accuracy: 0.8753 - precision_4: 0.9161 - recall_4: 0.8425 - f1_score: 0.8777<tf.Variable 'learning_rate:0' shape=() dtype=float32, numpy=8.4625e-05>\n",
      "200/200 [==============================] - 48s 132ms/step - loss: 0.3144 - accuracy: 0.8753 - precision_4: 0.9161 - recall_4: 0.8425 - f1_score: 0.8777 - val_loss: 0.1545 - val_accuracy: 0.9521 - val_precision_4: 0.9657 - val_recall_4: 0.9375 - val_f1_score: 0.9514\n",
      "Epoch 2/5\n",
      "200/200 [==============================] - ETA: 0s - loss: 0.0995 - accuracy: 0.9669 - precision_4: 0.9700 - recall_4: 0.9600 - f1_score: 0.9650<tf.Variable 'learning_rate:0' shape=() dtype=float32, numpy=8.4625e-05>\n",
      "200/200 [==============================] - 18s 91ms/step - loss: 0.0995 - accuracy: 0.9669 - precision_4: 0.9700 - recall_4: 0.9600 - f1_score: 0.9650 - val_loss: 0.0452 - val_accuracy: 0.9875 - val_precision_4: 0.9895 - val_recall_4: 0.9792 - val_f1_score: 0.9843\n",
      "Epoch 3/5\n",
      "200/200 [==============================] - ETA: 0s - loss: 0.0535 - accuracy: 0.9816 - precision_4: 0.9840 - recall_4: 0.9784 - f1_score: 0.9812<tf.Variable 'learning_rate:0' shape=() dtype=float32, numpy=8.4625e-05>\n",
      "200/200 [==============================] - 18s 91ms/step - loss: 0.0535 - accuracy: 0.9816 - precision_4: 0.9840 - recall_4: 0.9784 - f1_score: 0.9812 - val_loss: 0.0304 - val_accuracy: 0.9896 - val_precision_4: 0.9896 - val_recall_4: 0.9896 - val_f1_score: 0.9896\n",
      "Epoch 4/5\n",
      "200/200 [==============================] - ETA: 0s - loss: 0.0347 - accuracy: 0.9903 - precision_4: 0.9912 - recall_4: 0.9884 - f1_score: 0.9898<tf.Variable 'learning_rate:0' shape=() dtype=float32, numpy=8.4625e-05>\n",
      "200/200 [==============================] - 19s 93ms/step - loss: 0.0347 - accuracy: 0.9903 - precision_4: 0.9912 - recall_4: 0.9884 - f1_score: 0.9898 - val_loss: 0.0148 - val_accuracy: 0.9958 - val_precision_4: 0.9958 - val_recall_4: 0.9917 - val_f1_score: 0.9937\n",
      "Epoch 5/5\n",
      "200/200 [==============================] - ETA: 0s - loss: 0.0298 - accuracy: 0.9887 - precision_4: 0.9897 - recall_4: 0.9881 - f1_score: 0.9889<tf.Variable 'learning_rate:0' shape=() dtype=float32, numpy=8.4625e-05>\n",
      "200/200 [==============================] - 18s 92ms/step - loss: 0.0298 - accuracy: 0.9887 - precision_4: 0.9897 - recall_4: 0.9881 - f1_score: 0.9889 - val_loss: 0.0111 - val_accuracy: 0.9958 - val_precision_4: 0.9958 - val_recall_4: 0.9958 - val_f1_score: 0.9958\n"
     ]
    }
   ],
   "source": [
    "history = final_model.fit(train_set, epochs=100, validation_data=val_set, callbacks=[es_callback, onecycle_lr_scheduler], use_multiprocessing=True)"
   ],
   "metadata": {
    "collapsed": false,
    "ExecuteTime": {
     "end_time": "2023-11-25T08:45:20.015660900Z",
     "start_time": "2023-11-25T08:43:17.750603900Z"
    }
   },
   "id": "9f7c19326d3eaf5a"
  },
  {
   "cell_type": "code",
   "execution_count": 43,
   "outputs": [],
   "source": [
    "final_weights = final_model.get_weights()"
   ],
   "metadata": {
    "collapsed": false,
    "ExecuteTime": {
     "end_time": "2023-11-25T08:47:29.694438400Z",
     "start_time": "2023-11-25T08:47:29.414194800Z"
    }
   },
   "id": "2559994bb82d595c"
  },
  {
   "cell_type": "markdown",
   "source": [
    "**Evaluation**"
   ],
   "metadata": {
    "collapsed": false
   },
   "id": "e2ab6437f2fae271"
  },
  {
   "cell_type": "code",
   "execution_count": 36,
   "outputs": [
    {
     "name": "stdout",
     "output_type": "stream",
     "text": [
      "40/40 [==============================] - 1s 31ms/step - loss: 0.0706 - accuracy: 0.9828 - precision_4: 0.9844 - recall_4: 0.9828 - f1_score: 0.9836\n",
      "Loss : 0.07061126083135605\n",
      "Accuracy : 0.9828125238418579\n",
      "Precision : 0.9843505620956421\n",
      "Recall : 0.9828125238418579\n",
      "F1 Score : 0.983580470085144\n"
     ]
    }
   ],
   "source": [
    "loss, accuracy, precision, recall, f1_score = final_model.evaluate(test_set)\n",
    "print(f'Loss : {loss}\\nAccuracy : {accuracy}\\nPrecision : {precision}\\nRecall : {recall}\\nF1 Score : {f1_score}')"
   ],
   "metadata": {
    "collapsed": false,
    "ExecuteTime": {
     "end_time": "2023-11-25T06:55:46.463476Z",
     "start_time": "2023-11-25T06:55:43.906140800Z"
    }
   },
   "id": "a72cf35430c1470"
  },
  {
   "cell_type": "code",
   "execution_count": 11,
   "outputs": [
    {
     "name": "stdout",
     "output_type": "stream",
     "text": [
      "1/1 [==============================] - 0s 28ms/step\n",
      "0\n"
     ]
    }
   ],
   "source": [
    "print(np.argmax(final_model.predict(\n",
    "    text_prep.preprocess_for_intent('get me a medium dark roast', intents=None, tokenizer=tokenizer, train=False))))"
   ],
   "metadata": {
    "collapsed": false,
    "ExecuteTime": {
     "end_time": "2023-11-25T08:59:39.459399700Z",
     "start_time": "2023-11-25T08:59:39.392976400Z"
    }
   },
   "id": "e1fa9ce40f3efe8"
  },
  {
   "cell_type": "markdown",
   "source": [
    "**Saving/Loading**"
   ],
   "metadata": {
    "collapsed": false
   },
   "id": "1e76a4fa8f46f2c8"
  },
  {
   "cell_type": "code",
   "execution_count": 65,
   "outputs": [],
   "source": [
    "# model.save_weights('resources/bert/ir_init_model.h5')\n",
    "final_model.save_weights('resources/bert/ir2_final_weights.h5')"
   ],
   "metadata": {
    "collapsed": false,
    "ExecuteTime": {
     "end_time": "2023-11-25T08:54:09.464893300Z",
     "start_time": "2023-11-25T08:54:07.384965Z"
    }
   },
   "id": "e179b794510940a0"
  },
  {
   "cell_type": "code",
   "execution_count": 23,
   "outputs": [],
   "source": [
    "text_prep.save_file('resources/gpt/data/tokenized_inputs.pkl', tokenized_inputs)\n",
    "prepped_data.save('resources/gpt/prepped_data_gen')"
   ],
   "metadata": {
    "collapsed": false,
    "ExecuteTime": {
     "end_time": "2023-11-25T03:27:33.783914600Z",
     "start_time": "2023-11-25T03:27:33.701116800Z"
    }
   },
   "id": "17feae0c52c6766f"
  },
  {
   "cell_type": "code",
   "execution_count": 8,
   "outputs": [],
   "source": [
    "with open('resources/gpt/data/tokenized_inputs.pkl', 'rb') as f:\n",
    "    tokenized_inputs = joblib.load(f)"
   ],
   "metadata": {
    "collapsed": false,
    "ExecuteTime": {
     "end_time": "2023-11-24T19:37:45.725648100Z",
     "start_time": "2023-11-24T19:37:44.153557300Z"
    }
   },
   "id": "f5282737de0ef373"
  },
  {
   "cell_type": "code",
   "execution_count": 5,
   "outputs": [],
   "source": [
    "final_model.load_weights('resources/bert/ir_final_weights.h5')"
   ],
   "metadata": {
    "collapsed": false,
    "ExecuteTime": {
     "end_time": "2023-11-25T08:55:22.749959100Z",
     "start_time": "2023-11-25T08:55:19.896322600Z"
    }
   },
   "id": "3310318ab0a1384f"
  },
  {
   "cell_type": "code",
   "execution_count": 46,
   "outputs": [
    {
     "data": {
      "text/plain": "['intent_weights.pkl']"
     },
     "execution_count": 46,
     "metadata": {},
     "output_type": "execute_result"
    }
   ],
   "source": [
    "joblib.dump(final_weights, 'intent_weights.pkl')"
   ],
   "metadata": {
    "collapsed": false,
    "ExecuteTime": {
     "end_time": "2023-11-25T08:48:41.439661300Z",
     "start_time": "2023-11-25T08:48:40.696871900Z"
    }
   },
   "id": "714a6aaa54366f48"
  },
  {
   "cell_type": "code",
   "execution_count": 7,
   "outputs": [],
   "source": [
    "with open('resources/bert/saved/intent_tokenizer.pkl', 'wb') as f:\n",
    "    joblib.dump(tokenizer, f)"
   ],
   "metadata": {
    "collapsed": false,
    "ExecuteTime": {
     "end_time": "2023-11-25T11:36:13.465625400Z",
     "start_time": "2023-11-25T11:36:13.165527300Z"
    }
   },
   "id": "e56284a9eda37f25"
  }
 ],
 "metadata": {
  "kernelspec": {
   "display_name": "Python 3",
   "language": "python",
   "name": "python3"
  },
  "language_info": {
   "codemirror_mode": {
    "name": "ipython",
    "version": 2
   },
   "file_extension": ".py",
   "mimetype": "text/x-python",
   "name": "python",
   "nbconvert_exporter": "python",
   "pygments_lexer": "ipython2",
   "version": "2.7.6"
  }
 },
 "nbformat": 4,
 "nbformat_minor": 5
}
