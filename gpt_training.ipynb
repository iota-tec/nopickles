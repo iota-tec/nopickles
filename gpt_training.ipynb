{
 "cells": [
  {
   "cell_type": "code",
   "execution_count": 1,
   "id": "initial_id",
   "metadata": {
    "collapsed": true,
    "ExecuteTime": {
     "end_time": "2023-11-21T19:17:07.435508100Z",
     "start_time": "2023-11-21T19:16:49.768358800Z"
    }
   },
   "outputs": [],
   "source": [
    "from transformers import GPT2Tokenizer, TFGPT2LMHeadModel\n",
    "import tensorflow as tf\n",
    "import os\n",
    "import joblib\n",
    "import re\n",
    "import os\n",
    "import numpy as np\n",
    "from src.training import gpt_trainer"
   ]
  },
  {
   "cell_type": "code",
   "execution_count": null,
   "outputs": [],
   "source": [
    "model = TFGPT2LMHeadModel.from_pretrained('gpt2')\n",
    "tokenizer = GPT2Tokenizer.from_pretrained('gpt2')"
   ],
   "metadata": {
    "collapsed": false
   },
   "id": "c19477c69ff5c57b"
  },
  {
   "cell_type": "markdown",
   "source": [
    "**Path Constants**"
   ],
   "metadata": {
    "collapsed": false
   },
   "id": "8f5f01a5e0d687f2"
  },
  {
   "cell_type": "code",
   "execution_count": 14,
   "outputs": [],
   "source": [
    "DATA_PATH = 'resources/gpt/data'\n",
    "ORDERS_PATH = os.path.join(DATA_PATH, 'orders.txt')\n",
    "ENQUIRY_PATH = os.path.join(DATA_PATH, 'enquiry.txt')\n",
    "COMPLAINS_PATH = os.path.join(DATA_PATH, 'complains.txt')"
   ],
   "metadata": {
    "collapsed": false,
    "ExecuteTime": {
     "end_time": "2023-11-21T19:40:02.292982500Z",
     "start_time": "2023-11-21T19:40:02.249208600Z"
    }
   },
   "id": "5c997b8629569d33"
  },
  {
   "cell_type": "markdown",
   "source": [
    "**Convert into Sequences**"
   ],
   "metadata": {
    "collapsed": false
   },
   "id": "97232d0e81e9ecaa"
  },
  {
   "cell_type": "code",
   "execution_count": 16,
   "outputs": [],
   "source": [
    "order_sets = gpt_trainer.process_conversational_data(ORDERS_PATH)\n",
    "complain_sets = gpt_trainer.process_conversational_data(COMPLAINS_PATH)\n",
    "enquiry_sets = gpt_trainer.process_conversational_data(ENQUIRY_PATH)"
   ],
   "metadata": {
    "collapsed": false,
    "ExecuteTime": {
     "end_time": "2023-11-21T19:40:07.735647900Z",
     "start_time": "2023-11-21T19:40:07.687395Z"
    }
   },
   "id": "d6cd0dbbe31b3baa"
  },
  {
   "cell_type": "code",
   "execution_count": 24,
   "outputs": [],
   "source": [
    "final_sequence_order = gpt_trainer.prepare_for_gpt2(order_sets, intent='order')\n",
    "final_sequence_enquiry = gpt_trainer.prepare_for_gpt2(order_sets, intent='enquiry')\n",
    "final_sequence_complain = gpt_trainer.prepare_for_gpt2(order_sets, intent='complain')"
   ],
   "metadata": {
    "collapsed": false,
    "ExecuteTime": {
     "end_time": "2023-11-21T19:42:38.738029900Z",
     "start_time": "2023-11-21T19:42:38.723943300Z"
    }
   },
   "id": "287e3cd041d18032"
  },
  {
   "cell_type": "code",
   "execution_count": 26,
   "outputs": [],
   "source": [
    "final_sequence = final_sequence_complain + final_sequence_enquiry + final_sequence_order"
   ],
   "metadata": {
    "collapsed": false,
    "ExecuteTime": {
     "end_time": "2023-11-21T19:48:04.631798Z",
     "start_time": "2023-11-21T19:48:04.586157700Z"
    }
   },
   "id": "523b76b4f189caae"
  },
  {
   "cell_type": "markdown",
   "source": [
    "**Tokenize**"
   ],
   "metadata": {
    "collapsed": false
   },
   "id": "8b7f1c7aca3f1bc8"
  },
  {
   "cell_type": "code",
   "execution_count": 46,
   "outputs": [],
   "source": [
    "tokenizer.pad_token = tokenizer.eos_token\n",
    "tokenized_inputs = tokenizer(final_sequence, truncation=True, padding=True, return_tensors=\"tf\")"
   ],
   "metadata": {
    "collapsed": false,
    "ExecuteTime": {
     "end_time": "2023-11-21T20:10:19.264724700Z",
     "start_time": "2023-11-21T20:10:17.578865200Z"
    }
   },
   "id": "b288b2c3602e1cf"
  },
  {
   "cell_type": "code",
   "execution_count": 56,
   "outputs": [],
   "source": [
    "def save_file(filepath, value):\n",
    "    with open(filepath, 'wb') as f:\n",
    "        joblib.dump(tokenized_inputs, f)"
   ],
   "metadata": {
    "collapsed": false,
    "ExecuteTime": {
     "end_time": "2023-11-21T20:16:54.623047400Z",
     "start_time": "2023-11-21T20:16:54.594093500Z"
    }
   },
   "id": "df7e72959ed311f7"
  },
  {
   "cell_type": "code",
   "execution_count": null,
   "outputs": [],
   "source": [
    "save_file('resources/gpt/data/tokenized_inputs.pkl', tokenized_inputs)"
   ],
   "metadata": {
    "collapsed": false
   },
   "id": "17feae0c52c6766f"
  }
 ],
 "metadata": {
  "kernelspec": {
   "display_name": "Python 3",
   "language": "python",
   "name": "python3"
  },
  "language_info": {
   "codemirror_mode": {
    "name": "ipython",
    "version": 2
   },
   "file_extension": ".py",
   "mimetype": "text/x-python",
   "name": "python",
   "nbconvert_exporter": "python",
   "pygments_lexer": "ipython2",
   "version": "2.7.6"
  }
 },
 "nbformat": 4,
 "nbformat_minor": 5
}
