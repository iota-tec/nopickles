{
 "cells": [
  {
   "cell_type": "code",
   "execution_count": null,
   "id": "initial_id",
   "metadata": {
    "collapsed": true
   },
   "outputs": [],
   "source": [
    "from transformers import GPT2Tokenizer, TFGPT2LMHeadModel\n",
    "import tensorflow as tf\n",
    "import os\n",
    "import joblib\n",
    "import re\n",
    "import os\n",
    "import numpy as np\n",
    "from src.training import gpt_trainer"
   ]
  },
  {
   "cell_type": "code",
   "execution_count": null,
   "outputs": [],
   "source": [
    "model = TFGPT2LMHeadModel.from_pretrained('gpt2')\n",
    "tokenizer = GPT2Tokenizer.from_pretrained('gpt2')"
   ],
   "metadata": {
    "collapsed": false
   },
   "id": "c19477c69ff5c57b"
  },
  {
   "cell_type": "markdown",
   "source": [
    "**Path Constants**"
   ],
   "metadata": {
    "collapsed": false
   },
   "id": "8f5f01a5e0d687f2"
  },
  {
   "cell_type": "code",
   "execution_count": 60,
   "outputs": [],
   "source": [
    "DATA_PATH = 'resources/gpt/data'\n",
    "ORDERS_PATH = os.path.join(DATA_PATH, 'orders.txt')\n",
    "ENQUIRY_PATH = os.path.join(DATA_PATH, 'enquiry.txt')\n",
    "COMPLAINS_PATH = os.path.join(DATA_PATH, 'complains.txt')"
   ],
   "metadata": {
    "collapsed": false,
    "ExecuteTime": {
     "end_time": "2023-11-21T20:45:59.114758600Z",
     "start_time": "2023-11-21T20:45:59.098761100Z"
    }
   },
   "id": "5c997b8629569d33"
  },
  {
   "cell_type": "markdown",
   "source": [
    "**Convert into Sequences**"
   ],
   "metadata": {
    "collapsed": false
   },
   "id": "97232d0e81e9ecaa"
  },
  {
   "cell_type": "code",
   "execution_count": 61,
   "outputs": [],
   "source": [
    "final_sequence_order = gpt_trainer.file_to_sequences(ORDERS_PATH, intent='order')\n",
    "final_sequence_enquiry = gpt_trainer.file_to_sequences(ENQUIRY_PATH, intent='enquiry')\n",
    "final_sequence_complain = gpt_trainer.file_to_sequences(COMPLAINS_PATH, intent='complain')"
   ],
   "metadata": {
    "collapsed": false,
    "ExecuteTime": {
     "end_time": "2023-11-21T20:46:05.124739400Z",
     "start_time": "2023-11-21T20:46:05.080738400Z"
    }
   },
   "id": "39dcbcbc894ed03"
  },
  {
   "cell_type": "code",
   "execution_count": 64,
   "outputs": [],
   "source": [
    "final_sequences = final_sequence_complain + final_sequence_enquiry + final_sequence_order"
   ],
   "metadata": {
    "collapsed": false,
    "ExecuteTime": {
     "end_time": "2023-11-21T20:46:19.529018200Z",
     "start_time": "2023-11-21T20:46:19.475464100Z"
    }
   },
   "id": "523b76b4f189caae"
  },
  {
   "cell_type": "markdown",
   "source": [
    "**Tokenize**"
   ],
   "metadata": {
    "collapsed": false
   },
   "id": "8b7f1c7aca3f1bc8"
  },
  {
   "cell_type": "code",
   "execution_count": 68,
   "outputs": [],
   "source": [
    "tokenizer.pad_token = tokenizer.eos_token\n",
    "tokenized_inputs = tokenizer(final_sequences, truncation=True, padding=True, return_tensors=\"tf\")"
   ],
   "metadata": {
    "collapsed": false,
    "ExecuteTime": {
     "end_time": "2023-11-21T20:46:58.590969500Z",
     "start_time": "2023-11-21T20:46:57.383349500Z"
    }
   },
   "id": "b288b2c3602e1cf"
  },
  {
   "cell_type": "code",
   "execution_count": 69,
   "outputs": [],
   "source": [
    "gpt_trainer.save_file('resources/gpt/data/tokenized_inputs.pkl', tokenized_inputs)"
   ],
   "metadata": {
    "collapsed": false,
    "ExecuteTime": {
     "end_time": "2023-11-21T20:47:26.743137700Z",
     "start_time": "2023-11-21T20:47:26.724136500Z"
    }
   },
   "id": "17feae0c52c6766f"
  }
 ],
 "metadata": {
  "kernelspec": {
   "display_name": "Python 3",
   "language": "python",
   "name": "python3"
  },
  "language_info": {
   "codemirror_mode": {
    "name": "ipython",
    "version": 2
   },
   "file_extension": ".py",
   "mimetype": "text/x-python",
   "name": "python",
   "nbconvert_exporter": "python",
   "pygments_lexer": "ipython2",
   "version": "2.7.6"
  }
 },
 "nbformat": 4,
 "nbformat_minor": 5
}
