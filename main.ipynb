{
 "cells": [
  {
   "cell_type": "code",
   "execution_count": 80,
   "id": "initial_id",
   "metadata": {
    "collapsed": true,
    "ExecuteTime": {
     "end_time": "2023-10-16T08:02:01.966317400Z",
     "start_time": "2023-10-16T08:02:01.947633300Z"
    }
   },
   "outputs": [],
   "source": [
    "import os\n",
    "import audio_mgmt\n",
    "import deepspeech\n",
    "import numpy as np\n",
    "import pandas as pd\n",
    "import wave\n",
    "from pydub import AudioSegment\n",
    "import mysql.connector\n",
    "import json\n",
    "import io"
   ]
  },
  {
   "cell_type": "code",
   "execution_count": 10,
   "outputs": [],
   "source": [
    "# Load Pre-trained Model\n",
    "ds = deepspeech.Model('Resources/deepspeech/pretrained/deepspeech-0.9.3-models.pbmm')"
   ],
   "metadata": {
    "collapsed": false,
    "ExecuteTime": {
     "end_time": "2023-09-30T07:20:41.542293500Z",
     "start_time": "2023-09-30T07:20:41.509545300Z"
    }
   },
   "id": "31bb655d09f5e282"
  },
  {
   "cell_type": "code",
   "execution_count": 13,
   "outputs": [],
   "source": [
    "# Load constants\n",
    "AUDIO_TRAINING_PATH = 'Resources/deepspeech/audio'"
   ],
   "metadata": {
    "collapsed": false,
    "ExecuteTime": {
     "end_time": "2023-09-30T07:22:31.464436Z",
     "start_time": "2023-09-30T07:22:31.448764300Z"
    }
   },
   "id": "4413e6ea951e0a9f"
  },
  {
   "cell_type": "markdown",
   "source": [
    "For training the DeepSpeech model with custom examples, we need to feed it audio files. Let us create some functions for reading and preprocessing audio files for training purposes, and storing them into database.\n",
    "\n",
    "Let's start with creating a cursor for testing purposes."
   ],
   "metadata": {
    "collapsed": false
   },
   "id": "f30421d4715b94ac"
  },
  {
   "cell_type": "code",
   "execution_count": 77,
   "outputs": [],
   "source": [
    "conn = mysql.connector.connect(\n",
    "    host='localhost',\n",
    "    user='root',\n",
    "    password='0301sonaL',\n",
    "    database='chato_audio',\n",
    "    auth_plugin='mysql_native_password'\n",
    ")\n",
    "\n",
    "cursor = conn.cursor()"
   ],
   "metadata": {
    "collapsed": false,
    "ExecuteTime": {
     "end_time": "2023-10-16T08:01:38.667296700Z",
     "start_time": "2023-10-16T08:01:38.648298300Z"
    }
   },
   "id": "1590898690fb6e6d"
  },
  {
   "cell_type": "markdown",
   "source": [
    "**Read all transcripts into a list**"
   ],
   "metadata": {
    "collapsed": false
   },
   "id": "ebe1ffcb31eb2ec6"
  },
  {
   "cell_type": "code",
   "execution_count": 78,
   "outputs": [],
   "source": [
    "with open(os.path.join(AUDIO_TRAINING_PATH, 'transcripts.txt')) as fh:\n",
    "    transcripts = fh.readlines()"
   ],
   "metadata": {
    "collapsed": false,
    "ExecuteTime": {
     "end_time": "2023-10-16T08:01:38.801959600Z",
     "start_time": "2023-10-16T08:01:38.780959400Z"
    }
   },
   "id": "ea9c4fda8fa839dd"
  },
  {
   "cell_type": "markdown",
   "source": [
    "**Store into database**"
   ],
   "metadata": {
    "collapsed": false
   },
   "id": "1c0292cb17e66bc7"
  },
  {
   "cell_type": "code",
   "execution_count": 81,
   "outputs": [],
   "source": [
    "file = os.path.join(AUDIO_TRAINING_PATH, '002.wav')\n",
    "audio_mgmt.store_into_database(file, transcripts[1], cursor)\n",
    "conn.commit()"
   ],
   "metadata": {
    "collapsed": false,
    "ExecuteTime": {
     "end_time": "2023-10-16T08:02:05.154242200Z",
     "start_time": "2023-10-16T08:02:05.119405300Z"
    }
   },
   "id": "4611778d35c18e9"
  },
  {
   "cell_type": "markdown",
   "source": [
    "**Read from database**"
   ],
   "metadata": {
    "collapsed": false
   },
   "id": "62219cf1669aef34"
  },
  {
   "cell_type": "code",
   "execution_count": 88,
   "outputs": [],
   "source": [
    "row = audio_mgmt.read_wav_from_database(4, cursor)"
   ],
   "metadata": {
    "collapsed": false,
    "ExecuteTime": {
     "end_time": "2023-10-16T08:02:49.405577500Z",
     "start_time": "2023-10-16T08:02:49.396512100Z"
    }
   },
   "id": "9e03fbaed470d2fd"
  },
  {
   "cell_type": "markdown",
   "source": [
    "**Transcribe using DeepSpeech**"
   ],
   "metadata": {
    "collapsed": false
   },
   "id": "af1a22ef8af78898"
  },
  {
   "cell_type": "code",
   "execution_count": 89,
   "outputs": [
    {
     "data": {
      "text/plain": "'when nto tri foo get on the danse floot year get on the das flol'"
     },
     "execution_count": 89,
     "metadata": {},
     "output_type": "execute_result"
    }
   ],
   "source": [
    "ds.stt(row[0])"
   ],
   "metadata": {
    "collapsed": false,
    "ExecuteTime": {
     "end_time": "2023-10-16T08:02:54.812199200Z",
     "start_time": "2023-10-16T08:02:51.008342Z"
    }
   },
   "id": "e6daa70ec1627822"
  }
 ],
 "metadata": {
  "kernelspec": {
   "display_name": "Python 3",
   "language": "python",
   "name": "python3"
  },
  "language_info": {
   "codemirror_mode": {
    "name": "ipython",
    "version": 2
   },
   "file_extension": ".py",
   "mimetype": "text/x-python",
   "name": "python",
   "nbconvert_exporter": "python",
   "pygments_lexer": "ipython2",
   "version": "2.7.6"
  }
 },
 "nbformat": 4,
 "nbformat_minor": 5
}
