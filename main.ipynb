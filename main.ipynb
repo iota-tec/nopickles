{
 "cells": [
  {
   "cell_type": "code",
   "execution_count": 9,
   "id": "initial_id",
   "metadata": {
    "collapsed": true,
    "ExecuteTime": {
     "end_time": "2023-09-30T07:20:41.542293500Z",
     "start_time": "2023-09-30T07:20:41.478371300Z"
    }
   },
   "outputs": [],
   "source": [
    "import deepspeech\n",
    "import numpy as np\n",
    "import pandas as pd\n",
    "import wave\n",
    "from pydub import AudioSegment\n",
    "import mysql.connector\n",
    "import json\n",
    "import io"
   ]
  },
  {
   "cell_type": "code",
   "execution_count": 10,
   "outputs": [],
   "source": [
    "# Load Pre-trained Model\n",
    "ds = deepspeech.Model('Resources/deepspeech/pretrained/deepspeech-0.9.3-models.pbmm')"
   ],
   "metadata": {
    "collapsed": false,
    "ExecuteTime": {
     "end_time": "2023-09-30T07:20:41.542293500Z",
     "start_time": "2023-09-30T07:20:41.509545300Z"
    }
   },
   "id": "31bb655d09f5e282"
  },
  {
   "cell_type": "code",
   "execution_count": 13,
   "outputs": [],
   "source": [
    "# Load constants\n",
    "AUDIO_TRAINING_PATH = 'Resources/deepspeech/audio'"
   ],
   "metadata": {
    "collapsed": false,
    "ExecuteTime": {
     "end_time": "2023-09-30T07:22:31.464436Z",
     "start_time": "2023-09-30T07:22:31.448764300Z"
    }
   },
   "id": "4413e6ea951e0a9f"
  },
  {
   "cell_type": "markdown",
   "source": [
    "For training the DeepSpeech model with custom examples, we need to feed it audio files. Let us create some functions for reading and preprocessing audio files for training purposes, and storing them into database."
   ],
   "metadata": {
    "collapsed": false
   },
   "id": "f30421d4715b94ac"
  },
  {
   "cell_type": "code",
   "execution_count": 14,
   "outputs": [],
   "source": [
    "# Convert audio files to 16K frames and 1 channel (to be compatible with our pre-trained model)\n",
    "def convert_to_16k(filename):\n",
    "    if filename.endswith('.wav'):\n",
    "        audio = AudioSegment.from_wav(filename)\n",
    "        return audio.set_frame_rate(16000).set_channels(1)      # Returns audio buffer (bytes)"
   ],
   "metadata": {
    "collapsed": false,
    "ExecuteTime": {
     "end_time": "2023-09-30T07:22:34.453813300Z",
     "start_time": "2023-09-30T07:22:34.421881800Z"
    }
   },
   "id": "14afec177686a992"
  },
  {
   "cell_type": "code",
   "execution_count": 15,
   "outputs": [],
   "source": [
    "# Store audio files into training database\n",
    "def store_into_database(file, cursor):\n",
    "    query = 'INSERT INTO audio_files(audio_data, meta_data) VALUES (%s, %s)'\n",
    "    \n",
    "    audio = convert_to_16k(file)\n",
    "    \n",
    "    # Convert audio into bytes\n",
    "    buffer = io.BytesIO()\n",
    "    audio.export(buffer, format='wav')\n",
    "    audio_bytes = buffer.getvalue()\n",
    "    \n",
    "    meta_data = json.dumps({'filename':file,\n",
    "                            'length':len(audio),\n",
    "                            'frame_rate':audio.frame_rate,\n",
    "                            'channels':audio.channels})\n",
    "        \n",
    "    val = (audio_bytes, meta_data)\n",
    "    \n",
    "    cursor.execute(query, val)\n",
    "    #db.commit() outside the loop"
   ],
   "metadata": {
    "collapsed": false,
    "ExecuteTime": {
     "end_time": "2023-09-30T07:22:35.923629400Z",
     "start_time": "2023-09-30T07:22:35.892381500Z"
    }
   },
   "id": "c6c33d088cb59f"
  },
  {
   "cell_type": "code",
   "execution_count": 18,
   "outputs": [],
   "source": [
    "# Read audio files from database\n",
    "def read_wav_from_database(file_id, cursor):\n",
    "    # Read Audio file frames\n",
    "    query = f'SELECT audio_data, meta_data FROM audio_files WHERE id={file_id}'\n",
    "    cursor.execute(query)\n",
    "    row = cursor.fetchone()\n",
    "    \n",
    "    if row is None:\n",
    "        raise FileNotFoundError\n",
    "    \n",
    "    audio_bytes, meta_data_str = row\n",
    "    meta_data = json.loads(meta_data_str)\n",
    "    \n",
    "    audio_array = np.frombuffer(audio_bytes, np.int16)\n",
    "    \n",
    "    return audio_array, meta_data['frame_rate']     # Returns (np.ndarray, json)"
   ],
   "metadata": {
    "collapsed": false,
    "ExecuteTime": {
     "end_time": "2023-09-30T07:31:00.854357700Z",
     "start_time": "2023-09-30T07:31:00.838702200Z"
    }
   },
   "id": "a0bc0d0509e77855"
  },
  {
   "cell_type": "code",
   "execution_count": null,
   "outputs": [],
   "source": [
    "    "
   ],
   "metadata": {
    "collapsed": false,
    "ExecuteTime": {
     "start_time": "2023-09-30T07:20:41.572439500Z"
    }
   },
   "id": "4611778d35c18e9"
  }
 ],
 "metadata": {
  "kernelspec": {
   "display_name": "Python 3",
   "language": "python",
   "name": "python3"
  },
  "language_info": {
   "codemirror_mode": {
    "name": "ipython",
    "version": 2
   },
   "file_extension": ".py",
   "mimetype": "text/x-python",
   "name": "python",
   "nbconvert_exporter": "python",
   "pygments_lexer": "ipython2",
   "version": "2.7.6"
  }
 },
 "nbformat": 4,
 "nbformat_minor": 5
}
