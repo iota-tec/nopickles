{
 "cells": [
  {
   "cell_type": "code",
   "execution_count": 1,
   "id": "initial_id",
   "metadata": {
    "collapsed": true,
    "ExecuteTime": {
     "end_time": "2023-11-06T21:23:45.928401800Z",
     "start_time": "2023-11-06T21:23:44.335104100Z"
    }
   },
   "outputs": [],
   "source": [
    "import os\n",
    "import sys\n",
    "import deepspeech\n",
    "import numpy as np\n",
    "import pandas as pd\n",
    "import wave\n",
    "from pydub import AudioSegment\n",
    "import mysql.connector\n",
    "import json\n",
    "import io\n",
    "import shutil\n",
    "from datasets import load_dataset"
   ]
  },
  {
   "cell_type": "code",
   "execution_count": 2,
   "outputs": [],
   "source": [
    "from src import face_mgmt, audio_mgmt"
   ],
   "metadata": {
    "collapsed": false,
    "ExecuteTime": {
     "end_time": "2023-11-06T21:23:48.329037Z",
     "start_time": "2023-11-06T21:23:45.929401800Z"
    }
   },
   "id": "e78fa7aef2c5a4f6"
  },
  {
   "cell_type": "code",
   "execution_count": 3,
   "outputs": [],
   "source": [
    "# Load Pre-trained Model\n",
    "ds = deepspeech.Model('resources/deepspeech/pretrained/deepspeech-0.9.3-models.pbmm')"
   ],
   "metadata": {
    "collapsed": false,
    "ExecuteTime": {
     "end_time": "2023-11-06T21:23:48.374046600Z",
     "start_time": "2023-11-06T21:23:48.327036200Z"
    }
   },
   "id": "31bb655d09f5e282"
  },
  {
   "cell_type": "code",
   "execution_count": 4,
   "outputs": [],
   "source": [
    "# Load constants\n",
    "AUDIO_TRAINING_PATH = 'resources/deepspeech/audio'"
   ],
   "metadata": {
    "collapsed": false,
    "ExecuteTime": {
     "end_time": "2023-11-06T21:23:48.374046600Z",
     "start_time": "2023-11-06T21:23:48.361042700Z"
    }
   },
   "id": "4413e6ea951e0a9f"
  },
  {
   "cell_type": "markdown",
   "source": [
    "For training the DeepSpeech model with custom examples, we need to feed it audio files. Let us create some functions for reading and preprocessing audio files for training purposes, and storing them into database.\n",
    "\n",
    "Let's start with creating a cursor for testing purposes."
   ],
   "metadata": {
    "collapsed": false
   },
   "id": "f30421d4715b94ac"
  },
  {
   "cell_type": "code",
   "execution_count": 5,
   "outputs": [],
   "source": [
    "conn_audio = mysql.connector.connect(\n",
    "    host='localhost',\n",
    "    user='root',\n",
    "    password='0301sonaL',\n",
    "    database='chato_audio',\n",
    "    auth_plugin='mysql_native_password'\n",
    ")\n",
    "\n",
    "cursor_audio = conn_audio.cursor()"
   ],
   "metadata": {
    "collapsed": false,
    "ExecuteTime": {
     "end_time": "2023-11-06T21:23:50.182953400Z",
     "start_time": "2023-11-06T21:23:50.131352800Z"
    }
   },
   "id": "1590898690fb6e6d"
  },
  {
   "cell_type": "markdown",
   "source": [
    "**Read all transcripts into a list**"
   ],
   "metadata": {
    "collapsed": false
   },
   "id": "ebe1ffcb31eb2ec6"
  },
  {
   "cell_type": "code",
   "execution_count": 12,
   "outputs": [],
   "source": [
    "with open(os.path.join('resources/deepspeech/audio', 'kartik_manisha_transcripts.txt')) as fh:\n",
    "    transcripts = fh.readlines()"
   ],
   "metadata": {
    "collapsed": false,
    "ExecuteTime": {
     "end_time": "2023-11-06T21:32:26.939892400Z",
     "start_time": "2023-11-06T21:32:26.919871500Z"
    }
   },
   "id": "ea9c4fda8fa839dd"
  },
  {
   "cell_type": "markdown",
   "source": [
    "**Store into database**"
   ],
   "metadata": {
    "collapsed": false
   },
   "id": "1c0292cb17e66bc7"
  },
  {
   "cell_type": "code",
   "execution_count": 13,
   "outputs": [
    {
     "data": {
      "text/plain": "['I need one classic sandwich combo with fries and a drink.\\n',\n 'i need 2 piece signature chicken combo with fries and a bottle of water.\\n',\n 'I want 3-piece tender combo with fries and a drink.\\n',\n 'I will have one deluxe sandwich combo with fries.\\n',\n 'We want 12 piece nuggets combo with sweet heat sauce and fries and a fountain pop.\\n',\n 'We will have 8 piece chicken meal. What are the options for 1 large side? We will have 1 large fries . and it comes with 4 biscuits.\\n',\n 'Hey howâ€™s the day going? I will have 8 piece nuggets combo with fries. does the biscuit is included in it.and a drink.\\n',\n 'We will have 36 piece of nuggets only.no dipping sauce.\\n',\n 'Today we want to have 16 piece of chicken . it comes with 3 large sides right and 10 biscuits. We will have 2 large fries and 1 large gravy . \\n',\n 'I need one classic sandwich combo with gravy and a drink.\\n',\n 'i need 2 piece signature chicken combo with gravy and a bottle of water.\\n',\n 'I want 3-piece tender combo with gravy and a bottle of water.\\n',\n 'I will have one deluxe sandwich combo with gravy.\\n',\n 'We want 12 piece nuggets combo with buffalo sauce and gravy and a fountain pop.\\n',\n 'We will have 8 piece chicken meal. What are the options for 1 large side?  ok We will have 1 large gravy . and 4 biscuits.\\n',\n 'Hey howâ€™s the day going. I will have 8 piece nuggets combo with gravy. does the biscuit is included in it.and a drink.\\n',\n 'We will have 36 piece of nuggets only.no dipping sauce.\\n',\n 'Today we want to have 16 piece of chicken . it comes with 3 large sides right and 10 biscuits. We will have 2 large gravy , 1 large mashed .\\n',\n 'I need one classic sandwich combo with mashed  and a drink.\\n',\n 'i need 2 piece signature chicken combo with mashed  and a bottle of water.\\n',\n 'I want 3-piece tender combo with mashed  and a drink.\\n',\n 'I will have one deluxe sandwich combo with mashed .\\n',\n 'We want 12 piece nuggets combo with sweet heat sauce and mashed  and a fountain pop.\\n',\n 'We will have 8 piece chicken meal. What are the options for 1 large side? We will have 1 large mashed  . and it comes with 4 biscuits.\\n',\n 'Hey howâ€™s the day going. I will have 8 piece nuggets combo with mashed . does the biscuit is included in it.and a drink.\\n',\n 'We will have 36 piece of nuggets only.no dipping sauce.\\n',\n 'Today we want to have 16 piece of chicken . it comes with 3 large sides right and 10 biscuits. We will have 2 large mashed  , 1 fries .\\n',\n 'I need one classic sandwich combo with mac and cheese  and a drink.\\n',\n 'i need 2 piece signature chicken combo with mac and cheese  and a bottle of water.\\n',\n 'I want 3-piece tender combo with mac and cheese  and a drink.\\n',\n 'I will have one deluxe sandwich combo with mac and cheese .\\n',\n 'We want 12 piece nuggets combo with sweet heat sauce and mac and cheese  and a fountain pop.\\n',\n 'We will have 8 piece chicken meal. What are the options for 1 large side? We will have 1 large mac and cheese  . and it comes with 4 biscuits.\\n',\n 'Hey howâ€™s the day going. I will have 8 piece nuggets combo with mac and cheese . does the biscuit is included in it.and a drink.\\n',\n 'We will have 36 piece of nuggets only.no dipping sauce.\\n',\n 'Today we want to have 16 piece of chicken . it comes with 3 large sides right and 10 biscuits. We will have 2 large mac and cheese  , 1 fries .\\n',\n 'I need one classic sandwich combo with beans and rice  and a drink.\\n',\n 'i need 2 piece signature chicken combo with beans and rice  and a bottle of water.\\n',\n 'I want 3-piece tender combo with beans and rice  and a drink.\\n',\n 'I will have one deluxe sandwich combo with beans and rice .\\n',\n 'We want 12 piece nuggets combo with sweet heat sauce and beans and rice  and a fountain pop.\\n',\n 'We will have 8 piece chicken meal. What are the options for 1 large side? We will have 1 large beans and rice  . and it comes with 4 biscuits.\\n',\n 'Hey howâ€™s the day going. I will have 8 piece nuggets combo with beans and rice . does the biscuit is included in it.and a drink.\\n',\n 'We will have 36 piece of nuggets only.no dipping sauce.\\n',\n 'Today we want to have 16 piece of chicken . it comes with 3 large sides right and 10 biscuits. We will have 2 large beans and rice  , 1 fries .\\n',\n 'I need one classic sandwich combo with onion rings  and a drink.\\n',\n 'i need 2 piece signature chicken combo with onion rings  and a bottle of water.\\n',\n 'I want 3-piece tender combo with onion rings  and a drink.\\n',\n 'I will have one deluxe sandwich combo with onion rings .\\n',\n 'We want 12 piece nuggets combo with sweet heat sauce and onion rings  and a fountain pop.\\n',\n 'We will have 8 piece chicken meal. What are the options for 1 large side? We will have 1 large onion rings  . and it comes with 4 biscuits.\\n',\n 'Hey howâ€™s the day going. I will have 8 piece nuggets combo with onion rings . does the biscuit is included in it.and a drink.\\n',\n 'We will have 36 piece of nuggets only.no dipping sauce.\\n',\n 'Today we want to have 16 piece of chicken . it comes with 3 large sides right and 10 biscuits. We will have 2 large onion rings  , 1 fries .\\n',\n '\\n',\n '\\n',\n '\\n']"
     },
     "execution_count": 13,
     "metadata": {},
     "output_type": "execute_result"
    }
   ],
   "source": [
    "transcripts"
   ],
   "metadata": {
    "collapsed": false,
    "ExecuteTime": {
     "end_time": "2023-11-06T21:32:28.836366500Z",
     "start_time": "2023-11-06T21:32:28.825367200Z"
    }
   },
   "id": "b165afa0744ffe46"
  },
  {
   "cell_type": "code",
   "execution_count": 15,
   "outputs": [],
   "source": [
    "file = os.path.join('resources/deepspeech/audio/kartik_manisha_audio/004.wav')\n",
    "audio_mgmt.store_into_database(file, transcripts[3], cursor_audio)\n",
    "conn_audio.commit()"
   ],
   "metadata": {
    "collapsed": false,
    "ExecuteTime": {
     "end_time": "2023-11-06T21:32:49.558525200Z",
     "start_time": "2023-11-06T21:32:49.487499700Z"
    }
   },
   "id": "4611778d35c18e9"
  },
  {
   "cell_type": "markdown",
   "source": [
    "**Read from database**"
   ],
   "metadata": {
    "collapsed": false
   },
   "id": "62219cf1669aef34"
  },
  {
   "cell_type": "code",
   "execution_count": 20,
   "outputs": [],
   "source": [
    "row = audio_mgmt.read_wav_from_database(6, cursor=cursor_audio)"
   ],
   "metadata": {
    "collapsed": false,
    "ExecuteTime": {
     "end_time": "2023-10-17T02:50:44.192078100Z",
     "start_time": "2023-10-17T02:50:44.172885300Z"
    }
   },
   "id": "9e03fbaed470d2fd"
  },
  {
   "cell_type": "code",
   "execution_count": 21,
   "outputs": [
    {
     "data": {
      "text/plain": "array([ 18770,  17990, -25692, ...,      7,      3,     -1], dtype=int16)"
     },
     "execution_count": 21,
     "metadata": {},
     "output_type": "execute_result"
    }
   ],
   "source": [
    "row[0]"
   ],
   "metadata": {
    "collapsed": false,
    "ExecuteTime": {
     "end_time": "2023-10-17T02:50:44.779114100Z",
     "start_time": "2023-10-17T02:50:44.766117100Z"
    }
   },
   "id": "9a6dfd1f3ef5def5"
  },
  {
   "cell_type": "markdown",
   "source": [
    "**Transcribe using DeepSpeech**"
   ],
   "metadata": {
    "collapsed": false
   },
   "id": "af1a22ef8af78898"
  },
  {
   "cell_type": "code",
   "execution_count": 22,
   "outputs": [
    {
     "name": "stdout",
     "output_type": "stream",
     "text": [
      "Actual:\t [ 18770  17990 -25692 ...      7      3     -1]\n",
      "Predicted:\t hey i won one capitine of the willavel\n"
     ]
    }
   ],
   "source": [
    "y_pred = ds.stt(row[0])\n",
    "y = row[0]\n",
    "print('Actual:\\t', y)\n",
    "print('Predicted:\\t', y_pred)"
   ],
   "metadata": {
    "collapsed": false,
    "ExecuteTime": {
     "end_time": "2023-10-17T02:50:56.079897600Z",
     "start_time": "2023-10-17T02:50:53.183301Z"
    }
   },
   "id": "e6daa70ec1627822"
  },
  {
   "cell_type": "markdown",
   "source": [
    "**Synthsize Text**"
   ],
   "metadata": {
    "collapsed": false
   },
   "id": "758bd1122d03d908"
  },
  {
   "cell_type": "code",
   "execution_count": 2,
   "outputs": [],
   "source": [
    "audio_mgmt.speak('That will be 4$ 45 cents, to the window please')"
   ],
   "metadata": {
    "collapsed": false,
    "ExecuteTime": {
     "end_time": "2023-10-19T07:04:26.436961100Z",
     "start_time": "2023-10-19T07:04:22.582038500Z"
    }
   },
   "id": "9c99558412181dd2"
  },
  {
   "cell_type": "markdown",
   "source": [
    "**Store Image into database**"
   ],
   "metadata": {
    "collapsed": false
   },
   "id": "902431c1430acd9c"
  },
  {
   "cell_type": "code",
   "execution_count": 6,
   "outputs": [],
   "source": [
    "conn_face = mysql.connector.connect(\n",
    "    host='localhost',\n",
    "    user='root',\n",
    "    password='0301sonaL',\n",
    "    database='chato_customer',\n",
    "    auth_plugin='mysql_native_password'\n",
    ")\n",
    "\n",
    "cursor_face = conn_face.cursor()"
   ],
   "metadata": {
    "collapsed": false,
    "ExecuteTime": {
     "end_time": "2023-10-21T18:53:08.538609200Z",
     "start_time": "2023-10-21T18:53:08.514670300Z"
    }
   },
   "id": "e594a0f7ef90888"
  },
  {
   "cell_type": "code",
   "execution_count": 7,
   "outputs": [],
   "source": [
    "test_face = 'resources/temp_faces/Anshu.jpg'\n",
    "face_mgmt.store_into_database(test_face, cursor=cursor_face)"
   ],
   "metadata": {
    "collapsed": false,
    "ExecuteTime": {
     "end_time": "2023-10-21T18:53:21.825277400Z",
     "start_time": "2023-10-21T18:53:10.639171200Z"
    }
   },
   "id": "4ce0516e689cdca5"
  },
  {
   "cell_type": "code",
   "execution_count": 8,
   "outputs": [],
   "source": [
    "conn_face.commit()"
   ],
   "metadata": {
    "collapsed": false,
    "ExecuteTime": {
     "end_time": "2023-10-21T18:53:26.753147100Z",
     "start_time": "2023-10-21T18:53:26.741147600Z"
    }
   },
   "id": "8be3e39fe239ac1b"
  },
  {
   "cell_type": "markdown",
   "source": [
    "**Test Listen**"
   ],
   "metadata": {
    "collapsed": false
   },
   "id": "f137a7f6db23ec00"
  },
  {
   "cell_type": "code",
   "execution_count": 6,
   "outputs": [
    {
     "name": "stdout",
     "output_type": "stream",
     "text": [
      "Listening...\n"
     ]
    }
   ],
   "source": [
    "speech = audio_mgmt.listen()"
   ],
   "metadata": {
    "collapsed": false,
    "ExecuteTime": {
     "end_time": "2023-10-24T19:39:07.853091700Z",
     "start_time": "2023-10-24T19:39:01.663710400Z"
    }
   },
   "id": "b0b21edc10a2bc06"
  },
  {
   "cell_type": "code",
   "execution_count": 7,
   "outputs": [
    {
     "data": {
      "text/plain": "array([  0,   0,  -1, ..., -13, -39, -60], dtype=int16)"
     },
     "execution_count": 7,
     "metadata": {},
     "output_type": "execute_result"
    }
   ],
   "source": [
    "speech"
   ],
   "metadata": {
    "collapsed": false,
    "ExecuteTime": {
     "end_time": "2023-10-24T19:39:12.075221Z",
     "start_time": "2023-10-24T19:39:12.045661800Z"
    }
   },
   "id": "c882a454af146966"
  },
  {
   "cell_type": "code",
   "execution_count": 8,
   "outputs": [
    {
     "data": {
      "text/plain": "'wit up ed anyon an i de i tet to ma'"
     },
     "execution_count": 8,
     "metadata": {},
     "output_type": "execute_result"
    }
   ],
   "source": [
    "ds.stt(speech)"
   ],
   "metadata": {
    "collapsed": false,
    "ExecuteTime": {
     "end_time": "2023-10-24T19:39:27.088893200Z",
     "start_time": "2023-10-24T19:39:21.703952400Z"
    }
   },
   "id": "c7652debd09bd808"
  },
  {
   "cell_type": "markdown",
   "source": [
    "**Prepare Data**"
   ],
   "metadata": {
    "collapsed": false
   },
   "id": "fd9ad5fdaa60e1d3"
  },
  {
   "cell_type": "code",
   "execution_count": 4,
   "outputs": [],
   "source": [
    "# Change the indices in split parameter according to `current_i`. `current_i` represents the number of audio files written so far.\n",
    "common_voice_subset = load_dataset('mozilla-foundation/common_voice_11_0', 'en', split='train[:2400]')"
   ],
   "metadata": {
    "collapsed": false,
    "ExecuteTime": {
     "end_time": "2023-10-27T11:02:40.272825500Z",
     "start_time": "2023-10-27T11:02:35.381074700Z"
    }
   },
   "id": "39dfbb3730d415f5"
  },
  {
   "cell_type": "code",
   "execution_count": 8,
   "outputs": [],
   "source": [
    "# 2400 files have been written. Change `current_i` correspondingly when calling this function.\n",
    "def move_audio_files(current_i, dataset):\n",
    "    for filename in dataset['path']:\n",
    "        shutil.copy(file, f'{AUDIO_TRAINING_PATH}/common_voice_audio/{current_i}.mp3')\n",
    "        current_i+=1"
   ],
   "metadata": {
    "collapsed": false,
    "ExecuteTime": {
     "end_time": "2023-10-27T11:15:37.782140400Z",
     "start_time": "2023-10-27T11:15:37.761846700Z"
    }
   },
   "id": "c9133a27c17e02a8"
  },
  {
   "cell_type": "code",
   "execution_count": 11,
   "outputs": [],
   "source": [
    "def write_transcripts(filename=f'{AUDIO_TRAINING_PATH}/common_voice_transcripts.txt',*, dataset):\n",
    "    with open(filename, 'a') as fh:\n",
    "        for line in dataset['sentence']:\n",
    "            fh.write(line+'\\n')"
   ],
   "metadata": {
    "collapsed": false,
    "ExecuteTime": {
     "end_time": "2023-10-27T11:16:05.074829200Z",
     "start_time": "2023-10-27T11:16:05.057677400Z"
    }
   },
   "id": "d6b65c6a18d56c8c"
  },
  {
   "cell_type": "code",
   "execution_count": null,
   "outputs": [],
   "source": [],
   "metadata": {
    "collapsed": false
   },
   "id": "6c7bd231373c74c6"
  }
 ],
 "metadata": {
  "kernelspec": {
   "display_name": "Python 3",
   "language": "python",
   "name": "python3"
  },
  "language_info": {
   "codemirror_mode": {
    "name": "ipython",
    "version": 2
   },
   "file_extension": ".py",
   "mimetype": "text/x-python",
   "name": "python",
   "nbconvert_exporter": "python",
   "pygments_lexer": "ipython2",
   "version": "2.7.6"
  }
 },
 "nbformat": 4,
 "nbformat_minor": 5
}
